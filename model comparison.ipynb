{
  "cells": [
    {
      "cell_type": "code",
      "execution_count": 135,
      "metadata": {
        "id": "-3Y5MYctCxwE"
      },
      "outputs": [],
      "source": [
        "# MODEL COMPARISON!"
      ]
    },
    {
      "cell_type": "code",
      "execution_count": 136,
      "metadata": {
        "id": "0ol4IvhsbeFA"
      },
      "outputs": [],
      "source": [
        "# MODEL COMPARISON\n",
        "\n",
        "env = 'colab'  # 'colab' only\n",
        "assert env == 'colab'\n",
        "\n",
        "# using_gpu = False  # True or False\n",
        "\n",
        "# saving_metrics_report = True\n",
        "# saving_train_times = True\n",
        "# saving_histories = True\n",
        "\n",
        "# test_percentage = 0.99\n",
        "\n",
        "git_download_path = 'https://raw.githubusercontent.com/PashaIanko/Covid19Classifier/model_comparison/'\n",
        "final_models_path = '/content/drive/MyDrive/UNIPD/HDA/Project/SavedModels/SuccessfulTrialsNoCLAHE/'\n",
        "# Number of trial for this day (-> directory/24-01-22/trial-{n_trial}/ -- example of directories)"
      ]
    },
    {
      "cell_type": "code",
      "execution_count": 137,
      "metadata": {
        "id": "2zigDf3JCxwI"
      },
      "outputs": [],
      "source": [
        "names = [\n",
        "         # Names of final, fully-fit models for comparison\n",
        "         'CNN',\n",
        "         'Dropout',\n",
        "         'AlexNet'\n",
        "]\n",
        "\n",
        "# date_ = '2022-01-31'\n",
        "# n_trial = 1"
      ]
    },
    {
      "cell_type": "markdown",
      "metadata": {
        "id": "IfsyMy5yRWKF"
      },
      "source": [
        "# Packages & functions"
      ]
    },
    {
      "cell_type": "code",
      "execution_count": 138,
      "metadata": {
        "colab": {
          "base_uri": "https://localhost:8080/"
        },
        "id": "jJq4oSfhRZY6",
        "outputId": "d40a03f8-5c62-49fa-ad2d-8ecd15471222"
      },
      "outputs": [
        {
          "output_type": "stream",
          "name": "stdout",
          "text": [
            "Drive already mounted at /content/drive; to attempt to forcibly remount, call drive.mount(\"/content/drive\", force_remount=True).\n"
          ]
        }
      ],
      "source": [
        "# %%capture\n",
        "def download_files(url_dict):\n",
        "    for file, url in url_dict.items():\n",
        "        print(f'Downloading {file}')\n",
        "        !wget -O {file} {url} {file}\n",
        "\n",
        "\n",
        "if env == 'colab':\n",
        "    from google.colab import drive\n",
        "    drive.mount('/content/drive')\n",
        "\n",
        "    \n",
        "    files = [\n",
        "            'DataProperties.py',\n",
        "            # 'DatasetParameters.py',\n",
        "            # 'Preprocessing.py',\n",
        "            # 'PreprocessingParameters.py',\n",
        "            \n",
        "            # 'Model.py',\n",
        "            # 'BNModel.py',\n",
        "            # 'CNNModel.py',\n",
        "            # 'VGG19Model.py',\n",
        "            # 'VGG16Model.py',\n",
        "            # 'AlexNetModel.py',\n",
        "            # 'DropoutModel.py',\n",
        "            # 'InceptionModel.py',\n",
        "            # 'ResNetModel.py',\n",
        "\n",
        "            'Utils.py',\n",
        "            'ModelUtils.py',\n",
        "            # 'TimeCallBack.py'\n",
        "    ]"
      ]
    },
    {
      "cell_type": "code",
      "execution_count": 139,
      "metadata": {
        "id": "2rAfLXFKykyQ"
      },
      "outputs": [],
      "source": [
        "%%capture\n",
        "if env == 'colab':\n",
        "    url_dict = {file: git_download_path + file for file in files}\n",
        "    download_files(url_dict)"
      ]
    },
    {
      "cell_type": "code",
      "execution_count": 140,
      "metadata": {
        "id": "F1ZGnrMJRY1b"
      },
      "outputs": [],
      "source": [
        "# import os\n",
        "# import numpy as np\n",
        "# import tensorflow as tf\n",
        "# import matplotlib.pyplot as plt"
      ]
    },
    {
      "cell_type": "code",
      "execution_count": 141,
      "metadata": {
        "id": "c-oRA_bPUpOC"
      },
      "outputs": [],
      "source": [
        "from os.path import isdir\n",
        "from os.path import isfile\n",
        "from os import listdir\n",
        "import pandas as pd\n",
        "import os\n",
        "# import numpy as np\n",
        "\n",
        "# # Plotting\n",
        "# import seaborn as sns\n",
        "\n",
        "# # Utils\n",
        "import importlib\n",
        "# from os.path import isdir\n",
        "# from datetime import date\n",
        "# import pandas as pd\n",
        "\n",
        "# # Dataset\n",
        "# from tensorflow.keras.preprocessing.image import ImageDataGenerator"
      ]
    },
    {
      "cell_type": "code",
      "execution_count": 142,
      "metadata": {
        "id": "EOLlI5vMp3zH"
      },
      "outputs": [],
      "source": [
        "# import DataProperties \n",
        "# import PreprocessingParameters \n",
        "# import Preprocessing\n",
        "# import DatasetParameters\n",
        "import Utils\n",
        "import DataProperties\n",
        "# import CNNModel\n",
        "# import BNModel\n",
        "# import ResNetModel\n",
        "# import DropoutModel\n",
        "# import InceptionModel\n",
        "# import AlexNetModel\n",
        "# import VGG19Model\n",
        "# import VGG16Model\n",
        "# import Model\n",
        "import ModelUtils\n",
        "\n",
        "# import TimeCallBack\n",
        "\n",
        "def reload_all(modules_list):\n",
        "    for module in modules_list:\n",
        "        importlib.reload(module)\n",
        "\n",
        "reload_all(\n",
        "    [\n",
        "        DataProperties,\n",
        "        # PreprocessingParameters,\n",
        "        # DatasetParameters,\n",
        "        Utils,\n",
        "        # Preprocessing,\n",
        "\n",
        "        # Model,\n",
        "        # CNNModel,\n",
        "        # BNModel,\n",
        "        # DropoutModel,\n",
        "        \n",
        "        # VGG16Model,\n",
        "        # ResNetModel,\n",
        "        # InceptionModel,\n",
        "        # ModelUtils,\n",
        "        # TimeCallBack,\n",
        "        # VGG19Model,\n",
        "        # AlexNetModel\n",
        "    ]\n",
        ")\n",
        "\n",
        "# from DataProperties import DataProperties\n",
        "# from PreprocessingParameters import PreprocessingParameters\n",
        "# from DatasetParameters import DatasetParameters\n",
        "from Utils import *\n",
        "# from Preprocessing import *\n",
        "# from CNNModel import CNNModel\n",
        "# from BNModel import BNModel\n",
        "# from DropoutModel import DropoutModel\n",
        "# from VGG19Model import VGG19Model\n",
        "# from ResNetModel import ResNetModel\n",
        "# from InceptionModel import InceptionModel\n",
        "# from ModelUtils import ModelUtils\n",
        "# from TimeCallBack import TimeCallBack\n",
        "# from AlexNetModel import AlexNetModel\n",
        "# from VGG16Model import VGG16Model"
      ]
    },
    {
      "cell_type": "code",
      "execution_count": 143,
      "metadata": {
        "id": "X7b1_VvlHYqm"
      },
      "outputs": [],
      "source": [
        "# DataProps = DataProperties(\n",
        "#     environment = env,\n",
        "#     n_trial = n_trial\n",
        "# )"
      ]
    },
    {
      "cell_type": "markdown",
      "metadata": {
        "id": "sdFefXHCRONl"
      },
      "source": [
        "# Download necessary data"
      ]
    },
    {
      "cell_type": "code",
      "source": [
        "assert isdir(final_models_path) == True\n",
        "available_models = listdir(final_models_path)\n",
        "\n",
        "for name in names:\n",
        "    assert name in available_models"
      ],
      "metadata": {
        "id": "yRBAwpJrQX6J"
      },
      "execution_count": 144,
      "outputs": []
    },
    {
      "cell_type": "code",
      "source": [
        "def load_train_times(model_names, base_dir):\n",
        "    res = {name: None for name in model_names}\n",
        "    \n",
        "    for name in model_names:\n",
        "        model_dir = f'{base_dir}{name}/'\n",
        "        assert(isdir(model_dir))\n",
        "\n",
        "        file_path = f'{model_dir}training_time.csv'\n",
        "        res[name] = pd.read_csv(file_path)\n",
        "\n",
        "    return res\n",
        "\n",
        "train_time_dict = load_train_times(names, base_dir = final_models_path)"
      ],
      "metadata": {
        "id": "mk4VjgWKTATr"
      },
      "execution_count": 145,
      "outputs": []
    },
    {
      "cell_type": "code",
      "source": [
        "def load_test_metrics(model_names, base_dir):\n",
        "    \n",
        "    res = {name: None for name in model_names}\n",
        "    for name in model_names:\n",
        "        model_dir = f'{base_dir}{name}/'\n",
        "        assert isdir(model_dir)\n",
        "\n",
        "        file_path = f'{model_dir}test_metrics_res.csv'\n",
        "        res[name] = pd.read_csv(file_path)\n",
        "    return res\n",
        "\n",
        "test_metrics_dict = load_test_metrics(\n",
        "    model_names = names,\n",
        "    base_dir = final_models_path\n",
        ")"
      ],
      "metadata": {
        "id": "myMVr2YNUOyE"
      },
      "execution_count": 146,
      "outputs": []
    },
    {
      "cell_type": "code",
      "source": [
        "def load_histories(model_names, base_dir):\n",
        "    res = {name: None for name in model_names}\n",
        "\n",
        "    for name in names:\n",
        "        history_dir = f'{base_dir}{name}/Histories/'\n",
        "        assert isdir(history_dir) == True\n",
        "\n",
        "        file_path = f'{history_dir}{name}_history.csv'\n",
        "        assert isfile(file_path)\n",
        "\n",
        "        res[name] = pd.read_csv(file_path)\n",
        "    \n",
        "    return res\n",
        "\n",
        "\n",
        "histories_dict = load_histories(\n",
        "    model_names = names,\n",
        "    base_dir = final_models_path\n",
        ")"
      ],
      "metadata": {
        "id": "0PjJ27BBWFw-"
      },
      "execution_count": 147,
      "outputs": []
    },
    {
      "cell_type": "markdown",
      "source": [
        "# Summary of learning curves"
      ],
      "metadata": {
        "id": "0mdnNJj4X1KJ"
      }
    },
    {
      "cell_type": "code",
      "source": [
        "histories_dict['CNN'].head(), histories_dict['Dropout'].head()"
      ],
      "metadata": {
        "id": "quYIYVc3YBOC",
        "outputId": "bca97f43-aee2-4973-e285-64af49fa8885",
        "colab": {
          "base_uri": "https://localhost:8080/"
        }
      },
      "execution_count": 148,
      "outputs": [
        {
          "output_type": "execute_result",
          "data": {
            "text/plain": [
              "(   Unnamed: 0       loss       acc   val_loss   val_acc\n",
              " 0           0  59.034439  0.490602  30.145298  0.607143\n",
              " 1           1  22.146191  0.644473  17.057980  0.687500\n",
              " 2           2  14.311726  0.676649  11.952933  0.659226\n",
              " 3           3  10.302170  0.668684   8.773252  0.633929\n",
              " 4           4   7.562735  0.672507   6.514511  0.665179,\n",
              "    Unnamed: 0      loss       acc  val_loss   val_acc\n",
              " 0           0  0.894235  0.573431  0.706818  0.633929\n",
              " 1           1  0.654191  0.716152  0.619452  0.760417\n",
              " 2           2  0.644341  0.729850  0.673086  0.657738\n",
              " 3           3  0.585047  0.757566  0.614610  0.739583\n",
              " 4           4  0.547559  0.791335  0.650161  0.715774)"
            ]
          },
          "metadata": {},
          "execution_count": 148
        }
      ]
    },
    {
      "cell_type": "code",
      "source": [
        "cnn_loss = histories_dict['CNN']['val_acc']\n",
        "drop_loss = histories_dict['Dropout']['val_acc']"
      ],
      "metadata": {
        "id": "qI8KArWpYaiI"
      },
      "execution_count": 149,
      "outputs": []
    },
    {
      "cell_type": "code",
      "source": [
        "def plot_learning_curves(\n",
        "    names, \n",
        "    hist_dict, \n",
        "    metrics_name, \n",
        "    figsize = (10, 10),\n",
        "    title = 'PUT TITLE',\n",
        "    ylabel = 'PUT LABEL',\n",
        "    plot_validation = False\n",
        "):\n",
        "\n",
        "    fig, ax = plt.subplots(figsize = figsize)\n",
        "\n",
        "    plt_params_dict = dict(\n",
        "        marker = 'o',\n",
        "        markersize = 7,\n",
        "        markerfacecolor = 'white'\n",
        "    )\n",
        "\n",
        "    fontsize = 20  # Axis writing\n",
        "    ticksize = 20  # Ticks writing\n",
        "    legendsize = 19\n",
        "\n",
        "    for name in names:\n",
        "        data = hist_dict[name][metrics_name]\n",
        "        ax.plot(data, **plot_params_dict)\n",
        "        \n",
        "        if plot_validation:\n",
        "            val_data = hist_dict[name][f'val_{metrics_name}']\n",
        "            ax.plot(val_data, **plot_params_dict)\n",
        "\n",
        "    ax.tick_params(axis = 'both', labelsize = ticksize)\n",
        "    ax.set_title(title, fontsize = fontsize)\n",
        "    ax.set_xlabel('Epoch', fontsize = fontsize)\n",
        "    ax.set_ylabel(ylabel, fontsize = fontsize)\n",
        "    ax.grid()\n",
        "\n",
        "    \n",
        "    legend_names = []\n",
        "    if plot_validation:\n",
        "        pairs = [[name, f'{name} (val)'] for name in names]\n",
        "        for p in pairs:\n",
        "            legend_names.append(p[0])\n",
        "            legend_names.append(p[1])\n",
        "            \n",
        "    else:\n",
        "        legend_names = names\n",
        "    ax.legend(legend_names, fontsize = legendsize)"
      ],
      "metadata": {
        "id": "XYfoqBXfX3LI"
      },
      "execution_count": 150,
      "outputs": []
    },
    {
      "cell_type": "code",
      "source": [
        "plot_learning_curves(\n",
        "    names,\n",
        "    histories_dict,\n",
        "    figsize = (10, 7),\n",
        "    metrics_name = 'acc',\n",
        "    title = 'Learning curve, accuracy',\n",
        "    ylabel = 'Accuracy',\n",
        "    plot_validation = True\n",
        ")"
      ],
      "metadata": {
        "id": "oDJZE7bGfgKy",
        "outputId": "c8a7b31b-13c6-4e6e-ae3b-42e74442c3a5",
        "colab": {
          "base_uri": "https://localhost:8080/",
          "height": 481
        }
      },
      "execution_count": 151,
      "outputs": [
        {
          "output_type": "display_data",
          "data": {
            "image/png": "[encoded data removed]",
            "text/plain": [
              "<Figure size 720x504 with 1 Axes>"
            ]
          },
          "metadata": {
            "needs_background": "light"
          }
        }
      ]
    },
    {
      "cell_type": "markdown",
      "metadata": {
        "id": "kfx5tLSlc3yG"
      },
      "source": [
        "# Models evaluation"
      ]
    },
    {
      "cell_type": "markdown",
      "metadata": {
        "id": "VEymbM4BCxwU"
      },
      "source": [
        "## Reload history and training time"
      ]
    },
    {
      "cell_type": "code",
      "execution_count": null,
      "metadata": {
        "id": "Q8nUe84gCxwU"
      },
      "outputs": [],
      "source": [
        "training_time_path = f'{DataProps.core_path}{date_}/trial-{n_trial}/'\n",
        "evaluation_path = f'{DataProps.core_path}{date_}/trial-{n_trial}/'"
      ]
    },
    {
      "cell_type": "code",
      "execution_count": null,
      "metadata": {
        "id": "7lcHtUX8CxwU"
      },
      "outputs": [],
      "source": [
        "training_time_df = pd.read_csv(\n",
        "    f'{evaluation_path}training_time.csv'\n",
        ")\n",
        "training_time_df = training_time_df.apply(lambda x: pd.Series(x.dropna().values)).fillna('')"
      ]
    },
    {
      "cell_type": "code",
      "execution_count": null,
      "metadata": {
        "id": "Z7riGvdaCxwV",
        "outputId": "f6f7be1a-c623-4d28-dfc8-1267121bd4c8",
        "colab": {
          "base_uri": "https://localhost:8080/",
          "height": 206
        }
      },
      "outputs": [
        {
          "output_type": "execute_result",
          "data": {
            "text/html": [
              "\n",
              "  <div id=\"df-bac2b3f4-ec48-444e-86e2-675d53a05513\">\n",
              "    <div class=\"colab-df-container\">\n",
              "      <div>\n",
              "<style scoped>\n",
              "    .dataframe tbody tr th:only-of-type {\n",
              "        vertical-align: middle;\n",
              "    }\n",
              "\n",
              "    .dataframe tbody tr th {\n",
              "        vertical-align: top;\n",
              "    }\n",
              "\n",
              "    .dataframe thead th {\n",
              "        text-align: right;\n",
              "    }\n",
              "</style>\n",
              "<table border=\"1\" class=\"dataframe\">\n",
              "  <thead>\n",
              "    <tr style=\"text-align: right;\">\n",
              "      <th></th>\n",
              "      <th>Unnamed: 0</th>\n",
              "      <th>VGG16</th>\n",
              "    </tr>\n",
              "  </thead>\n",
              "  <tbody>\n",
              "    <tr>\n",
              "      <th>0</th>\n",
              "      <td>0</td>\n",
              "      <td>128.598126</td>\n",
              "    </tr>\n",
              "    <tr>\n",
              "      <th>1</th>\n",
              "      <td>1</td>\n",
              "      <td>256.035699</td>\n",
              "    </tr>\n",
              "    <tr>\n",
              "      <th>2</th>\n",
              "      <td>2</td>\n",
              "      <td>383.709220</td>\n",
              "    </tr>\n",
              "    <tr>\n",
              "      <th>3</th>\n",
              "      <td>3</td>\n",
              "      <td>511.234345</td>\n",
              "    </tr>\n",
              "    <tr>\n",
              "      <th>4</th>\n",
              "      <td>4</td>\n",
              "      <td>639.911254</td>\n",
              "    </tr>\n",
              "  </tbody>\n",
              "</table>\n",
              "</div>\n",
              "      <button class=\"colab-df-convert\" onclick=\"convertToInteractive('df-bac2b3f4-ec48-444e-86e2-675d53a05513')\"\n",
              "              title=\"Convert this dataframe to an interactive table.\"\n",
              "              style=\"display:none;\">\n",
              "        \n",
              "  <svg xmlns=\"http://www.w3.org/2000/svg\" height=\"24px\"viewBox=\"0 0 24 24\"\n",
              "       width=\"24px\">\n",
              "    <path d=\"M0 0h24v24H0V0z\" fill=\"none\"/>\n",
              "    <path d=\"M18.56 5.44l.94 2.06.94-2.06 2.06-.94-2.06-.94-.94-2.06-.94 2.06-2.06.94zm-11 1L8.5 8.5l.94-2.06 2.06-.94-2.06-.94L8.5 2.5l-.94 2.06-2.06.94zm10 10l.94 2.06.94-2.06 2.06-.94-2.06-.94-.94-2.06-.94 2.06-2.06.94z\"/><path d=\"M17.41 7.96l-1.37-1.37c-.4-.4-.92-.59-1.43-.59-.52 0-1.04.2-1.43.59L10.3 9.45l-7.72 7.72c-.78.78-.78 2.05 0 2.83L4 21.41c.39.39.9.59 1.41.59.51 0 1.02-.2 1.41-.59l7.78-7.78 2.81-2.81c.8-.78.8-2.07 0-2.86zM5.41 20L4 18.59l7.72-7.72 1.47 1.35L5.41 20z\"/>\n",
              "  </svg>\n",
              "      </button>\n",
              "      \n",
              "  <style>\n",
              "    .colab-df-container {\n",
              "      display:flex;\n",
              "      flex-wrap:wrap;\n",
              "      gap: 12px;\n",
              "    }\n",
              "\n",
              "    .colab-df-convert {\n",
              "      background-color: #E8F0FE;\n",
              "      border: none;\n",
              "      border-radius: 50%;\n",
              "      cursor: pointer;\n",
              "      display: none;\n",
              "      fill: #1967D2;\n",
              "      height: 32px;\n",
              "      padding: 0 0 0 0;\n",
              "      width: 32px;\n",
              "    }\n",
              "\n",
              "    .colab-df-convert:hover {\n",
              "      background-color: #E2EBFA;\n",
              "      box-shadow: 0px 1px 2px rgba(60, 64, 67, 0.3), 0px 1px 3px 1px rgba(60, 64, 67, 0.15);\n",
              "      fill: #174EA6;\n",
              "    }\n",
              "\n",
              "    [theme=dark] .colab-df-convert {\n",
              "      background-color: #3B4455;\n",
              "      fill: #D2E3FC;\n",
              "    }\n",
              "\n",
              "    [theme=dark] .colab-df-convert:hover {\n",
              "      background-color: #434B5C;\n",
              "      box-shadow: 0px 1px 3px 1px rgba(0, 0, 0, 0.15);\n",
              "      filter: drop-shadow(0px 1px 2px rgba(0, 0, 0, 0.3));\n",
              "      fill: #FFFFFF;\n",
              "    }\n",
              "  </style>\n",
              "\n",
              "      <script>\n",
              "        const buttonEl =\n",
              "          document.querySelector('#df-bac2b3f4-ec48-444e-86e2-675d53a05513 button.colab-df-convert');\n",
              "        buttonEl.style.display =\n",
              "          google.colab.kernel.accessAllowed ? 'block' : 'none';\n",
              "\n",
              "        async function convertToInteractive(key) {\n",
              "          const element = document.querySelector('#df-bac2b3f4-ec48-444e-86e2-675d53a05513');\n",
              "          const dataTable =\n",
              "            await google.colab.kernel.invokeFunction('convertToInteractive',\n",
              "                                                     [key], {});\n",
              "          if (!dataTable) return;\n",
              "\n",
              "          const docLinkHtml = 'Like what you see? Visit the ' +\n",
              "            '<a target=\"_blank\" href=https://colab.research.google.com/notebooks/data_table.ipynb>data table notebook</a>'\n",
              "            + ' to learn more about interactive tables.';\n",
              "          element.innerHTML = '';\n",
              "          dataTable['output_type'] = 'display_data';\n",
              "          await google.colab.output.renderOutput(dataTable, element);\n",
              "          const docLink = document.createElement('div');\n",
              "          docLink.innerHTML = docLinkHtml;\n",
              "          element.appendChild(docLink);\n",
              "        }\n",
              "      </script>\n",
              "    </div>\n",
              "  </div>\n",
              "  "
            ],
            "text/plain": [
              "   Unnamed: 0       VGG16\n",
              "0           0  128.598126\n",
              "1           1  256.035699\n",
              "2           2  383.709220\n",
              "3           3  511.234345\n",
              "4           4  639.911254"
            ]
          },
          "metadata": {},
          "execution_count": 28
        }
      ],
      "source": [
        "training_time_df.head()"
      ]
    },
    {
      "cell_type": "code",
      "execution_count": null,
      "metadata": {
        "id": "vTuW9EPKCxwV",
        "outputId": "c73edf76-3950-4918-e4b1-60e2f5053b0f",
        "colab": {
          "base_uri": "https://localhost:8080/",
          "height": 614
        }
      },
      "outputs": [
        {
          "output_type": "stream",
          "name": "stderr",
          "text": [
            "/usr/local/lib/python3.7/dist-packages/ipykernel_launcher.py:5: FutureWarning: elementwise comparison failed; returning scalar instead, but in the future will perform elementwise comparison\n",
            "  \"\"\"\n",
            "/usr/local/lib/python3.7/dist-packages/ipykernel_launcher.py:5: FutureWarning: elementwise comparison failed; returning scalar instead, but in the future will perform elementwise comparison\n",
            "  \"\"\"\n"
          ]
        },
        {
          "output_type": "display_data",
          "data": {
            "image/png": "[encoded data removed]",
            "text/plain": [
              "<Figure size 432x288 with 1 Axes>"
            ]
          },
          "metadata": {
            "needs_background": "light"
          }
        },
        {
          "output_type": "display_data",
          "data": {
            "image/png": "[encoded data removed]",
            "text/plain": [
              "<Figure size 432x288 with 1 Axes>"
            ]
          },
          "metadata": {
            "needs_background": "light"
          }
        }
      ],
      "source": [
        "def visualize_train_time(df, names):\n",
        "    _, ax = plt.subplots()\n",
        "    for name in names:\n",
        "        values = df[name].values\n",
        "        values = values[values != '']  # yes, crappy code, i dont have a lot of time yet\n",
        "        ax.plot(*values, marker = 'o')\n",
        "    ax.set_title(name)\n",
        "    ax.legend(names)\n",
        "\n",
        "\n",
        "visualize_train_time(training_time_df, names)\n",
        "\n",
        "# For separate graphs\n",
        "for name in names:\n",
        "   visualize_train_time(training_time_df, [name])"
      ]
    },
    {
      "cell_type": "markdown",
      "metadata": {
        "id": "Uxv0e0mXCxwV"
      },
      "source": [
        "## Full train time, seconds per epoch"
      ]
    },
    {
      "cell_type": "code",
      "execution_count": null,
      "metadata": {
        "id": "sojQ1q8nCxwV",
        "outputId": "609aae73-037e-4967-f8cd-25b05cec5b62",
        "colab": {
          "base_uri": "https://localhost:8080/",
          "height": 317
        }
      },
      "outputs": [
        {
          "output_type": "stream",
          "name": "stderr",
          "text": [
            "/usr/local/lib/python3.7/dist-packages/ipykernel_launcher.py:5: FutureWarning: elementwise comparison failed; returning scalar instead, but in the future will perform elementwise comparison\n",
            "  \"\"\"\n"
          ]
        },
        {
          "output_type": "stream",
          "name": "stdout",
          "text": [
            "128.5981260000001 <class 'numpy.float64'>\n"
          ]
        },
        {
          "output_type": "display_data",
          "data": {
            "image/png": "[encoded data removed]",
            "text/plain": [
              "<Figure size 432x288 with 1 Axes>"
            ]
          },
          "metadata": {
            "needs_background": "light"
          }
        }
      ],
      "source": [
        "def visualize_time_per_epoch(df, names):\n",
        "    fig, ax = plt.subplots()\n",
        "    for name in names:\n",
        "        time_series = df[name].values\n",
        "        time_series = time_series[time_series != '']\n",
        "        time_series = time_series[0]\n",
        "        deltas = [time_series[i] - time_series[i-1] for i in range(1, len(time_series))]\n",
        "        deltas.insert(0, time_series[0])\n",
        "        print(deltas[0], type(deltas[0]))\n",
        "        ax.plot(deltas, marker = 'o', markersize = 12)\n",
        "    ax.grid()\n",
        "    ax.legend(names)\n",
        "\n",
        "\n",
        "visualize_time_per_epoch(training_time_df, names)"
      ]
    },
    {
      "cell_type": "markdown",
      "metadata": {
        "id": "HREhQO8_c3yH"
      },
      "source": [
        "## Test flow performance"
      ]
    },
    {
      "cell_type": "code",
      "execution_count": null,
      "metadata": {
        "colab": {
          "base_uri": "https://localhost:8080/"
        },
        "id": "CGmRf1-Dc3yH",
        "outputId": "f6cc5d43-1e91-4065-912f-e0ef4dceb3eb"
      },
      "outputs": [
        {
          "output_type": "stream",
          "name": "stdout",
          "text": [
            "681/681 [==============================] - 430s 630ms/step - loss: 0.4739 - acc: 0.8311\n"
          ]
        }
      ],
      "source": [
        "if using_gpu:\n",
        "    print(f'Fitting with GPU')\n",
        "    with tf.device(device_name):\n",
        "        metrics_dict = collect_metrics(models, test_flow, test_steps)\n",
        "else:\n",
        "    metrics_dict = collect_metrics(models, test_flow, test_steps)"
      ]
    },
    {
      "cell_type": "code",
      "execution_count": null,
      "metadata": {
        "id": "03VU9XhMhkNM"
      },
      "outputs": [],
      "source": [
        "def normalize_col(df, colnames):\n",
        "    for c in colnames:\n",
        "        df[c + '_norm'] = df[c] / np.max(df[c])\n",
        "\n",
        "test_metrics_df = pd.DataFrame(metrics_dict).transpose()\n",
        "\n",
        "normalize_col(\n",
        "    test_metrics_df,\n",
        "    [\n",
        "        'data_eval_time_sec',\n",
        "        'tr_params',\n",
        "        'test_loss^(-1)'\n",
        "    ]\n",
        ")"
      ]
    },
    {
      "cell_type": "code",
      "execution_count": null,
      "metadata": {
        "colab": {
          "base_uri": "https://localhost:8080/",
          "height": 81
        },
        "id": "VdLe8tMtc3yH",
        "outputId": "dddbbc42-2830-4419-f8e1-f930f25aa60b"
      },
      "outputs": [
        {
          "output_type": "execute_result",
          "data": {
            "text/html": [
              "\n",
              "  <div id=\"df-0161e13a-0d26-4813-b239-441f5c6dd557\">\n",
              "    <div class=\"colab-df-container\">\n",
              "      <div>\n",
              "<style scoped>\n",
              "    .dataframe tbody tr th:only-of-type {\n",
              "        vertical-align: middle;\n",
              "    }\n",
              "\n",
              "    .dataframe tbody tr th {\n",
              "        vertical-align: top;\n",
              "    }\n",
              "\n",
              "    .dataframe thead th {\n",
              "        text-align: right;\n",
              "    }\n",
              "</style>\n",
              "<table border=\"1\" class=\"dataframe\">\n",
              "  <thead>\n",
              "    <tr style=\"text-align: right;\">\n",
              "      <th></th>\n",
              "      <th>F1</th>\n",
              "      <th>data_eval_time_sec</th>\n",
              "      <th>data_size</th>\n",
              "      <th>precision</th>\n",
              "      <th>recall</th>\n",
              "      <th>test_accuracy</th>\n",
              "      <th>test_loss^(-1)</th>\n",
              "      <th>tr_params</th>\n",
              "      <th>data_eval_time_sec_norm</th>\n",
              "      <th>tr_params_norm</th>\n",
              "      <th>test_loss^(-1)_norm</th>\n",
              "    </tr>\n",
              "  </thead>\n",
              "  <tbody>\n",
              "    <tr>\n",
              "      <th>VGG16</th>\n",
              "      <td>0.829111</td>\n",
              "      <td>442.816964</td>\n",
              "      <td>681.0</td>\n",
              "      <td>0.852415</td>\n",
              "      <td>0.831131</td>\n",
              "      <td>0.831131</td>\n",
              "      <td>0.473869</td>\n",
              "      <td>134272835.0</td>\n",
              "      <td>1.0</td>\n",
              "      <td>1.0</td>\n",
              "      <td>1.0</td>\n",
              "    </tr>\n",
              "  </tbody>\n",
              "</table>\n",
              "</div>\n",
              "      <button class=\"colab-df-convert\" onclick=\"convertToInteractive('df-0161e13a-0d26-4813-b239-441f5c6dd557')\"\n",
              "              title=\"Convert this dataframe to an interactive table.\"\n",
              "              style=\"display:none;\">\n",
              "        \n",
              "  <svg xmlns=\"http://www.w3.org/2000/svg\" height=\"24px\"viewBox=\"0 0 24 24\"\n",
              "       width=\"24px\">\n",
              "    <path d=\"M0 0h24v24H0V0z\" fill=\"none\"/>\n",
              "    <path d=\"M18.56 5.44l.94 2.06.94-2.06 2.06-.94-2.06-.94-.94-2.06-.94 2.06-2.06.94zm-11 1L8.5 8.5l.94-2.06 2.06-.94-2.06-.94L8.5 2.5l-.94 2.06-2.06.94zm10 10l.94 2.06.94-2.06 2.06-.94-2.06-.94-.94-2.06-.94 2.06-2.06.94z\"/><path d=\"M17.41 7.96l-1.37-1.37c-.4-.4-.92-.59-1.43-.59-.52 0-1.04.2-1.43.59L10.3 9.45l-7.72 7.72c-.78.78-.78 2.05 0 2.83L4 21.41c.39.39.9.59 1.41.59.51 0 1.02-.2 1.41-.59l7.78-7.78 2.81-2.81c.8-.78.8-2.07 0-2.86zM5.41 20L4 18.59l7.72-7.72 1.47 1.35L5.41 20z\"/>\n",
              "  </svg>\n",
              "      </button>\n",
              "      \n",
              "  <style>\n",
              "    .colab-df-container {\n",
              "      display:flex;\n",
              "      flex-wrap:wrap;\n",
              "      gap: 12px;\n",
              "    }\n",
              "\n",
              "    .colab-df-convert {\n",
              "      background-color: #E8F0FE;\n",
              "      border: none;\n",
              "      border-radius: 50%;\n",
              "      cursor: pointer;\n",
              "      display: none;\n",
              "      fill: #1967D2;\n",
              "      height: 32px;\n",
              "      padding: 0 0 0 0;\n",
              "      width: 32px;\n",
              "    }\n",
              "\n",
              "    .colab-df-convert:hover {\n",
              "      background-color: #E2EBFA;\n",
              "      box-shadow: 0px 1px 2px rgba(60, 64, 67, 0.3), 0px 1px 3px 1px rgba(60, 64, 67, 0.15);\n",
              "      fill: #174EA6;\n",
              "    }\n",
              "\n",
              "    [theme=dark] .colab-df-convert {\n",
              "      background-color: #3B4455;\n",
              "      fill: #D2E3FC;\n",
              "    }\n",
              "\n",
              "    [theme=dark] .colab-df-convert:hover {\n",
              "      background-color: #434B5C;\n",
              "      box-shadow: 0px 1px 3px 1px rgba(0, 0, 0, 0.15);\n",
              "      filter: drop-shadow(0px 1px 2px rgba(0, 0, 0, 0.3));\n",
              "      fill: #FFFFFF;\n",
              "    }\n",
              "  </style>\n",
              "\n",
              "      <script>\n",
              "        const buttonEl =\n",
              "          document.querySelector('#df-0161e13a-0d26-4813-b239-441f5c6dd557 button.colab-df-convert');\n",
              "        buttonEl.style.display =\n",
              "          google.colab.kernel.accessAllowed ? 'block' : 'none';\n",
              "\n",
              "        async function convertToInteractive(key) {\n",
              "          const element = document.querySelector('#df-0161e13a-0d26-4813-b239-441f5c6dd557');\n",
              "          const dataTable =\n",
              "            await google.colab.kernel.invokeFunction('convertToInteractive',\n",
              "                                                     [key], {});\n",
              "          if (!dataTable) return;\n",
              "\n",
              "          const docLinkHtml = 'Like what you see? Visit the ' +\n",
              "            '<a target=\"_blank\" href=https://colab.research.google.com/notebooks/data_table.ipynb>data table notebook</a>'\n",
              "            + ' to learn more about interactive tables.';\n",
              "          element.innerHTML = '';\n",
              "          dataTable['output_type'] = 'display_data';\n",
              "          await google.colab.output.renderOutput(dataTable, element);\n",
              "          const docLink = document.createElement('div');\n",
              "          docLink.innerHTML = docLinkHtml;\n",
              "          element.appendChild(docLink);\n",
              "        }\n",
              "      </script>\n",
              "    </div>\n",
              "  </div>\n",
              "  "
            ],
            "text/plain": [
              "             F1  data_eval_time_sec  ...  tr_params_norm  test_loss^(-1)_norm\n",
              "VGG16  0.829111          442.816964  ...             1.0                  1.0\n",
              "\n",
              "[1 rows x 11 columns]"
            ]
          },
          "metadata": {},
          "execution_count": 33
        }
      ],
      "source": [
        "test_metrics_df.head()"
      ]
    },
    {
      "cell_type": "code",
      "execution_count": null,
      "metadata": {
        "colab": {
          "base_uri": "https://localhost:8080/"
        },
        "id": "HHOIUr9w4Lds",
        "outputId": "becff191-b800-4d81-ed4f-e9d4b0032703"
      },
      "outputs": [
        {
          "output_type": "stream",
          "name": "stdout",
          "text": [
            "Saving metrics to /content/drive/MyDrive/UNIPD/HDA/Project/SavedModels/2022-01-31/trial-1/\n"
          ]
        }
      ],
      "source": [
        "if saving_metrics_report:\n",
        "    print(f'Saving metrics to {evaluation_path}')\n",
        "    test_metrics_df.to_csv(evaluation_path + 'test_metrics_res.csv')"
      ]
    },
    {
      "cell_type": "code",
      "execution_count": null,
      "metadata": {
        "colab": {
          "base_uri": "https://localhost:8080/",
          "height": 288
        },
        "id": "1FSA81vuc3yH",
        "outputId": "bb65accb-f377-4008-99b8-36db0320c6f1"
      },
      "outputs": [
        {
          "output_type": "display_data",
          "data": {
            "text/plain": [
              "<Figure size 1080x1080 with 0 Axes>"
            ]
          },
          "metadata": {}
        },
        {
          "output_type": "display_data",
          "data": {
            "image/png": "[encoded data removed]",
            "text/plain": [
              "<Figure size 432x288 with 1 Axes>"
            ]
          },
          "metadata": {
            "needs_background": "light"
          }
        }
      ],
      "source": [
        "metrics_to_show = [\n",
        "                   'test_loss^(-1)_norm',\n",
        "                   'test_accuracy',\n",
        "                   'F1',\n",
        "                   'precision',\n",
        "                   'recall',\n",
        "                   \n",
        "                   'tr_params_norm',\n",
        "                   'data_eval_time_sec_norm'\n",
        "]\n",
        "\n",
        "plt.figure(figsize = (15, 15))\n",
        "ax = test_metrics_df.loc[:, metrics_to_show].plot.bar(\n",
        "    rot = 0,\n",
        "    width = 0.9\n",
        ")\n",
        "plt.legend(bbox_to_anchor=(1.1, 1.05))\n",
        "plt.grid()"
      ]
    },
    {
      "cell_type": "markdown",
      "metadata": {
        "id": "T_Q9yZRCc3yI"
      },
      "source": [
        "## Confusion matrices"
      ]
    },
    {
      "cell_type": "code",
      "execution_count": null,
      "metadata": {
        "id": "3xvtS7BHc3yI"
      },
      "outputs": [],
      "source": [
        "for m_name, model in models.items():\n",
        "    test_flow.reset()\n",
        "    plot_confusion_matrix(\n",
        "        Y_true = test_flow.classes, \n",
        "        Y_pred = model.flow_predict(\n",
        "            test_flow,\n",
        "            test_steps\n",
        "        ),\n",
        "        class_indices = test_flow.class_indices\n",
        "    )"
      ]
    },
    {
      "cell_type": "markdown",
      "metadata": {
        "id": "8iRUPz0Hc3yI"
      },
      "source": [
        "## Learning curves"
      ]
    },
    {
      "cell_type": "code",
      "execution_count": null,
      "metadata": {
        "id": "H6ybfjGbCxwX"
      },
      "outputs": [],
      "source": [
        "histories_path = f'{evaluation_path}/Histories/'\n",
        "histories_dfs = {}"
      ]
    },
    {
      "cell_type": "code",
      "execution_count": null,
      "metadata": {
        "id": "UXh2CLM0CxwX"
      },
      "outputs": [],
      "source": [
        "for name in names:\n",
        "    file_path = f'{histories_path}{name}_history.csv'\n",
        "    df = pd.read_csv(file_path)\n",
        "    histories_dfs[name] = df"
      ]
    },
    {
      "cell_type": "code",
      "execution_count": null,
      "metadata": {
        "id": "KmG_cjedCxwX",
        "outputId": "581f30de-7c0f-44dd-9c9f-c699e7242429",
        "colab": {
          "base_uri": "https://localhost:8080/",
          "height": 281
        }
      },
      "outputs": [
        {
          "output_type": "display_data",
          "data": {
            "image/png": "[encoded data removed]",
            "text/plain": [
              "<Figure size 432x288 with 1 Axes>"
            ]
          },
          "metadata": {
            "needs_background": "light"
          }
        }
      ],
      "source": [
        "def plot_learning_curves(histories_dict):\n",
        "    for name, df in histories_dict.items():\n",
        "        _, ax = plt.subplots()\n",
        "\n",
        "        acc = df['acc']\n",
        "        val_acc = df['val_acc']\n",
        "        ax.plot(acc, marker = 'o')\n",
        "        ax.plot(val_acc, marker = 'o')\n",
        "        ax.set_title(name)\n",
        "        ax.legend(['acc', 'val_acc'])\n",
        "        plt.grid()\n",
        "\n",
        "plot_learning_curves(histories_dfs)"
      ]
    },
    {
      "cell_type": "markdown",
      "metadata": {
        "id": "o7d8Nylac3yI"
      },
      "source": [
        "## Layers interpretation"
      ]
    },
    {
      "cell_type": "code",
      "execution_count": null,
      "metadata": {
        "id": "JalX9xCJCxwY"
      },
      "outputs": [],
      "source": [
        "img_n = 7"
      ]
    },
    {
      "cell_type": "code",
      "execution_count": null,
      "metadata": {
        "id": "NLAyCLtfc3yI"
      },
      "outputs": [],
      "source": [
        "if 'CNN' in names:\n",
        "    visualize_kernel_work(\n",
        "        model = models['CNN'].model, \n",
        "        n_layer = 0, \n",
        "        n_kernel = 0, \n",
        "        \n",
        "        image = test_flow[img_n][0][0],\n",
        "        label = test_flow[img_n][1][0],  # 10th image \n",
        "        n_color_channels = PreprocessingParameters.n_color_channels[0]\n",
        "    )"
      ]
    },
    {
      "cell_type": "code",
      "execution_count": null,
      "metadata": {
        "id": "-oHDhUVrc3yJ"
      },
      "outputs": [],
      "source": [
        "if 'CNN' in names:\n",
        "    visualize_kernel_work(\n",
        "        model = models['CNN'].model, \n",
        "        n_layer = 4,\n",
        "        n_kernel = 0,\n",
        "\n",
        "        image = test_flow[img_n][0][0],\n",
        "        label = test_flow[img_n][1][0],\n",
        "        n_color_channels = PreprocessingParameters.n_color_channels[0]\n",
        "    )"
      ]
    },
    {
      "cell_type": "code",
      "source": [
        ""
      ],
      "metadata": {
        "id": "9evphRONKOpL"
      },
      "execution_count": null,
      "outputs": []
    }
  ],
  "metadata": {
    "colab": {
      "name": "main.ipynb",
      "provenance": []
    },
    "kernelspec": {
      "display_name": "Python 3",
      "language": "python",
      "name": "python3"
    },
    "language_info": {
      "codemirror_mode": {
        "name": "ipython",
        "version": 3
      },
      "file_extension": ".py",
      "mimetype": "text/x-python",
      "name": "python",
      "nbconvert_exporter": "python",
      "pygments_lexer": "ipython3",
      "version": "3.7.12"
    }
  },
  "nbformat": 4,
  "nbformat_minor": 0
}