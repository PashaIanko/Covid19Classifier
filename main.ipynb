{
  "cells": [
    {
      "cell_type": "markdown",
      "source": [
        "# Packages & functions"
      ],
      "metadata": {
        "id": "IfsyMy5yRWKF"
      }
    },
    {
      "cell_type": "markdown",
      "source": [
        "TODO:\n",
        "- Why buffer size = 1?"
      ],
      "metadata": {
        "id": "5tEtAoJ2jYOA"
      }
    },
    {
      "cell_type": "code",
      "source": [
        "import os\n",
        "import numpy as np\n",
        "import cv2\n",
        "import tensorflow as tf"
      ],
      "metadata": {
        "id": "F1ZGnrMJRY1b"
      },
      "execution_count": 17,
      "outputs": []
    },
    {
      "cell_type": "code",
      "source": [
        "from google.colab import drive\n",
        "drive.mount('/content/drive')"
      ],
      "metadata": {
        "id": "jJq4oSfhRZY6",
        "outputId": "a8e03479-ab6f-4d2a-9ca0-e0a5adf9b3f3",
        "colab": {
          "base_uri": "https://localhost:8080/"
        }
      },
      "execution_count": 18,
      "outputs": [
        {
          "output_type": "stream",
          "name": "stdout",
          "text": [
            "Drive already mounted at /content/drive; to attempt to forcibly remount, call drive.mount(\"/content/drive\", force_remount=True).\n"
          ]
        }
      ]
    },
    {
      "cell_type": "code",
      "source": [
        "from os.path import isdir"
      ],
      "metadata": {
        "id": "x_NySXecReP4"
      },
      "execution_count": 19,
      "outputs": []
    },
    {
      "cell_type": "code",
      "source": [
        "from tensorflow.keras.layers import Conv2D as Conv2D\n",
        "from tensorflow.keras.layers import BatchNormalization as BatchNormalization\n",
        "from tensorflow.keras.layers import ReLU as ReLU\n",
        "from tensorflow.keras.layers import MaxPool2D as MaxPool2D\n",
        "from tensorflow.keras.layers import Flatten as Flatten\n",
        "from tensorflow.keras.layers import Dense as Dense"
      ],
      "metadata": {
        "id": "c-oRA_bPUpOC"
      },
      "execution_count": 4,
      "outputs": []
    },
    {
      "cell_type": "code",
      "source": [
        "class DataProperties:\n",
        "    data_path = '/content/drive/MyDrive/UNIPD/HDA/Project/Data/'\n",
        "    covid_path = data_path + 'covid/'\n",
        "    pneumonia_path = data_path + 'pneumonia/'\n",
        "    healthy_path = data_path + 'normal/'\n",
        "\n",
        "    healthy_class = 0\n",
        "    covid_class = 1\n",
        "    pneumonia_class = 2\n",
        "\n",
        "class TrainParameters:\n",
        "    train_size = 0.8\n",
        "    random_state = 123\n",
        "    batch_size = 32\n",
        "    max_size = 50  # Max size of each class\n",
        "\n",
        "class PreprocParameters:\n",
        "    resize_shape = (500, 500)"
      ],
      "metadata": {
        "id": "5ATZ2_ALR7I0"
      },
      "execution_count": 1,
      "outputs": []
    },
    {
      "cell_type": "markdown",
      "source": [
        "# Data download"
      ],
      "metadata": {
        "id": "sdFefXHCRONl"
      }
    },
    {
      "cell_type": "markdown",
      "source": [
        "## Paths download"
      ],
      "metadata": {
        "id": "ZYflDFndXpq0"
      }
    },
    {
      "cell_type": "code",
      "source": [
        "import os\n",
        "# Load filenames\n",
        "def load_filenames(data_path, max_files = None):\n",
        "    p = os.listdir(data_path)\n",
        "    if max_files is not None:\n",
        "        p = p[: min(max_files, len(p))]\n",
        "    p = [data_path + file_path for file_path in p]\n",
        "    return p"
      ],
      "metadata": {
        "id": "_92ledl6RRkk"
      },
      "execution_count": 2,
      "outputs": []
    },
    {
      "cell_type": "code",
      "source": [
        "covid_fnames = load_filenames(DataProperties.covid_path, TrainParameters.max_size)\n",
        "pn_fnames = load_filenames(DataProperties.pneumonia_path, TrainParameters.max_size)\n",
        "healthy_fnames = load_filenames(DataProperties.healthy_path, TrainParameters.max_size)"
      ],
      "metadata": {
        "id": "Li1Ee7eKT4M2"
      },
      "execution_count": 3,
      "outputs": []
    },
    {
      "cell_type": "code",
      "source": [
        "import numpy as np\n",
        "\n",
        "covid_labels = np.full(\n",
        "    len(covid_fnames), fill_value = DataProperties.covid_class\n",
        ")\n",
        "\n",
        "pn_labels = np.full(\n",
        "    len(pn_fnames), fill_value = DataProperties.pneumonia_class\n",
        ")\n",
        "\n",
        "healthy_labels = np.full(\n",
        "    len(healthy_fnames), fill_value = DataProperties.healthy_class\n",
        ")"
      ],
      "metadata": {
        "id": "pe9xFnA0U5rt"
      },
      "execution_count": 4,
      "outputs": []
    },
    {
      "cell_type": "code",
      "source": [
        "X = [\n",
        "     *covid_fnames, *pn_fnames, *healthy_fnames\n",
        "]\n",
        "\n",
        "Y = [\n",
        "     *covid_labels, *pn_labels, *healthy_labels\n",
        "]"
      ],
      "metadata": {
        "id": "0o7Q9Lq8Wj58"
      },
      "execution_count": 5,
      "outputs": []
    },
    {
      "cell_type": "markdown",
      "source": [
        "## Split"
      ],
      "metadata": {
        "id": "qcXEfDYnXyKI"
      }
    },
    {
      "cell_type": "code",
      "source": [
        "from sklearn.model_selection import train_test_split"
      ],
      "metadata": {
        "id": "5ed9kVjYXHf9"
      },
      "execution_count": 6,
      "outputs": []
    },
    {
      "cell_type": "code",
      "source": [
        "X_train, X_test, Y_train, Y_test = train_test_split(\n",
        "    X, Y,\n",
        "    train_size = TrainParameters.train_size,\n",
        "    random_state = TrainParameters.random_state,\n",
        "    stratify = Y\n",
        ")"
      ],
      "metadata": {
        "id": "AMsWK_9iYKFq"
      },
      "execution_count": 7,
      "outputs": []
    },
    {
      "cell_type": "markdown",
      "source": [
        "# Data exploration"
      ],
      "metadata": {
        "id": "aMfvCUABX628"
      }
    },
    {
      "cell_type": "code",
      "source": [
        "import seaborn as sns\n",
        "\n",
        "_ = sns.countplot(Y)"
      ],
      "metadata": {
        "id": "wTUMvy49X8xl",
        "outputId": "dfbeb5f0-1a0a-4714-b620-21826ab60f65",
        "colab": {
          "base_uri": "https://localhost:8080/",
          "height": 321
        }
      },
      "execution_count": 8,
      "outputs": [
        {
          "output_type": "stream",
          "name": "stderr",
          "text": [
            "/usr/local/lib/python3.7/dist-packages/seaborn/_decorators.py:43: FutureWarning: Pass the following variable as a keyword arg: x. From version 0.12, the only valid positional argument will be `data`, and passing other arguments without an explicit keyword will result in an error or misinterpretation.\n",
            "  FutureWarning\n"
          ]
        },
        {
          "output_type": "display_data",
          "data": {
            "image/png": "[encoded data removed]",
            "text/plain": [
              "<Figure size 432x288 with 1 Axes>"
            ]
          },
          "metadata": {
            "needs_background": "light"
          }
        }
      ]
    },
    {
      "cell_type": "code",
      "source": [
        "_ = sns.countplot(Y_train)"
      ],
      "metadata": {
        "id": "qn1n967AYgC3",
        "outputId": "481630d4-1819-48d8-f2cf-0a56b788b6a5",
        "colab": {
          "base_uri": "https://localhost:8080/",
          "height": 321
        }
      },
      "execution_count": 9,
      "outputs": [
        {
          "output_type": "stream",
          "name": "stderr",
          "text": [
            "/usr/local/lib/python3.7/dist-packages/seaborn/_decorators.py:43: FutureWarning: Pass the following variable as a keyword arg: x. From version 0.12, the only valid positional argument will be `data`, and passing other arguments without an explicit keyword will result in an error or misinterpretation.\n",
            "  FutureWarning\n"
          ]
        },
        {
          "output_type": "display_data",
          "data": {
            "image/png": "[encoded data removed]",
            "text/plain": [
              "<Figure size 432x288 with 1 Axes>"
            ]
          },
          "metadata": {
            "needs_background": "light"
          }
        }
      ]
    },
    {
      "cell_type": "code",
      "source": [
        "_ = sns.countplot(Y_test)"
      ],
      "metadata": {
        "id": "1SxMqGG4Ykge",
        "outputId": "dea362c5-3374-4556-ffae-c7ee8f284469",
        "colab": {
          "base_uri": "https://localhost:8080/",
          "height": 321
        }
      },
      "execution_count": 10,
      "outputs": [
        {
          "output_type": "stream",
          "name": "stderr",
          "text": [
            "/usr/local/lib/python3.7/dist-packages/seaborn/_decorators.py:43: FutureWarning: Pass the following variable as a keyword arg: x. From version 0.12, the only valid positional argument will be `data`, and passing other arguments without an explicit keyword will result in an error or misinterpretation.\n",
            "  FutureWarning\n"
          ]
        },
        {
          "output_type": "display_data",
          "data": {
            "image/png": "[encoded data removed]",
            "text/plain": [
              "<Figure size 432x288 with 1 Axes>"
            ]
          },
          "metadata": {
            "needs_background": "light"
          }
        }
      ]
    },
    {
      "cell_type": "code",
      "source": [
        "def load_image(full_path):\n",
        "    print(f'Loading, {full_path}')\n",
        "    img = cv2.imread(full_path, cv2.IMREAD_COLOR)\n",
        "    print(type(img))\n",
        "    return img"
      ],
      "metadata": {
        "id": "E75yrMqRZCeV"
      },
      "execution_count": 11,
      "outputs": []
    },
    {
      "cell_type": "code",
      "source": [
        "import matplotlib.pyplot as plt\n",
        "import cv2\n",
        "im = load_image(X[0])\n",
        "plt.imshow(im.astype('uint8'))"
      ],
      "metadata": {
        "id": "I1GmN-DIZiZx",
        "outputId": "d18a731a-b929-4823-9cce-00c3db35b880",
        "colab": {
          "base_uri": "https://localhost:8080/",
          "height": 324
        }
      },
      "execution_count": 13,
      "outputs": [
        {
          "output_type": "stream",
          "name": "stdout",
          "text": [
            "Loading, /content/drive/MyDrive/UNIPD/HDA/Project/Data/covid/COVID-19 (401).jpg\n",
            "<class 'numpy.ndarray'>\n"
          ]
        },
        {
          "output_type": "execute_result",
          "data": {
            "text/plain": [
              "<matplotlib.image.AxesImage at 0x7ff10eb2e810>"
            ]
          },
          "metadata": {},
          "execution_count": 13
        },
        {
          "output_type": "display_data",
          "data": {
            "image/png": "[encoded data removed]",
            "text/plain": [
              "<Figure size 432x288 with 1 Axes>"
            ]
          },
          "metadata": {
            "needs_background": "light"
          }
        }
      ]
    },
    {
      "cell_type": "markdown",
      "source": [
        "# Creating dataset"
      ],
      "metadata": {
        "id": "lMTsTfy9dOH1"
      }
    },
    {
      "cell_type": "code",
      "source": [
        "def LOAD_IMAGE(full_path):\n",
        "    print(f'Loading, {full_path}')\n",
        "    file = tf.io.read_file(full_path)\n",
        "    extension = full_path[-3:]\n",
        "    if extension == 'jpg':\n",
        "        image_decoded = tf.io.decode_jpeg(file, channels=3)\n",
        "        image = tf.cast(image_decoded, tf.float32)\n",
        "        \n",
        "    if extension == 'png':\n",
        "        image_decoded = tf.io.decode_jpeg(file, channels=3)\n",
        "        image = tf.cast(image_decoded, tf.float32)\n",
        "    else:\n",
        "        image_decoded = tf.io.decode_jpeg(file, channels=3)\n",
        "        image = tf.cast(image_decoded, tf.float32)\n",
        "    return image\n",
        "\n",
        "def resize_image(image, new_shape):\n",
        "    n = cv2.resize(image, new_shape)\n",
        "    return n\n",
        "\n",
        "def normalize_image(image):\n",
        "    return tf.cast(image, tf.float32) / 255.\n",
        "\n",
        "\n",
        "def create_dataset(file_names, shuffle, cache_file):\n",
        "    dataset = tf.data.Dataset.from_tensor_slices(\n",
        "        file_names\n",
        "    )\n",
        "\n",
        "    # load image func\n",
        "    load_im = lambda full_path: (\n",
        "        tf.numpy_function(LOAD_IMAGE, [full_path], tf.float32)\n",
        "    )\n",
        "\n",
        "    # # resize\n",
        "    # resize_im = lambda image: (\n",
        "    #     tf.numpy_function(\n",
        "    #         resize_image, \n",
        "    #         [image, PreprocParameters.resize_shape], \n",
        "    #         tf.float32\n",
        "    #     )\n",
        "    # )\n",
        "\n",
        "    # # normalize\n",
        "    # normalize_im = lambda image: (\n",
        "    #     tf.numpy_function(\n",
        "    #         normalize_image,\n",
        "    #         [image],\n",
        "    #         tf.float32\n",
        "    #     )\n",
        "    # )\n",
        "\n",
        "    dataset = dataset.map(load_im, num_parallel_calls = os.cpu_count())\n",
        "    # dataset = dataset.map(resize_im, num_parallel_calls = os.cpu_count())\n",
        "    # dataset = dataset.map(normalize_im, num_parallel_calls = os.cpu_count())\n",
        "\n",
        "    # Cache dataset\n",
        "    if cache_file:\n",
        "        dataset = dataset.cache(cache_file)\n",
        "\n",
        "    # Shuffle\n",
        "    #if shuffle:\n",
        "    #    dataset = dataset.shuffle(len(file_names))\n",
        "\n",
        "    # Repeat the dataset indefinitely\n",
        "    # dataset = dataset.repeat()\n",
        "\n",
        "    # Batch\n",
        "    # dataset = dataset.batch(\n",
        "     #   batch_size = TrainParameters.batch_size\n",
        "    #)\n",
        "\n",
        "    # Prefetch\n",
        "    #dataset = dataset.prefetch(buffer_size = 1)\n",
        "\n",
        "    return dataset"
      ],
      "metadata": {
        "id": "h4wRlcpsdWY_"
      },
      "execution_count": 62,
      "outputs": []
    },
    {
      "cell_type": "code",
      "source": [
        "train_dataset = create_dataset(\n",
        "    X_train,\n",
        "    shuffle = True,\n",
        "    cache_file = None # 'train_cache'\n",
        ")\n",
        "\n",
        "test_dataset = create_dataset(\n",
        "    X_test,\n",
        "    shuffle = True,\n",
        "    cache_file = None # 'test_cache'\n",
        ")"
      ],
      "metadata": {
        "id": "ZvIa-o7KiBHi"
      },
      "execution_count": 63,
      "outputs": []
    },
    {
      "cell_type": "markdown",
      "source": [
        "# CNN model"
      ],
      "metadata": {
        "id": "wMyqUKipUnqN"
      }
    },
    {
      "cell_type": "code",
      "source": [
        "train_dataset.take(2)"
      ],
      "metadata": {
        "id": "pnGjOZD-2bqG",
        "outputId": "2c22478a-c0a4-4293-9dcc-68bdac54f19b",
        "colab": {
          "base_uri": "https://localhost:8080/"
        }
      },
      "execution_count": 67,
      "outputs": [
        {
          "output_type": "execute_result",
          "data": {
            "text/plain": [
              "<TakeDataset shapes: <unknown>, types: tf.float32>"
            ]
          },
          "metadata": {},
          "execution_count": 67
        }
      ]
    },
    {
      "cell_type": "code",
      "source": [
        "for im in train_dataset.take(5):\n",
        "    plt.imshow(im)"
      ],
      "metadata": {
        "colab": {
          "base_uri": "https://localhost:8080/",
          "height": 488
        },
        "id": "MtwjcfZmtCUZ",
        "outputId": "4c7b0f22-7f6b-4d7d-beac-9c0e8a4833fe"
      },
      "execution_count": 68,
      "outputs": [
        {
          "output_type": "stream",
          "name": "stderr",
          "text": [
            "Clipping input data to the valid range for imshow with RGB data ([0..1] for floats or [0..255] for integers).\n",
            "Clipping input data to the valid range for imshow with RGB data ([0..1] for floats or [0..255] for integers).\n",
            "Clipping input data to the valid range for imshow with RGB data ([0..1] for floats or [0..255] for integers).\n",
            "Clipping input data to the valid range for imshow with RGB data ([0..1] for floats or [0..255] for integers).\n"
          ]
        },
        {
          "output_type": "stream",
          "name": "stdout",
          "text": [
            "Loading, b'/content/drive/MyDrive/UNIPD/HDA/Project/Data/covid/COVID-19 (527).jpg'\n",
            "Loading, b'/content/drive/MyDrive/UNIPD/HDA/Project/Data/normal/00000419_000.png'\n",
            "Loading, b'/content/drive/MyDrive/UNIPD/HDA/Project/Data/covid/COVID-19 (408).jpg'\n",
            "Loading, b'/content/drive/MyDrive/UNIPD/HDA/Project/Data/normal/00000366_001.png'\n",
            "Loading, b'/content/drive/MyDrive/UNIPD/HDA/Project/Data/normal/00000370_007.png'\n",
            "Loading, b'/content/drive/MyDrive/UNIPD/HDA/Project/Data/pneumonia/person1313_bacteria_3320.jpeg'\n",
            "Loading, b'/content/drive/MyDrive/UNIPD/HDA/Project/Data/normal/00000427_001.png'\n"
          ]
        },
        {
          "output_type": "stream",
          "name": "stderr",
          "text": [
            "Clipping input data to the valid range for imshow with RGB data ([0..1] for floats or [0..255] for integers).\n"
          ]
        },
        {
          "output_type": "display_data",
          "data": {
            "image/png": "[encoded data removed]",
            "text/plain": [
              "<Figure size 432x288 with 1 Axes>"
            ]
          },
          "metadata": {
            "needs_background": "light"
          }
        }
      ]
    }
  ],
  "metadata": {
    "kernelspec": {
      "display_name": "Python 3",
      "language": "python",
      "name": "python3"
    },
    "language_info": {
      "codemirror_mode": {
        "name": "ipython",
        "version": 3
      },
      "file_extension": ".py",
      "mimetype": "text/x-python",
      "name": "python",
      "nbconvert_exporter": "python",
      "pygments_lexer": "ipython3",
      "version": "3.9.7"
    },
    "colab": {
      "name": "main.ipynb",
      "provenance": []
    }
  },
  "nbformat": 4,
  "nbformat_minor": 0
}