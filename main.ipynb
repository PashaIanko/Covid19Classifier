{
  "cells": [
    {
      "cell_type": "markdown",
      "source": [
        "# Packages & functions"
      ],
      "metadata": {
        "id": "IfsyMy5yRWKF"
      }
    },
    {
      "cell_type": "code",
      "source": [
        "import os\n",
        "import numpy as np\n",
        "import cv2\n",
        "import tensorflow as tf\n",
        "import matplotlib.pyplot as plt"
      ],
      "metadata": {
        "id": "F1ZGnrMJRY1b"
      },
      "execution_count": 1,
      "outputs": []
    },
    {
      "cell_type": "code",
      "source": [
        "from google.colab import drive\n",
        "drive.mount('/content/drive')"
      ],
      "metadata": {
        "id": "jJq4oSfhRZY6",
        "outputId": "dfe03830-3804-4430-b893-666035cc9521",
        "colab": {
          "base_uri": "https://localhost:8080/"
        }
      },
      "execution_count": 2,
      "outputs": [
        {
          "output_type": "stream",
          "name": "stdout",
          "text": [
            "Mounted at /content/drive\n"
          ]
        }
      ]
    },
    {
      "cell_type": "code",
      "source": [
        "from tensorflow.keras.layers import Conv2D as Conv2D\n",
        "from tensorflow.keras.layers import BatchNormalization as BatchNormalization\n",
        "from tensorflow.keras.layers import ReLU as ReLU\n",
        "from tensorflow.keras.layers import MaxPool2D as MaxPool2D\n",
        "from tensorflow.keras.layers import Flatten as Flatten\n",
        "from tensorflow.keras.layers import Dense as Dense\n",
        "\n",
        "from os.path import isdir\n",
        "import os\n",
        "import numpy as np\n",
        "\n",
        "from sklearn.model_selection import train_test_split\n",
        "\n",
        "# Plotting\n",
        "import seaborn as sns"
      ],
      "metadata": {
        "id": "c-oRA_bPUpOC"
      },
      "execution_count": 14,
      "outputs": []
    },
    {
      "cell_type": "code",
      "source": [
        "class DataProperties:\n",
        "    data_path = '/content/drive/MyDrive/UNIPD/HDA/Project/Data/'\n",
        "    covid_path = data_path + 'covid/'\n",
        "    pneumonia_path = data_path + 'pneumonia/'\n",
        "    healthy_path = data_path + 'normal/'\n",
        "\n",
        "    healthy_class = 0\n",
        "    covid_class = 1\n",
        "    pneumonia_class = 2\n",
        "\n",
        "class TrainParameters:\n",
        "    train_size = 0.8\n",
        "    random_state = 123\n",
        "    batch_size = 32\n",
        "    max_size = 50  # Max size of each class\n",
        "\n",
        "class PreprocParameters:\n",
        "    resize_shape = (300, 300)"
      ],
      "metadata": {
        "id": "5ATZ2_ALR7I0"
      },
      "execution_count": 21,
      "outputs": []
    },
    {
      "cell_type": "markdown",
      "source": [
        "# Data download"
      ],
      "metadata": {
        "id": "sdFefXHCRONl"
      }
    },
    {
      "cell_type": "markdown",
      "source": [
        "## Paths download"
      ],
      "metadata": {
        "id": "ZYflDFndXpq0"
      }
    },
    {
      "cell_type": "code",
      "source": [
        "# Load filenames\n",
        "def load_filenames(data_path, max_files = None):\n",
        "    p = os.listdir(data_path)\n",
        "    if max_files is not None:\n",
        "        p = p[: min(max_files, len(p))]\n",
        "    p = [data_path + file_path for file_path in p]\n",
        "    return p"
      ],
      "metadata": {
        "id": "_92ledl6RRkk"
      },
      "execution_count": 7,
      "outputs": []
    },
    {
      "cell_type": "code",
      "source": [
        "covid_fnames = load_filenames(DataProperties.covid_path, TrainParameters.max_size)\n",
        "pn_fnames = load_filenames(DataProperties.pneumonia_path, TrainParameters.max_size)\n",
        "healthy_fnames = load_filenames(DataProperties.healthy_path, TrainParameters.max_size)"
      ],
      "metadata": {
        "id": "Li1Ee7eKT4M2"
      },
      "execution_count": 8,
      "outputs": []
    },
    {
      "cell_type": "code",
      "source": [
        "covid_labels = np.full(\n",
        "    len(covid_fnames), fill_value = DataProperties.covid_class\n",
        ")\n",
        "\n",
        "pn_labels = np.full(\n",
        "    len(pn_fnames), fill_value = DataProperties.pneumonia_class\n",
        ")\n",
        "\n",
        "healthy_labels = np.full(\n",
        "    len(healthy_fnames), fill_value = DataProperties.healthy_class\n",
        ")"
      ],
      "metadata": {
        "id": "pe9xFnA0U5rt"
      },
      "execution_count": 10,
      "outputs": []
    },
    {
      "cell_type": "code",
      "source": [
        "X = [\n",
        "     *covid_fnames, *pn_fnames, *healthy_fnames\n",
        "]\n",
        "\n",
        "Y = [\n",
        "     *covid_labels, *pn_labels, *healthy_labels\n",
        "]"
      ],
      "metadata": {
        "id": "0o7Q9Lq8Wj58"
      },
      "execution_count": 11,
      "outputs": []
    },
    {
      "cell_type": "markdown",
      "source": [
        "## Split"
      ],
      "metadata": {
        "id": "qcXEfDYnXyKI"
      }
    },
    {
      "cell_type": "code",
      "source": [
        "X_train, X_test, Y_train, Y_test = train_test_split(\n",
        "    X, Y,\n",
        "    train_size = TrainParameters.train_size,\n",
        "    random_state = TrainParameters.random_state,\n",
        "    stratify = Y\n",
        ")"
      ],
      "metadata": {
        "id": "AMsWK_9iYKFq"
      },
      "execution_count": 13,
      "outputs": []
    },
    {
      "cell_type": "markdown",
      "source": [
        "# Data exploration"
      ],
      "metadata": {
        "id": "aMfvCUABX628"
      }
    },
    {
      "cell_type": "code",
      "source": [
        "_ = sns.countplot(Y)"
      ],
      "metadata": {
        "id": "wTUMvy49X8xl",
        "outputId": "f8161c62-123b-452b-d81f-a12ce8921069",
        "colab": {
          "base_uri": "https://localhost:8080/",
          "height": 320
        }
      },
      "execution_count": 15,
      "outputs": [
        {
          "output_type": "stream",
          "name": "stderr",
          "text": [
            "/usr/local/lib/python3.7/dist-packages/seaborn/_decorators.py:43: FutureWarning: Pass the following variable as a keyword arg: x. From version 0.12, the only valid positional argument will be `data`, and passing other arguments without an explicit keyword will result in an error or misinterpretation.\n",
            "  FutureWarning\n"
          ]
        },
        {
          "output_type": "display_data",
          "data": {
            "image/png": "[encoded data removed]",
            "text/plain": [
              "<Figure size 432x288 with 1 Axes>"
            ]
          },
          "metadata": {
            "needs_background": "light"
          }
        }
      ]
    },
    {
      "cell_type": "code",
      "source": [
        "_ = sns.countplot(Y_train)"
      ],
      "metadata": {
        "id": "qn1n967AYgC3",
        "outputId": "d007093c-c553-4ea0-c0b1-865ad156672a",
        "colab": {
          "base_uri": "https://localhost:8080/",
          "height": 320
        }
      },
      "execution_count": 16,
      "outputs": [
        {
          "output_type": "stream",
          "name": "stderr",
          "text": [
            "/usr/local/lib/python3.7/dist-packages/seaborn/_decorators.py:43: FutureWarning: Pass the following variable as a keyword arg: x. From version 0.12, the only valid positional argument will be `data`, and passing other arguments without an explicit keyword will result in an error or misinterpretation.\n",
            "  FutureWarning\n"
          ]
        },
        {
          "output_type": "display_data",
          "data": {
            "image/png": "[encoded data removed]",
            "text/plain": [
              "<Figure size 432x288 with 1 Axes>"
            ]
          },
          "metadata": {
            "needs_background": "light"
          }
        }
      ]
    },
    {
      "cell_type": "code",
      "source": [
        "_ = sns.countplot(Y_test)"
      ],
      "metadata": {
        "id": "1SxMqGG4Ykge",
        "outputId": "6f306948-9257-4668-a061-fed79ff8fbf0",
        "colab": {
          "base_uri": "https://localhost:8080/",
          "height": 320
        }
      },
      "execution_count": 17,
      "outputs": [
        {
          "output_type": "stream",
          "name": "stderr",
          "text": [
            "/usr/local/lib/python3.7/dist-packages/seaborn/_decorators.py:43: FutureWarning: Pass the following variable as a keyword arg: x. From version 0.12, the only valid positional argument will be `data`, and passing other arguments without an explicit keyword will result in an error or misinterpretation.\n",
            "  FutureWarning\n"
          ]
        },
        {
          "output_type": "display_data",
          "data": {
            "image/png": "[encoded data removed]",
            "text/plain": [
              "<Figure size 432x288 with 1 Axes>"
            ]
          },
          "metadata": {
            "needs_background": "light"
          }
        }
      ]
    },
    {
      "cell_type": "code",
      "source": [
        "def load_image(full_path):\n",
        "    print(f'Loading, {full_path}')\n",
        "    img = cv2.imread(full_path, cv2.IMREAD_COLOR)\n",
        "    print(type(img))\n",
        "    return img"
      ],
      "metadata": {
        "id": "E75yrMqRZCeV"
      },
      "execution_count": 18,
      "outputs": []
    },
    {
      "cell_type": "code",
      "source": [
        "print(X[0])\n",
        "im = load_image(X[0])\n",
        "plt.imshow(im.astype('uint8'))"
      ],
      "metadata": {
        "id": "I1GmN-DIZiZx",
        "outputId": "bbfe5291-bbc0-4d46-f2a8-9957e4f34409",
        "colab": {
          "base_uri": "https://localhost:8080/",
          "height": 338
        }
      },
      "execution_count": 20,
      "outputs": [
        {
          "output_type": "stream",
          "name": "stdout",
          "text": [
            "/content/drive/MyDrive/UNIPD/HDA/Project/Data/covid/COVID-19 (401).jpg\n",
            "Loading, /content/drive/MyDrive/UNIPD/HDA/Project/Data/covid/COVID-19 (401).jpg\n",
            "<class 'numpy.ndarray'>\n"
          ]
        },
        {
          "output_type": "execute_result",
          "data": {
            "text/plain": [
              "<matplotlib.image.AxesImage at 0x7f52f522fe10>"
            ]
          },
          "metadata": {},
          "execution_count": 20
        },
        {
          "output_type": "display_data",
          "data": {
            "image/png": "[encoded data removed]",
            "text/plain": [
              "<Figure size 432x288 with 1 Axes>"
            ]
          },
          "metadata": {
            "needs_background": "light"
          }
        }
      ]
    },
    {
      "cell_type": "code",
      "source": [
        "im = load_image(X_train[0])\n",
        "plt.imshow(im.astype('uint8'))"
      ],
      "metadata": {
        "id": "wFDVXHbHBPg8",
        "outputId": "5f3d9c96-5e4b-4878-9b4f-c71e3a8dc4f3",
        "colab": {
          "base_uri": "https://localhost:8080/",
          "height": 321
        }
      },
      "execution_count": null,
      "outputs": [
        {
          "output_type": "stream",
          "name": "stdout",
          "text": [
            "Loading, /content/drive/MyDrive/UNIPD/HDA/Project/Data/covid/COVID-19 (527).jpg\n",
            "<class 'numpy.ndarray'>\n"
          ]
        },
        {
          "output_type": "execute_result",
          "data": {
            "text/plain": [
              "<matplotlib.image.AxesImage at 0x7ff75347ca10>"
            ]
          },
          "metadata": {},
          "execution_count": 36
        },
        {
          "output_type": "display_data",
          "data": {
            "image/png": "[encoded data removed]",
            "text/plain": [
              "<Figure size 432x288 with 1 Axes>"
            ]
          },
          "metadata": {
            "needs_background": "light"
          }
        }
      ]
    },
    {
      "cell_type": "markdown",
      "source": [
        "# Creating dataset"
      ],
      "metadata": {
        "id": "lMTsTfy9dOH1"
      }
    },
    {
      "cell_type": "code",
      "source": [
        "img_height, img_width = PreprocParameters.resize_shape \n",
        "batch_size = 4\n",
        "seed = 123\n",
        "validation_split = 0.2\n",
        "shuffle_train = True\n",
        "shuffle_test = True\n",
        "\n",
        "ds_train = tf.keras.preprocessing.image_dataset_from_directory(\n",
        "    DataProperties.data_path,\n",
        "    labels = 'inferred',\n",
        "    label_mode = 'int',\n",
        "    color_mode = 'rgb',\n",
        "    batch_size = batch_size,\n",
        "    image_size = (img_height, img_width),\n",
        "    shuffle = shuffle_train,\n",
        "    seed = seed,\n",
        "    validation_split = validation_split,\n",
        "    subset = 'training'\n",
        ")\n",
        "\n",
        "ds_validation = tf.keras.preprocessing.image_dataset_from_directory(\n",
        "    DataProperties.data_path,\n",
        "    labels = 'inferred',\n",
        "    label_mode = 'int',\n",
        "    # class_names = ,\n",
        "    color_mode = 'rgb',\n",
        "    batch_size = batch_size,\n",
        "    image_size = (img_height, img_width),\n",
        "    shuffle = shuffle_test,\n",
        "    seed = seed,\n",
        "    validation_split = validation_split,\n",
        "    subset = 'validation'\n",
        ")"
      ],
      "metadata": {
        "id": "czAJYBkDBjhQ",
        "outputId": "d017e68d-dc39-4b5e-ac54-91328e48ce05",
        "colab": {
          "base_uri": "https://localhost:8080/"
        }
      },
      "execution_count": 29,
      "outputs": [
        {
          "output_type": "stream",
          "name": "stdout",
          "text": [
            "Found 4575 files belonging to 3 classes.\n",
            "Using 3660 files for training.\n",
            "Found 4575 files belonging to 3 classes.\n",
            "Using 915 files for validation.\n"
          ]
        }
      ]
    },
    {
      "cell_type": "code",
      "source": [
        "for images, labels in ds_train.take(1):\n",
        "    for i in range(batch_size):\n",
        "        ax = plt.subplot(np.sqrt(batch_size), np.sqrt(batch_size), i + 1)\n",
        "        plt.imshow(images[i].numpy().astype(\"uint8\"))\n",
        "        plt.title(str(labels[i].numpy()))\n",
        "        plt.axis(\"off\")"
      ],
      "metadata": {
        "id": "XGfpWSYvLdvf",
        "outputId": "880f392e-7ef0-417f-e616-e82a0df2b7e5",
        "colab": {
          "base_uri": "https://localhost:8080/",
          "height": 264
        }
      },
      "execution_count": 53,
      "outputs": [
        {
          "output_type": "display_data",
          "data": {
            "image/png": "[encoded data removed]",
            "text/plain": [
              "<Figure size 432x288 with 4 Axes>"
            ]
          },
          "metadata": {
            "needs_background": "light"
          }
        }
      ]
    },
    {
      "cell_type": "code",
      "source": [
        "def print_max_pix_val(ds):\n",
        "    for images, labels in ds.take(1):\n",
        "        for i in range(batch_size):\n",
        "            print(np.max(images[i].numpy()))\n",
        "\n",
        "print_max_pix_val(ds_train)\n",
        "print_max_pix_val(ds_validation)"
      ],
      "metadata": {
        "id": "CkpM0PGrN2pM",
        "outputId": "17645262-9c9d-48cb-9b1c-64964f75dc8e",
        "colab": {
          "base_uri": "https://localhost:8080/"
        }
      },
      "execution_count": 63,
      "outputs": [
        {
          "output_type": "stream",
          "name": "stdout",
          "text": [
            "255.0\n",
            "255.0\n",
            "255.0\n",
            "255.0\n",
            "249.80574\n",
            "252.22665\n",
            "250.67702\n",
            "254.496\n"
          ]
        }
      ]
    },
    {
      "cell_type": "markdown",
      "source": [
        "# Data preprocessing"
      ],
      "metadata": {
        "id": "6iQOxeh3PB6V"
      }
    },
    {
      "cell_type": "markdown",
      "source": [
        "## Normalization"
      ],
      "metadata": {
        "id": "xD_1__EPP0Gn"
      }
    },
    {
      "cell_type": "code",
      "source": [
        "def normalize_image(image, y):\n",
        "    return tf.cast(image, tf.float32) / 255., y"
      ],
      "metadata": {
        "id": "BQD6FacLPGGQ"
      },
      "execution_count": 65,
      "outputs": []
    },
    {
      "cell_type": "code",
      "source": [
        "ds_train = ds_train.map(normalize_image)\n",
        "ds_validation = ds_validation.map(normalize_image)\n",
        "\n",
        "print_max_pix_val(ds_train)\n",
        "print_max_pix_val(ds_validation)"
      ],
      "metadata": {
        "id": "OE1nWFarPTa3",
        "outputId": "287c0976-03dd-4679-b71e-02c3eb079f45",
        "colab": {
          "base_uri": "https://localhost:8080/"
        }
      },
      "execution_count": 68,
      "outputs": [
        {
          "output_type": "stream",
          "name": "stdout",
          "text": [
            "1.5366035e-05\n",
            "1.5360609e-05\n",
            "1.53609e-05\n",
            "1.5016849e-05\n",
            "0.003921569\n",
            "0.003921569\n",
            "0.00391594\n",
            "0.003921569\n"
          ]
        }
      ]
    },
    {
      "cell_type": "code",
      "source": [
        ""
      ],
      "metadata": {
        "id": "6EwzU1ckQMje"
      },
      "execution_count": null,
      "outputs": []
    },
    {
      "cell_type": "markdown",
      "source": [
        "## Other stuff"
      ],
      "metadata": {
        "id": "uxFIrgLvP2MM"
      }
    },
    {
      "cell_type": "code",
      "source": [
        "def LOAD_IMAGE(full_path):\n",
        "    print(f'Loading, {full_path}')\n",
        "    file = tf.io.read_file(full_path)\n",
        "    extension = full_path[-3:]\n",
        "    if extension == 'jpg':\n",
        "        image_decoded = tf.io.decode_jpeg(file, channels=3)\n",
        "        image = tf.cast(image_decoded, tf.float32)\n",
        "        \n",
        "    if extension == 'png':\n",
        "        image_decoded = tf.io.decode_jpeg(file, channels=3)\n",
        "        image = tf.cast(image_decoded, tf.float32)\n",
        "    else:\n",
        "        image_decoded = tf.io.decode_jpeg(file, channels=3)\n",
        "        image = tf.cast(image_decoded, tf.float32)\n",
        "    return image\n",
        "\n",
        "def resize_image(image, new_shape):\n",
        "    n = cv2.resize(image, new_shape)\n",
        "    return n\n",
        "\n",
        "def normalize_image(image):\n",
        "    return tf.cast(image, tf.float32) / 255.\n",
        "\n",
        "\n",
        "def create_dataset(file_names, shuffle, cache_file):\n",
        "    dataset = tf.data.Dataset.from_tensor_slices(\n",
        "        file_names\n",
        "    )\n",
        "\n",
        "    # load image func\n",
        "    load_im = lambda full_path: (\n",
        "        tf.numpy_function(LOAD_IMAGE, [full_path], tf.float32)\n",
        "    )\n",
        "\n",
        "    # # resize\n",
        "    # resize_im = lambda image: (\n",
        "    #     tf.numpy_function(\n",
        "    #         resize_image, \n",
        "    #         [image, PreprocParameters.resize_shape], \n",
        "    #         tf.float32\n",
        "    #     )\n",
        "    # )\n",
        "\n",
        "    # # normalize\n",
        "    # normalize_im = lambda image: (\n",
        "    #     tf.numpy_function(\n",
        "    #         normalize_image,\n",
        "    #         [image],\n",
        "    #         tf.float32\n",
        "    #     )\n",
        "    # )\n",
        "\n",
        "    dataset = dataset.map(load_im, num_parallel_calls = os.cpu_count())\n",
        "    # dataset = dataset.map(resize_im, num_parallel_calls = os.cpu_count())\n",
        "    # dataset = dataset.map(normalize_im, num_parallel_calls = os.cpu_count())\n",
        "\n",
        "    # Cache dataset\n",
        "    if cache_file:\n",
        "        dataset = dataset.cache(cache_file)\n",
        "\n",
        "    # Shuffle\n",
        "    #if shuffle:\n",
        "    #    dataset = dataset.shuffle(len(file_names))\n",
        "\n",
        "    # Repeat the dataset indefinitely\n",
        "    # dataset = dataset.repeat()\n",
        "\n",
        "    # Batch\n",
        "    # dataset = dataset.batch(\n",
        "     #   batch_size = TrainParameters.batch_size\n",
        "    #)\n",
        "\n",
        "    # Prefetch\n",
        "    #dataset = dataset.prefetch(buffer_size = 1)\n",
        "\n",
        "    return dataset"
      ],
      "metadata": {
        "id": "h4wRlcpsdWY_"
      },
      "execution_count": null,
      "outputs": []
    },
    {
      "cell_type": "code",
      "source": [
        "train_dataset = create_dataset(\n",
        "    X_train,\n",
        "    shuffle = True,\n",
        "    cache_file = None # 'train_cache'\n",
        ")\n",
        "\n",
        "test_dataset = create_dataset(\n",
        "    X_test,\n",
        "    shuffle = True,\n",
        "    cache_file = None # 'test_cache'\n",
        ")"
      ],
      "metadata": {
        "id": "ZvIa-o7KiBHi"
      },
      "execution_count": null,
      "outputs": []
    },
    {
      "cell_type": "markdown",
      "source": [
        "# CNN model"
      ],
      "metadata": {
        "id": "wMyqUKipUnqN"
      }
    },
    {
      "cell_type": "code",
      "source": [
        "train_dataset.take(2)"
      ],
      "metadata": {
        "id": "pnGjOZD-2bqG",
        "outputId": "2c22478a-c0a4-4293-9dcc-68bdac54f19b",
        "colab": {
          "base_uri": "https://localhost:8080/"
        }
      },
      "execution_count": null,
      "outputs": [
        {
          "output_type": "execute_result",
          "data": {
            "text/plain": [
              "<TakeDataset shapes: <unknown>, types: tf.float32>"
            ]
          },
          "metadata": {},
          "execution_count": 67
        }
      ]
    },
    {
      "cell_type": "code",
      "source": [
        "for im in train_dataset.take(5):\n",
        "    plt.imshow(im)"
      ],
      "metadata": {
        "colab": {
          "base_uri": "https://localhost:8080/",
          "height": 488
        },
        "id": "MtwjcfZmtCUZ",
        "outputId": "4c7b0f22-7f6b-4d7d-beac-9c0e8a4833fe"
      },
      "execution_count": null,
      "outputs": [
        {
          "output_type": "stream",
          "name": "stderr",
          "text": [
            "Clipping input data to the valid range for imshow with RGB data ([0..1] for floats or [0..255] for integers).\n",
            "Clipping input data to the valid range for imshow with RGB data ([0..1] for floats or [0..255] for integers).\n",
            "Clipping input data to the valid range for imshow with RGB data ([0..1] for floats or [0..255] for integers).\n",
            "Clipping input data to the valid range for imshow with RGB data ([0..1] for floats or [0..255] for integers).\n"
          ]
        },
        {
          "output_type": "stream",
          "name": "stdout",
          "text": [
            "Loading, b'/content/drive/MyDrive/UNIPD/HDA/Project/Data/covid/COVID-19 (527).jpg'\n",
            "Loading, b'/content/drive/MyDrive/UNIPD/HDA/Project/Data/normal/00000419_000.png'\n",
            "Loading, b'/content/drive/MyDrive/UNIPD/HDA/Project/Data/covid/COVID-19 (408).jpg'\n",
            "Loading, b'/content/drive/MyDrive/UNIPD/HDA/Project/Data/normal/00000366_001.png'\n",
            "Loading, b'/content/drive/MyDrive/UNIPD/HDA/Project/Data/normal/00000370_007.png'\n",
            "Loading, b'/content/drive/MyDrive/UNIPD/HDA/Project/Data/pneumonia/person1313_bacteria_3320.jpeg'\n",
            "Loading, b'/content/drive/MyDrive/UNIPD/HDA/Project/Data/normal/00000427_001.png'\n"
          ]
        },
        {
          "output_type": "stream",
          "name": "stderr",
          "text": [
            "Clipping input data to the valid range for imshow with RGB data ([0..1] for floats or [0..255] for integers).\n"
          ]
        },
        {
          "output_type": "display_data",
          "data": {
            "image/png": "[encoded data removed]",
            "text/plain": [
              "<Figure size 432x288 with 1 Axes>"
            ]
          },
          "metadata": {
            "needs_background": "light"
          }
        }
      ]
    }
  ],
  "metadata": {
    "kernelspec": {
      "display_name": "Python 3",
      "language": "python",
      "name": "python3"
    },
    "language_info": {
      "codemirror_mode": {
        "name": "ipython",
        "version": 3
      },
      "file_extension": ".py",
      "mimetype": "text/x-python",
      "name": "python",
      "nbconvert_exporter": "python",
      "pygments_lexer": "ipython3",
      "version": "3.9.7"
    },
    "colab": {
      "name": "main.ipynb",
      "provenance": []
    }
  },
  "nbformat": 4,
  "nbformat_minor": 0
}