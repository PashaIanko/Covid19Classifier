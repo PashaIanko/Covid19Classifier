{
  "cells": [
    {
      "cell_type": "markdown",
      "source": [
        "# Packages & functions"
      ],
      "metadata": {
        "id": "IfsyMy5yRWKF"
      }
    },
    {
      "cell_type": "markdown",
      "source": [
        "TODO:\n",
        "- Why buffer size = 1?"
      ],
      "metadata": {
        "id": "5tEtAoJ2jYOA"
      }
    },
    {
      "cell_type": "code",
      "source": [
        "import os\n",
        "import numpy as np\n",
        "import cv2\n",
        "import tensorflow as tf"
      ],
      "metadata": {
        "id": "F1ZGnrMJRY1b"
      },
      "execution_count": 1,
      "outputs": []
    },
    {
      "cell_type": "code",
      "source": [
        "from google.colab import drive\n",
        "drive.mount('/content/drive')"
      ],
      "metadata": {
        "id": "jJq4oSfhRZY6",
        "outputId": "9a44745f-84c4-49b3-80cd-c3af5d0b7344",
        "colab": {
          "base_uri": "https://localhost:8080/"
        }
      },
      "execution_count": 2,
      "outputs": [
        {
          "output_type": "stream",
          "name": "stdout",
          "text": [
            "Mounted at /content/drive\n"
          ]
        }
      ]
    },
    {
      "cell_type": "code",
      "source": [
        "from os.path import isdir"
      ],
      "metadata": {
        "id": "x_NySXecReP4"
      },
      "execution_count": 3,
      "outputs": []
    },
    {
      "cell_type": "code",
      "source": [
        "class DataProperties:\n",
        "    data_path = '/content/drive/MyDrive/UNIPD/HDA/Project/Data/'\n",
        "    covid_path = data_path + 'covid/'\n",
        "    pneumonia_path = data_path + 'pneumonia/'\n",
        "    healthy_path = data_path + 'normal/'\n",
        "\n",
        "    healthy_class = 0\n",
        "    covid_class = 1\n",
        "    pneumonia_class = 2\n",
        "\n",
        "class TrainParameters:\n",
        "    train_size = 0.8\n",
        "    random_state = 123\n",
        "    batch_size = 32\n",
        "\n",
        "class PreprocParameters:\n",
        "    resize_shape = (500, 500)"
      ],
      "metadata": {
        "id": "5ATZ2_ALR7I0"
      },
      "execution_count": 97,
      "outputs": []
    },
    {
      "cell_type": "markdown",
      "source": [
        "# Data download"
      ],
      "metadata": {
        "id": "sdFefXHCRONl"
      }
    },
    {
      "cell_type": "markdown",
      "source": [
        "## Paths download"
      ],
      "metadata": {
        "id": "ZYflDFndXpq0"
      }
    },
    {
      "cell_type": "code",
      "source": [
        "import os\n",
        "\n",
        "# Load filenames\n",
        "def load_filenames(data_path, max_files = None):\n",
        "    p = os.listdir(data_path)\n",
        "    if max_files is not None:\n",
        "        return p[: min(max_files, len(p))]\n",
        "    else:\n",
        "        return p"
      ],
      "metadata": {
        "id": "_92ledl6RRkk"
      },
      "execution_count": 109,
      "outputs": []
    },
    {
      "cell_type": "code",
      "source": [
        "l = [1, 2, 3]\n",
        "print(l[: len(l)])"
      ],
      "metadata": {
        "id": "_yGFpxIVl9Pd",
        "outputId": "472aca63-bfc0-4bc1-b72f-c2a48458c5d6",
        "colab": {
          "base_uri": "https://localhost:8080/"
        }
      },
      "execution_count": 110,
      "outputs": [
        {
          "output_type": "stream",
          "name": "stdout",
          "text": [
            "[1, 2, 3]\n"
          ]
        }
      ]
    },
    {
      "cell_type": "code",
      "source": [
        "max_files = 100\n",
        "covid_fnames = load_filenames(DataProperties.covid_path, max_files)\n",
        "pn_fnames = load_filenames(DataProperties.pneumonia_path, max_files)\n",
        "healthy_fnames = load_filenames(DataProperties.healthy_path, max_files)"
      ],
      "metadata": {
        "id": "Li1Ee7eKT4M2"
      },
      "execution_count": 113,
      "outputs": []
    },
    {
      "cell_type": "code",
      "source": [
        "import numpy as np\n",
        "\n",
        "covid_labels = np.full(\n",
        "    len(covid_fnames), fill_value = DataProperties.covid_class\n",
        ")\n",
        "\n",
        "pn_labels = np.full(\n",
        "    len(pn_fnames), fill_value = DataProperties.pneumonia_class\n",
        ")\n",
        "\n",
        "healthy_labels = np.full(\n",
        "    len(healthy_fnames), fill_value = DataProperties.healthy_class\n",
        ")"
      ],
      "metadata": {
        "id": "pe9xFnA0U5rt"
      },
      "execution_count": 114,
      "outputs": []
    },
    {
      "cell_type": "code",
      "source": [
        "X = [\n",
        "     *covid_fnames, *pn_fnames, *healthy_fnames\n",
        "]\n",
        "\n",
        "Y = [\n",
        "     *covid_labels, *pn_labels, *healthy_labels\n",
        "]"
      ],
      "metadata": {
        "id": "0o7Q9Lq8Wj58"
      },
      "execution_count": 115,
      "outputs": []
    },
    {
      "cell_type": "markdown",
      "source": [
        "## Split"
      ],
      "metadata": {
        "id": "qcXEfDYnXyKI"
      }
    },
    {
      "cell_type": "code",
      "source": [
        "from sklearn.model_selection import train_test_split"
      ],
      "metadata": {
        "id": "5ed9kVjYXHf9"
      },
      "execution_count": 116,
      "outputs": []
    },
    {
      "cell_type": "code",
      "source": [
        "X_train, X_test, Y_train, Y_test = train_test_split(\n",
        "    X, Y,\n",
        "    train_size = TrainParameters.train_size,\n",
        "    random_state = TrainParameters.random_state,\n",
        "    stratify = Y\n",
        ")"
      ],
      "metadata": {
        "id": "AMsWK_9iYKFq"
      },
      "execution_count": 117,
      "outputs": []
    },
    {
      "cell_type": "markdown",
      "source": [
        "# Data exploration"
      ],
      "metadata": {
        "id": "aMfvCUABX628"
      }
    },
    {
      "cell_type": "code",
      "source": [
        "import seaborn as sns\n",
        "\n",
        "_ = sns.countplot(Y)"
      ],
      "metadata": {
        "id": "wTUMvy49X8xl",
        "outputId": "649cc7be-b614-4815-8216-974ef7d453c5",
        "colab": {
          "base_uri": "https://localhost:8080/",
          "height": 320
        }
      },
      "execution_count": 118,
      "outputs": [
        {
          "output_type": "stream",
          "name": "stderr",
          "text": [
            "/usr/local/lib/python3.7/dist-packages/seaborn/_decorators.py:43: FutureWarning: Pass the following variable as a keyword arg: x. From version 0.12, the only valid positional argument will be `data`, and passing other arguments without an explicit keyword will result in an error or misinterpretation.\n",
            "  FutureWarning\n"
          ]
        },
        {
          "output_type": "display_data",
          "data": {
            "image/png": "[encoded data removed]",
            "text/plain": [
              "<Figure size 432x288 with 1 Axes>"
            ]
          },
          "metadata": {
            "needs_background": "light"
          }
        }
      ]
    },
    {
      "cell_type": "code",
      "source": [
        "_ = sns.countplot(Y_train)"
      ],
      "metadata": {
        "id": "qn1n967AYgC3",
        "outputId": "7969a2ad-570d-4538-ee0c-b6dcdb044138",
        "colab": {
          "base_uri": "https://localhost:8080/",
          "height": 320
        }
      },
      "execution_count": 119,
      "outputs": [
        {
          "output_type": "stream",
          "name": "stderr",
          "text": [
            "/usr/local/lib/python3.7/dist-packages/seaborn/_decorators.py:43: FutureWarning: Pass the following variable as a keyword arg: x. From version 0.12, the only valid positional argument will be `data`, and passing other arguments without an explicit keyword will result in an error or misinterpretation.\n",
            "  FutureWarning\n"
          ]
        },
        {
          "output_type": "display_data",
          "data": {
            "image/png": "[encoded data removed]",
            "text/plain": [
              "<Figure size 432x288 with 1 Axes>"
            ]
          },
          "metadata": {
            "needs_background": "light"
          }
        }
      ]
    },
    {
      "cell_type": "code",
      "source": [
        "_ = sns.countplot(Y_test)"
      ],
      "metadata": {
        "id": "1SxMqGG4Ykge",
        "outputId": "f4c91ff2-1283-4e96-c0f7-60d6ba3c7a5e",
        "colab": {
          "base_uri": "https://localhost:8080/",
          "height": 320
        }
      },
      "execution_count": 120,
      "outputs": [
        {
          "output_type": "stream",
          "name": "stderr",
          "text": [
            "/usr/local/lib/python3.7/dist-packages/seaborn/_decorators.py:43: FutureWarning: Pass the following variable as a keyword arg: x. From version 0.12, the only valid positional argument will be `data`, and passing other arguments without an explicit keyword will result in an error or misinterpretation.\n",
            "  FutureWarning\n"
          ]
        },
        {
          "output_type": "display_data",
          "data": {
            "image/png": "[encoded data removed]",
            "text/plain": [
              "<Figure size 432x288 with 1 Axes>"
            ]
          },
          "metadata": {
            "needs_background": "light"
          }
        }
      ]
    },
    {
      "cell_type": "code",
      "source": [
        "def load_image(path, file_name):\n",
        "    im_path = path + file_name\n",
        "    print(im_path)\n",
        "    img = cv2.imread(im_path, cv2.IMREAD_COLOR)\n",
        "    return img\n"
      ],
      "metadata": {
        "id": "E75yrMqRZCeV"
      },
      "execution_count": 121,
      "outputs": []
    },
    {
      "cell_type": "code",
      "source": [
        "import matplotlib.pyplot as plt\n",
        "im = load_image(DataProperties.covid_path, X[0])\n",
        "plt.imshow(im)"
      ],
      "metadata": {
        "id": "I1GmN-DIZiZx",
        "outputId": "411ce451-2f3a-464b-9226-fab7a748ffb1",
        "colab": {
          "base_uri": "https://localhost:8080/",
          "height": 304
        }
      },
      "execution_count": 122,
      "outputs": [
        {
          "output_type": "stream",
          "name": "stdout",
          "text": [
            "/content/drive/MyDrive/UNIPD/HDA/Project/Data/covid/COVID-19 (401).jpg\n"
          ]
        },
        {
          "output_type": "execute_result",
          "data": {
            "text/plain": [
              "<matplotlib.image.AxesImage at 0x7ff008de1210>"
            ]
          },
          "metadata": {},
          "execution_count": 122
        },
        {
          "output_type": "display_data",
          "data": {
            "image/png": "[encoded data removed]",
            "text/plain": [
              "<Figure size 432x288 with 1 Axes>"
            ]
          },
          "metadata": {
            "needs_background": "light"
          }
        }
      ]
    },
    {
      "cell_type": "code",
      "source": [
        "r = cv2.resize(im, (500, 500))"
      ],
      "metadata": {
        "id": "7uyi7GoOfa7u"
      },
      "execution_count": 123,
      "outputs": []
    },
    {
      "cell_type": "code",
      "source": [
        "plt.imshow(r)"
      ],
      "metadata": {
        "id": "6YSC7GHEfg3p",
        "outputId": "2b30d64b-8339-4c05-a48a-702b5dc6d0e5",
        "colab": {
          "base_uri": "https://localhost:8080/",
          "height": 286
        }
      },
      "execution_count": 124,
      "outputs": [
        {
          "output_type": "execute_result",
          "data": {
            "text/plain": [
              "<matplotlib.image.AxesImage at 0x7ff008dc5550>"
            ]
          },
          "metadata": {},
          "execution_count": 124
        },
        {
          "output_type": "display_data",
          "data": {
            "image/png": "[encoded data removed]",
            "text/plain": [
              "<Figure size 432x288 with 1 Axes>"
            ]
          },
          "metadata": {
            "needs_background": "light"
          }
        }
      ]
    },
    {
      "cell_type": "markdown",
      "source": [
        "# Creating dataset"
      ],
      "metadata": {
        "id": "lMTsTfy9dOH1"
      }
    },
    {
      "cell_type": "code",
      "source": [
        "def resize_image(image, new_shape):\n",
        "    n = cv2.resize(image, new_shape)\n",
        "    return n\n",
        "\n",
        "def normalize_image(image):\n",
        "    return tf.cast(image, tf.float32) / 255.\n",
        "\n",
        "\n",
        "def create_dataset(file_names, shuffle, cache_file):\n",
        "    dataset = tf.data.Dataset.from_tensor_slices(\n",
        "        file_names\n",
        "    )\n",
        "\n",
        "    # load image func\n",
        "    load_im = lambda file_name: (\n",
        "        tf.numpy_function(load_image, [file_name], tf.float32)\n",
        "    )\n",
        "\n",
        "    # resize\n",
        "    resize_im = lambda image: (\n",
        "        tf.numpy_function(\n",
        "            resize_image, \n",
        "            [image, PreprocParameters.resize_shape], \n",
        "            tf.float32\n",
        "        )\n",
        "    )\n",
        "\n",
        "    # normalize\n",
        "    normalize_im = lambda image: (\n",
        "        tf.numpy_function(\n",
        "            normalize_image,\n",
        "            [image],\n",
        "            tf.float32\n",
        "        )\n",
        "    )\n",
        "\n",
        "    dataset = dataset.map(load_im, num_parallel_calls = os.cpu_count())\n",
        "    dataset = dataset.map(resize_im, num_parallel_calls = os.cpu_count())\n",
        "    dataset = dataset.map(normalize_im, num_parallel_calls = os.cpu_count())\n",
        "\n",
        "    # Cache dataset\n",
        "    if cache_file:\n",
        "        dataset = dataset.cache(cache_file)\n",
        "\n",
        "    # Shuffle\n",
        "    if shuffle:\n",
        "        dataset = dataset.shuffle(len(file_names))\n",
        "\n",
        "    # Repeat the dataset indefinitely\n",
        "    dataset = dataset.repeat()\n",
        "\n",
        "    # Batch\n",
        "    dataset = dataset.batch(\n",
        "        batch_size = TrainParameters.batch_size\n",
        "    )\n",
        "\n",
        "    # Prefetch\n",
        "    dataset = dataset.prefetch(buffer_size = 1)\n",
        "\n",
        "    return dataset"
      ],
      "metadata": {
        "id": "h4wRlcpsdWY_"
      },
      "execution_count": 125,
      "outputs": []
    },
    {
      "cell_type": "code",
      "source": [
        "train_dataset = create_dataset(\n",
        "    X_train,\n",
        "    shuffle = True,\n",
        "    cache_file = 'train_cache'\n",
        ")\n",
        "\n",
        "test_dataset = create_dataset(\n",
        "    X_test,\n",
        "    shuffle = True,\n",
        "    cache_file = 'test_cache'\n",
        ")"
      ],
      "metadata": {
        "id": "ZvIa-o7KiBHi"
      },
      "execution_count": 127,
      "outputs": []
    },
    {
      "cell_type": "code",
      "source": [
        "\n",
        "\n",
        "\n",
        "def load_malaria_filenames(load_data_dir, labels, tot_images):\n",
        "    X = []\n",
        "    Y = []\n",
        "\n",
        "    for l_idx, label in enumerate(labels):\n",
        "        image_names = os.listdir(os.path.join(load_data_dir, label))\n",
        "\n",
        "        for i, image_name in enumerate(image_names[:tot_images]):\n",
        "            if not image_name.endswith('.png'):\n",
        "                continue\n",
        "            img_name = os.path.join(load_data_dir, label, image_name)\n",
        "            X.append(img_name)\n",
        "            Y.append(l_idx)\n",
        "\n",
        "    print('Loading filenames completed.')\n",
        "\n",
        "    return X, Y\n",
        "\n",
        "\n",
        "def load_malaria_image(img_name):\n",
        "    num_row = 100\n",
        "    num_col = 100\n",
        "\n",
        "    if isinstance(img_name, bytes):\n",
        "        img_name = img_name.decode()\n",
        "\n",
        "    img = cv2.imread(img_name, cv2.IMREAD_COLOR)\n",
        "    img = np.array(cv2.resize(img, (num_row, num_col)), dtype='float32')\n",
        "\n",
        "    return img\n",
        "\n",
        "\n",
        "def normalize_img(image):\n",
        "    return tf.cast(image, tf.float32) / 255."
      ],
      "metadata": {
        "id": "gO1BI20SRL2D"
      },
      "execution_count": null,
      "outputs": []
    }
  ],
  "metadata": {
    "kernelspec": {
      "display_name": "Python 3",
      "language": "python",
      "name": "python3"
    },
    "language_info": {
      "codemirror_mode": {
        "name": "ipython",
        "version": 3
      },
      "file_extension": ".py",
      "mimetype": "text/x-python",
      "name": "python",
      "nbconvert_exporter": "python",
      "pygments_lexer": "ipython3",
      "version": "3.9.7"
    },
    "colab": {
      "name": "main.ipynb",
      "provenance": []
    }
  },
  "nbformat": 4,
  "nbformat_minor": 0
}