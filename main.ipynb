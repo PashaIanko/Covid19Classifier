{
  "cells": [
    {
      "cell_type": "markdown",
      "metadata": {
        "id": "IfsyMy5yRWKF"
      },
      "source": [
        "# Packages & functions"
      ]
    },
    {
      "cell_type": "code",
      "execution_count": 208,
      "metadata": {
        "id": "F1ZGnrMJRY1b"
      },
      "outputs": [],
      "source": [
        "import os\n",
        "import numpy as np\n",
        "import cv2\n",
        "import tensorflow as tf\n",
        "import matplotlib.pyplot as plt\n",
        "from os import listdir"
      ]
    },
    {
      "cell_type": "code",
      "execution_count": 209,
      "metadata": {
        "colab": {
          "base_uri": "https://localhost:8080/"
        },
        "id": "4Womy5k9h7e9",
        "outputId": "202ee83f-7e65-41dc-a369-4e8d7bfa01a5"
      },
      "outputs": [],
      "source": [
        "# !pip install nose"
      ]
    },
    {
      "cell_type": "code",
      "execution_count": 210,
      "metadata": {
        "colab": {
          "base_uri": "https://localhost:8080/"
        },
        "id": "jJq4oSfhRZY6",
        "outputId": "72b99ee0-7f83-494d-eb87-58fa20086074"
      },
      "outputs": [],
      "source": [
        "#from google.colab import drive\n",
        "#drive.mount('/content/drive')"
      ]
    },
    {
      "cell_type": "code",
      "execution_count": 211,
      "metadata": {
        "id": "c-oRA_bPUpOC"
      },
      "outputs": [],
      "source": [
        "from tensorflow.keras import models\n",
        "\n",
        "from tensorflow.keras.layers import Conv2D as Conv2D\n",
        "from tensorflow.keras.layers import BatchNormalization as BatchNormalization\n",
        "from tensorflow.keras.layers import ReLU as ReLU\n",
        "from tensorflow.keras.layers import MaxPool2D as MaxPool2D\n",
        "from tensorflow.keras.layers import Flatten as Flatten\n",
        "from tensorflow.keras.layers import Dense as Dense\n",
        "from tensorflow.keras.layers import Input as Input\n",
        "\n",
        "from os.path import isdir\n",
        "import os\n",
        "import numpy as np\n",
        "\n",
        "from sklearn.model_selection import train_test_split\n",
        "\n",
        "# Plotting\n",
        "import seaborn as sns\n",
        "\n",
        "# Utils\n",
        "import importlib\n",
        "from os.path import isdir\n",
        "\n",
        "# Dataset\n",
        "from tensorflow.keras.preprocessing.image import ImageDataGenerator"
      ]
    },
    {
      "cell_type": "code",
      "execution_count": 212,
      "metadata": {},
      "outputs": [],
      "source": [
        "import DataProperties \n",
        "import PreprocessingParameters \n",
        "import Preprocessing\n",
        "import DatasetParameters\n",
        "import Utils\n",
        "\n",
        "def reload_all(modules_list):\n",
        "    for module in modules_list:\n",
        "        importlib.reload(module)\n",
        "\n",
        "reload_all(\n",
        "    [\n",
        "        DataProperties,\n",
        "        PreprocessingParameters,\n",
        "        DatasetParameters,\n",
        "        Utils,\n",
        "        Preprocessing\n",
        "    ]\n",
        ")\n",
        "\n",
        "from DataProperties import DataProperties\n",
        "from PreprocessingParameters import PreprocessingParameters\n",
        "from DatasetParameters import DatasetParameters\n",
        "from Utils import *\n",
        "from Preprocessing import *"
      ]
    },
    {
      "cell_type": "markdown",
      "metadata": {
        "id": "sdFefXHCRONl"
      },
      "source": [
        "# Data download"
      ]
    },
    {
      "cell_type": "markdown",
      "metadata": {
        "id": "ZYflDFndXpq0"
      },
      "source": [
        "## Paths download"
      ]
    },
    {
      "cell_type": "code",
      "execution_count": 213,
      "metadata": {},
      "outputs": [],
      "source": [
        "assert isdir(DataProperties.train_data_path) == True\n",
        "assert isdir(DataProperties.test_data_path) == True"
      ]
    },
    {
      "cell_type": "code",
      "execution_count": 214,
      "metadata": {
        "id": "Li1Ee7eKT4M2"
      },
      "outputs": [],
      "source": [
        "train_covid_fnames, train_pn_fnames, train_normal_fnames = get_filenames(\n",
        "    covid_path = DataProperties.train_covid_path,\n",
        "    pneumonia_path = DataProperties.train_pneumonia_path,\n",
        "    normal_path = DataProperties.train_healthy_path\n",
        ")\n",
        "\n",
        "test_covid_fnames, test_pn_fnames, test_normal_fnames = get_filenames(\n",
        "    covid_path = DataProperties.test_covid_path,\n",
        "    pneumonia_path = DataProperties.test_pneumonia_path,\n",
        "    normal_path = DataProperties.test_healthy_path\n",
        ")"
      ]
    },
    {
      "cell_type": "code",
      "execution_count": 215,
      "metadata": {
        "id": "pe9xFnA0U5rt"
      },
      "outputs": [],
      "source": [
        "train_covid_labels, train_pn_labels, train_normal_labels = get_labels(\n",
        "    train_covid_fnames,\n",
        "    train_pn_fnames,\n",
        "    train_normal_fnames\n",
        ")\n",
        "\n",
        "test_covid_labels, test_pn_labels, test_normal_labels = get_labels(\n",
        "    test_covid_fnames,\n",
        "    test_pn_fnames,\n",
        "    test_normal_fnames\n",
        ")"
      ]
    },
    {
      "cell_type": "code",
      "execution_count": 216,
      "metadata": {
        "id": "0o7Q9Lq8Wj58"
      },
      "outputs": [],
      "source": [
        "X_train_val, Y_train_val = getXY(\n",
        "    train_covid_fnames, train_pn_fnames, train_normal_fnames,\n",
        "    train_covid_labels, train_pn_labels, train_normal_labels\n",
        ")\n",
        "\n",
        "X_test, Y_test = getXY(\n",
        "    test_covid_fnames, test_pn_fnames, test_normal_fnames,\n",
        "    test_covid_labels, test_pn_labels, test_normal_labels\n",
        ")"
      ]
    },
    {
      "cell_type": "markdown",
      "metadata": {
        "id": "aMfvCUABX628"
      },
      "source": [
        "# Data exploration"
      ]
    },
    {
      "cell_type": "code",
      "execution_count": 217,
      "metadata": {
        "colab": {
          "base_uri": "https://localhost:8080/",
          "height": 320
        },
        "id": "wTUMvy49X8xl",
        "outputId": "61120e23-d716-4452-ec62-762744943cdb"
      },
      "outputs": [
        {
          "name": "stderr",
          "output_type": "stream",
          "text": [
            "C:\\Users\\79137\\anaconda3\\envs\\tf\\lib\\site-packages\\seaborn\\_decorators.py:43: FutureWarning: Pass the following variable as a keyword arg: x. From version 0.12, the only valid positional argument will be `data`, and passing other arguments without an explicit keyword will result in an error or misinterpretation.\n",
            "  FutureWarning\n"
          ]
        },
        {
          "data": {
            "image/png": "[encoded data removed]",
            "text/plain": [
              "<Figure size 432x288 with 1 Axes>"
            ]
          },
          "metadata": {
            "needs_background": "light"
          },
          "output_type": "display_data"
        }
      ],
      "source": [
        "_ = sns.countplot(Y_test)"
      ]
    },
    {
      "cell_type": "code",
      "execution_count": 218,
      "metadata": {
        "colab": {
          "base_uri": "https://localhost:8080/",
          "height": 320
        },
        "id": "qn1n967AYgC3",
        "outputId": "f1e3d7eb-a8d8-4095-8327-29476b84d24f"
      },
      "outputs": [
        {
          "name": "stderr",
          "output_type": "stream",
          "text": [
            "C:\\Users\\79137\\anaconda3\\envs\\tf\\lib\\site-packages\\seaborn\\_decorators.py:43: FutureWarning: Pass the following variable as a keyword arg: x. From version 0.12, the only valid positional argument will be `data`, and passing other arguments without an explicit keyword will result in an error or misinterpretation.\n",
            "  FutureWarning\n"
          ]
        },
        {
          "data": {
            "image/png": "[encoded data removed]",
            "text/plain": [
              "<Figure size 432x288 with 1 Axes>"
            ]
          },
          "metadata": {
            "needs_background": "light"
          },
          "output_type": "display_data"
        }
      ],
      "source": [
        "_ = sns.countplot(Y_train_val)"
      ]
    },
    {
      "cell_type": "code",
      "execution_count": 219,
      "metadata": {
        "colab": {
          "base_uri": "https://localhost:8080/",
          "height": 304
        },
        "id": "I1GmN-DIZiZx",
        "outputId": "3a40eb71-8b60-4d57-892b-d8e1d83f054b"
      },
      "outputs": [
        {
          "data": {
            "text/plain": [
              "<matplotlib.image.AxesImage at 0x2b4a25886c8>"
            ]
          },
          "execution_count": 219,
          "metadata": {},
          "output_type": "execute_result"
        },
        {
          "data": {
            "image/png": "[encoded data removed]",
            "text/plain": [
              "<Figure size 432x288 with 1 Axes>"
            ]
          },
          "metadata": {
            "needs_background": "light"
          },
          "output_type": "display_data"
        }
      ],
      "source": [
        "im = load_image(X_train_val[70])\n",
        "plt.imshow(im.astype('uint8'))"
      ]
    },
    {
      "cell_type": "markdown",
      "metadata": {
        "id": "lMTsTfy9dOH1"
      },
      "source": [
        "# Creating dataset"
      ]
    },
    {
      "cell_type": "code",
      "execution_count": 220,
      "metadata": {},
      "outputs": [
        {
          "name": "stdout",
          "output_type": "stream",
          "text": [
            "Searching in :  C:/Users/79137/Pasha/2. UNIPD/HDA/Project/Data/TrainData/\n",
            "Searching in :  C:/Users/79137/Pasha/2. UNIPD/HDA/Project/Data/TrainData/covid\n",
            "Searching in :  C:/Users/79137/Pasha/2. UNIPD/HDA/Project/Data/TrainData/normal\n",
            "Searching in :  C:/Users/79137/Pasha/2. UNIPD/HDA/Project/Data/TrainData/pneumonia\n",
            "Total files: 4287\n"
          ]
        },
        {
          "data": {
            "text/plain": [
              "0.953347329134593"
            ]
          },
          "execution_count": 220,
          "metadata": {},
          "output_type": "execute_result"
        }
      ],
      "source": [
        "def calc_necessary_split(desired_N, directory):\n",
        "    total_files = 0\n",
        "\n",
        "    for base, _, files in os.walk(directory):\n",
        "        print('Searching in : ',base)\n",
        "        for _ in files:\n",
        "            total_files += 1\n",
        "    print(f'Total files: {total_files}')\n",
        "    return 1 - desired_N / total_files\n",
        "\n",
        "# We want to use only little data in the beginning, to check if the code works fine\n",
        "initial_N = 200\n",
        "dummy_split = calc_necessary_split(\n",
        "    initial_N,\n",
        "    directory = DataProperties.train_data_path\n",
        ")\n",
        "dummy_split"
      ]
    },
    {
      "cell_type": "code",
      "execution_count": 223,
      "metadata": {},
      "outputs": [
        {
          "name": "stdout",
          "output_type": "stream",
          "text": [
            "Found 201 images belonging to 3 classes.\n",
            "Found 4086 images belonging to 3 classes.\n"
          ]
        }
      ],
      "source": [
        "if DataProperties.strategy == 'check':\n",
        "    split = dummy_split\n",
        "elif DataProperties.strategy == 'normal':\n",
        "    split = DatasetParameters.validation_split\n",
        "\n",
        "train_generator = ImageDataGenerator(\n",
        "    preprocessing_function = Preprocessing.normalize,\n",
        "    validation_split = split\n",
        "    # width_shift_range = 4,\n",
        "    # height_shift_range = 4,\n",
        "    # horizontal_flip = True,\n",
        "    # vertical_flip = True\n",
        ")\n",
        "\n",
        "train_flow = train_generator.flow_from_directory(\n",
        "    directory = DataProperties.train_data_path,\n",
        "    target_size = PreprocessingParameters.target_shape,\n",
        "    color_mode = 'rgb',\n",
        "    classes = DataProperties.classes,\n",
        "    class_mode = 'sparse',  # 1D integer labels\n",
        "    batch_size = DatasetParameters.batch_size,\n",
        "    subset = 'training',\n",
        "    shuffle = DatasetParameters.shuffle_train,\n",
        "    seed = DatasetParameters.seed\n",
        ")\n",
        "\n",
        "val_flow = train_generator.flow_from_directory(\n",
        "    directory = DataProperties.train_data_path,\n",
        "    target_size = PreprocessingParameters.target_shape,\n",
        "    color_mode = 'rgb',\n",
        "    classes = DataProperties.classes, \n",
        "    class_mode = 'sparse',  # 1D integer labels\n",
        "    batch_size = DatasetParameters.batch_size,\n",
        "    subset = 'validation',\n",
        "    shuffle = DatasetParameters.shuffle_validation,\n",
        "    seed = DatasetParameters.seed\n",
        ")"
      ]
    },
    {
      "cell_type": "code",
      "execution_count": 224,
      "metadata": {},
      "outputs": [
        {
          "name": "stdout",
          "output_type": "stream",
          "text": [
            "Found 288 images belonging to 3 classes.\n"
          ]
        }
      ],
      "source": [
        "test_generator = ImageDataGenerator(\n",
        "    preprocessing_function = Preprocessing.normalize,\n",
        "    # other parameters\n",
        ")\n",
        "\n",
        "test_flow = test_generator.flow_from_directory(\n",
        "    directory = DataProperties.test_data_path,\n",
        "    target_size = PreprocessingParameters.target_shape,\n",
        "    color_mode = 'rgb',\n",
        "    classes = DataProperties.classes,\n",
        "    class_mode = 'sparse',\n",
        "    shuffle = DatasetParameters.shuffle_test,\n",
        "    seed = DatasetParameters.seed,\n",
        "    batch_size = 1\n",
        ")"
      ]
    },
    {
      "cell_type": "code",
      "execution_count": 225,
      "metadata": {},
      "outputs": [],
      "source": [
        "assert train_flow.class_indices == test_flow.class_indices\n",
        "assert train_flow.class_indices == val_flow.class_indices"
      ]
    },
    {
      "cell_type": "code",
      "execution_count": 226,
      "metadata": {},
      "outputs": [
        {
          "name": "stdout",
          "output_type": "stream",
          "text": [
            "(32, 300, 300, 3)\n"
          ]
        },
        {
          "data": {
            "image/png": "[encoded data removed]",
            "text/plain": [
              "<Figure size 432x288 with 9 Axes>"
            ]
          },
          "metadata": {
            "needs_background": "light"
          },
          "output_type": "display_data"
        }
      ],
      "source": [
        "def visualize(batch, labels, n_subplots):\n",
        "    for i in range(n_subplots): #(batch_size):\n",
        "        ax = plt.subplot(\n",
        "            int(np.sqrt(n_subplots)), \n",
        "            int(np.sqrt(n_subplots)), \n",
        "            i + 1\n",
        "        )\n",
        "        plt.imshow(batch[i])\n",
        "        plt.title(str(labels[i]))\n",
        "        plt.axis(\"off\")\n",
        "\n",
        "how_many_to_show = 9\n",
        "for _ in range(1):\n",
        "    batch, labels = train_flow.next()\n",
        "    print(batch.shape)\n",
        "    assert np.max(batch) <= 1.0\n",
        "    visualize(batch, labels, how_many_to_show)"
      ]
    },
    {
      "cell_type": "code",
      "execution_count": 227,
      "metadata": {
        "colab": {
          "base_uri": "https://localhost:8080/"
        },
        "id": "czAJYBkDBjhQ",
        "outputId": "479ae913-2bce-45fe-d658-9ff7fc641b27"
      },
      "outputs": [],
      "source": [
        "# def get_dataset(\n",
        "#     path,\n",
        "#     batch_size,\n",
        "#     image_size,\n",
        "#     shuffle,\n",
        "#     seed,\n",
        "#     subset,\n",
        "#     validation_split = None\n",
        "# ):  \n",
        "\n",
        "#     ds = tf.keras.utils.image_dataset_from_directory(\n",
        "#         path,\n",
        "#         labels = 'inferred',\n",
        "#         label_mode = 'int',\n",
        "#         color_mode = 'rgb',\n",
        "#         batch_size = batch_size,\n",
        "#         image_size = image_size,\n",
        "#         shuffle = shuffle,\n",
        "#         seed = seed,\n",
        "#         validation_split = validation_split,\n",
        "#         subset = subset\n",
        "#     )\n",
        "\n",
        "#     #ds = ds.repeat()\n",
        "#     return {\n",
        "#         'class names': ds.class_names,\n",
        "#         'data': ds.cache().prefetch(\n",
        "#             buffer_size = tf.data.experimental.AUTOTUNE\n",
        "#         )\n",
        "#     }\n",
        "\n",
        "# ds_train = get_dataset(\n",
        "#     path = DataProperties.train_data_path,\n",
        "#     batch_size = DatasetParameters.batch_size,\n",
        "#     image_size = PreprocessingParameters.resize_shape,\n",
        "#     shuffle = DatasetParameters.shuffle_train,\n",
        "#     seed = DatasetParameters.seed,\n",
        "#     subset = 'training',\n",
        "#     validation_split = DatasetParameters.validation_split\n",
        "# )\n",
        "\n",
        "# ds_validation = get_dataset(\n",
        "#     path = DataProperties.train_data_path,\n",
        "#     batch_size = DatasetParameters.batch_size,\n",
        "#     image_size = PreprocessingParameters.resize_shape,\n",
        "#     shuffle = DatasetParameters.shuffle_validation,\n",
        "#     seed = DatasetParameters.seed,\n",
        "#     subset = 'validation',\n",
        "#     validation_split = DatasetParameters.validation_split\n",
        "# )\n",
        "\n",
        "# ds_test = get_dataset(\n",
        "#     path = DataProperties.test_data_path,\n",
        "#     batch_size = DatasetParameters.batch_size,\n",
        "#     image_size = PreprocessingParameters.resize_shape,\n",
        "#     shuffle = DatasetParameters.shuffle_test,\n",
        "#     seed = DatasetParameters.seed,\n",
        "#     subset = None,\n",
        "#     validation_split = None\n",
        "# )"
      ]
    },
    {
      "cell_type": "code",
      "execution_count": 228,
      "metadata": {
        "id": "JZ6t2hCMInOr"
      },
      "outputs": [],
      "source": [
        "# ds_train = ds_train.repeat()\n",
        "# ds_validation = ds_validation.repeat()\n",
        "\n",
        "# ds_train = ds_train.prefetch(buffer_size = 1)\n",
        "# ds_validation = ds_validation.prefetch(buffer_size = 1)"
      ]
    },
    {
      "cell_type": "code",
      "execution_count": 229,
      "metadata": {
        "colab": {
          "base_uri": "https://localhost:8080/",
          "height": 264
        },
        "id": "XGfpWSYvLdvf",
        "outputId": "96be37fe-3cbf-439c-be0a-0945e72f4b23"
      },
      "outputs": [],
      "source": [
        "# for images, labels in ds_train['data'].take(1):\n",
        "#     for i in range(9): #(batch_size):\n",
        "#         ax = plt.subplot(3, 3, i + 1)\n",
        "#         plt.imshow(images[i].numpy().astype(\"uint8\"))\n",
        "#         plt.title(str(labels[i].numpy()))\n",
        "#         plt.axis(\"off\")"
      ]
    },
    {
      "cell_type": "code",
      "execution_count": 230,
      "metadata": {
        "id": "t5lMmWqbaN9n"
      },
      "outputs": [],
      "source": [
        "# testing\n",
        "# from nose.tools import assert_equal\n",
        "\n",
        "# assert_equal(ds_train['class names'], ds_test['class names'])\n",
        "# assert_equal(ds_train['class names'], ds_validation['class names'])"
      ]
    },
    {
      "cell_type": "code",
      "execution_count": 231,
      "metadata": {
        "colab": {
          "base_uri": "https://localhost:8080/",
          "height": 482
        },
        "id": "futQoXXKclvw",
        "outputId": "c36574d8-7106-4e55-ed7f-bc7e20c701e2"
      },
      "outputs": [],
      "source": [
        "# train_class_names = ds_train['class names']\n",
        "# n_classes = len(train_class_names)\n",
        "# n_plot = 3\n",
        "\n",
        "\n",
        "# fig, axes = plt.subplots(n_classes, n_plot, figsize = (12, 8))\n",
        "\n",
        "# for i, class_name in enumerate(train_class_names):\n",
        "#     # print(f'class name: {class_name}')\n",
        "#     full_dir = DataProperties.train_data_path + class_name\n",
        "#     # print(f'Full dir: {full_dir}')\n",
        "#     images_full_dirs = listdir(full_dir)[: n_plot]\n",
        "#     # print(images_full_dirs)\n",
        "#     images = [load_image(full_dir + '/' + dir) for dir in images_full_dirs]\n",
        "\n",
        "#     for j, image in enumerate(images):\n",
        "#         axes[i, j].imshow(image)\n",
        "#         axes[i, j].axis('off')\n",
        "#         axes[i, j].set_title(class_name)"
      ]
    },
    {
      "cell_type": "markdown",
      "metadata": {
        "id": "6iQOxeh3PB6V"
      },
      "source": [
        "# Data preprocessing"
      ]
    },
    {
      "cell_type": "markdown",
      "metadata": {
        "id": "xD_1__EPP0Gn"
      },
      "source": [
        "## Normalization"
      ]
    },
    {
      "cell_type": "code",
      "execution_count": 232,
      "metadata": {
        "id": "BQD6FacLPGGQ"
      },
      "outputs": [],
      "source": [
        "# def normalize_image(image, y):\n",
        "#     return tf.cast(image, tf.float32) / 255., y"
      ]
    },
    {
      "cell_type": "code",
      "execution_count": 233,
      "metadata": {
        "id": "IfVkgcpyi-7l"
      },
      "outputs": [],
      "source": [
        "# ds_train = ds_train['data']\n",
        "# ds_test = ds_test['data']\n",
        "# ds_validation = ds_validation['data']"
      ]
    },
    {
      "cell_type": "code",
      "execution_count": 234,
      "metadata": {
        "id": "OE1nWFarPTa3"
      },
      "outputs": [],
      "source": [
        "# ds_train = ds_train.map(normalize_image)\n",
        "# ds_validation = ds_validation.map(normalize_image)\n",
        "# ds_test = ds_test.map(normalize_image)"
      ]
    },
    {
      "cell_type": "code",
      "execution_count": 235,
      "metadata": {
        "id": "kd19BP1VnwHQ"
      },
      "outputs": [],
      "source": [
        "# def test_max_pix_val(ds, max_val):\n",
        "#     for images, labels in ds.take(1):\n",
        "#         for i in range(DatasetParameters.batch_size):\n",
        "#             maximum = np.max(images[i].numpy())\n",
        "#             if maximum > max_val:\n",
        "#                 print(f'Max value of image: {maximum}')\n",
        "#                 raise ValueError\n",
        "\n",
        "# test_max_pix_val(ds_train, max_val = 1.0)\n",
        "# test_max_pix_val(ds_validation, max_val = 1.0)\n",
        "# test_max_pix_val(ds_test, max_val = 1.0)"
      ]
    },
    {
      "cell_type": "markdown",
      "metadata": {
        "id": "uHu9bZsoqUCx"
      },
      "source": [
        "# CNN architecture"
      ]
    },
    {
      "cell_type": "code",
      "execution_count": 236,
      "metadata": {
        "id": "uHBIQdcXqV6F"
      },
      "outputs": [],
      "source": [
        "def conv_2d_pooling_layers(n_filters):\n",
        "    return [\n",
        "            Conv2D(\n",
        "                filters = n_filters,\n",
        "                kernel_size = (3, 3),\n",
        "                padding = 'same',\n",
        "                activation = 'elu'\n",
        "            ),\n",
        "            MaxPool2D()\n",
        "    ]"
      ]
    },
    {
      "cell_type": "code",
      "execution_count": 237,
      "metadata": {
        "id": "eKKAQWLuIeoH"
      },
      "outputs": [],
      "source": [
        "input_layer = [\n",
        "               Input(shape = PreprocessingParameters.target_shape + \\\n",
        "                   PreprocessingParameters.n_color_channels)\n",
        "]"
      ]
    },
    {
      "cell_type": "code",
      "execution_count": 238,
      "metadata": {
        "id": "uozUTaXCrllC"
      },
      "outputs": [],
      "source": [
        "core_layers = conv_2d_pooling_layers(16) + \\\n",
        "            conv_2d_pooling_layers(32) + \\\n",
        "            conv_2d_pooling_layers(64) + \\\n",
        "            conv_2d_pooling_layers(256)"
      ]
    },
    {
      "cell_type": "code",
      "execution_count": 239,
      "metadata": {
        "id": "qyOgInbvsMFu"
      },
      "outputs": [],
      "source": [
        "dense_layers = [\n",
        "                Flatten(),\n",
        "                Dense(128, activation = 'elu'),\n",
        "                Dense(DataProperties.n_classes, activation = 'softmax')\n",
        "]"
      ]
    },
    {
      "cell_type": "code",
      "execution_count": 240,
      "metadata": {
        "id": "6sujvhuWsfZF"
      },
      "outputs": [],
      "source": [
        "cnn_model = tf.keras.Sequential(\n",
        "        input_layer + \\\n",
        "        core_layers + \\\n",
        "        dense_layers\n",
        ")"
      ]
    },
    {
      "cell_type": "code",
      "execution_count": 241,
      "metadata": {
        "id": "OyKEjloDtMhV"
      },
      "outputs": [],
      "source": [
        "loss = tf.keras.losses.SparseCategoricalCrossentropy(from_logits = False)  # normalized softmax\n",
        "cnn_model.compile(\n",
        "    optimizer = 'adam',\n",
        "    loss = loss,\n",
        "    metrics = ['accuracy']\n",
        ")"
      ]
    },
    {
      "cell_type": "code",
      "execution_count": 242,
      "metadata": {
        "id": "EppPZWvxtXLX"
      },
      "outputs": [],
      "source": [
        "if DataProperties.strategy == 'check':\n",
        "    what_to_monitor = 'loss'\n",
        "elif DataProperties.strategy == 'normal':\n",
        "    what_to_monitor = 'val_loss'\n",
        "\n",
        "callback = tf.keras.callbacks.EarlyStopping(\n",
        "    monitor = what_to_monitor,\n",
        "    patience = 2,  # 3\n",
        "    mode = 'auto',\n",
        "    restore_best_weights = True\n",
        ")"
      ]
    },
    {
      "cell_type": "code",
      "execution_count": 243,
      "metadata": {
        "colab": {
          "base_uri": "https://localhost:8080/"
        },
        "id": "Wf4O7_x6KSK4",
        "outputId": "228154d9-fb82-4018-e65d-a57381b536cb"
      },
      "outputs": [
        {
          "name": "stdout",
          "output_type": "stream",
          "text": [
            "Model: \"sequential_4\"\n",
            "_________________________________________________________________\n",
            "Layer (type)                 Output Shape              Param #   \n",
            "=================================================================\n",
            "conv2d_16 (Conv2D)           (None, 300, 300, 16)      448       \n",
            "_________________________________________________________________\n",
            "max_pooling2d_16 (MaxPooling (None, 150, 150, 16)      0         \n",
            "_________________________________________________________________\n",
            "conv2d_17 (Conv2D)           (None, 150, 150, 32)      4640      \n",
            "_________________________________________________________________\n",
            "max_pooling2d_17 (MaxPooling (None, 75, 75, 32)        0         \n",
            "_________________________________________________________________\n",
            "conv2d_18 (Conv2D)           (None, 75, 75, 64)        18496     \n",
            "_________________________________________________________________\n",
            "max_pooling2d_18 (MaxPooling (None, 37, 37, 64)        0         \n",
            "_________________________________________________________________\n",
            "conv2d_19 (Conv2D)           (None, 37, 37, 256)       147712    \n",
            "_________________________________________________________________\n",
            "max_pooling2d_19 (MaxPooling (None, 18, 18, 256)       0         \n",
            "_________________________________________________________________\n",
            "flatten_4 (Flatten)          (None, 82944)             0         \n",
            "_________________________________________________________________\n",
            "dense_8 (Dense)              (None, 128)               10616960  \n",
            "_________________________________________________________________\n",
            "dense_9 (Dense)              (None, 3)                 387       \n",
            "=================================================================\n",
            "Total params: 10,788,643\n",
            "Trainable params: 10,788,643\n",
            "Non-trainable params: 0\n",
            "_________________________________________________________________\n",
            "None\n"
          ]
        }
      ],
      "source": [
        "print(cnn_model.summary())"
      ]
    },
    {
      "cell_type": "code",
      "execution_count": 244,
      "metadata": {},
      "outputs": [
        {
          "name": "stdout",
          "output_type": "stream",
          "text": [
            "Train steps: 6\n",
            "Val steps: 127\n",
            "Epoch 1/500\n",
            "6/6 [==============================] - 7s 1s/step - loss: 10.7567 - acc: 0.4142\n",
            "Epoch 2/500\n",
            "6/6 [==============================] - 7s 1s/step - loss: 1.6381 - acc: 0.3964\n",
            "Epoch 3/500\n",
            "6/6 [==============================] - 7s 1s/step - loss: 0.9554 - acc: 0.3490\n",
            "Epoch 4/500\n",
            "6/6 [==============================] - 7s 1s/step - loss: 0.8520 - acc: 0.5503\n",
            "Epoch 5/500\n",
            "6/6 [==============================] - 7s 1s/step - loss: 0.7155 - acc: 0.7337\n",
            "Epoch 6/500\n",
            "6/6 [==============================] - 7s 1s/step - loss: 0.7077 - acc: 0.7396\n",
            "Epoch 7/500\n",
            "6/6 [==============================] - 7s 1s/step - loss: 0.5625 - acc: 0.8166\n",
            "Epoch 8/500\n",
            "6/6 [==============================] - 8s 1s/step - loss: 0.5013 - acc: 0.8229\n",
            "Epoch 9/500\n",
            "6/6 [==============================] - 8s 1s/step - loss: 0.4457 - acc: 0.8402\n",
            "Epoch 10/500\n",
            "6/6 [==============================] - 6s 1s/step - loss: 0.4521 - acc: 0.8356\n",
            "Epoch 11/500\n",
            "6/6 [==============================] - 7s 1s/step - loss: 0.4191 - acc: 0.8462\n",
            "Epoch 12/500\n",
            "6/6 [==============================] - 8s 1s/step - loss: 0.3962 - acc: 0.8646\n",
            "Epoch 13/500\n",
            "6/6 [==============================] - 8s 1s/step - loss: 0.3203 - acc: 0.8876\n",
            "Epoch 14/500\n",
            "6/6 [==============================] - 7s 1s/step - loss: 0.3995 - acc: 0.8284\n",
            "Epoch 15/500\n",
            "6/6 [==============================] - 8s 1s/step - loss: 0.3734 - acc: 0.8343\n"
          ]
        }
      ],
      "source": [
        "train_steps = train_flow.n // train_flow.batch_size\n",
        "validation_steps = val_flow.n // val_flow.batch_size\n",
        "test_steps = test_flow.n // test_flow.batch_size\n",
        "\n",
        "print(f'Train steps: {train_steps}')\n",
        "print(f'Val steps: {validation_steps}')\n",
        "\n",
        "if DataProperties.strategy == 'check':\n",
        "    validation_data = None\n",
        "    validation_steps = None\n",
        "elif DataProperties.strategy == 'normal':\n",
        "    validation_data = val_flow,\n",
        "    validation_steps = validation_steps\n",
        "\n",
        "history = cnn_model.fit_generator(\n",
        "    generator = train_flow,\n",
        "    steps_per_epoch = train_steps,\n",
        "    \n",
        "    validation_data = validation_data,\n",
        "    validation_steps = validation_steps,\n",
        "\n",
        "    epochs = DatasetParameters.epochs,\n",
        "    callbacks = [callback]\n",
        ")"
      ]
    },
    {
      "cell_type": "code",
      "execution_count": 245,
      "metadata": {
        "colab": {
          "base_uri": "https://localhost:8080/"
        },
        "id": "15jhf41AtjJa",
        "outputId": "6bbba2f3-b772-40af-f9dc-b38ca4d33871"
      },
      "outputs": [],
      "source": [
        "# history = cnn_model.fit(\n",
        "#     ds_train,\n",
        "#     validation_data = ds_validation,\n",
        "#     epochs = 20,\n",
        "#     callbacks = [callback]\n",
        "# )"
      ]
    },
    {
      "cell_type": "code",
      "execution_count": 246,
      "metadata": {
        "colab": {
          "base_uri": "https://localhost:8080/"
        },
        "id": "3HQ332BOt7pC",
        "outputId": "3531578f-9f84-43a7-8e25-e8a316f3c2d1"
      },
      "outputs": [],
      "source": [
        "# cnn_model.evaluate(\n",
        "#     ds_test\n",
        "# )"
      ]
    },
    {
      "cell_type": "code",
      "execution_count": 247,
      "metadata": {},
      "outputs": [
        {
          "data": {
            "text/plain": [
              "[0.7632573299168601, 0.7468012]"
            ]
          },
          "execution_count": 247,
          "metadata": {},
          "output_type": "execute_result"
        }
      ],
      "source": [
        "cnn_model.evaluate_generator(\n",
        "    generator = val_flow,\n",
        "    steps = validation_steps\n",
        ")"
      ]
    },
    {
      "cell_type": "code",
      "execution_count": 250,
      "metadata": {},
      "outputs": [
        {
          "data": {
            "text/plain": [
              "[3.589757726120297, 0.5069444]"
            ]
          },
          "execution_count": 250,
          "metadata": {},
          "output_type": "execute_result"
        }
      ],
      "source": [
        "test_flow.reset()\n",
        "cnn_model.evaluate_generator(\n",
        "    generator = test_flow,\n",
        "    steps = test_flow.n // test_flow.batch_size\n",
        ")"
      ]
    },
    {
      "cell_type": "code",
      "execution_count": 255,
      "metadata": {
        "colab": {
          "base_uri": "https://localhost:8080/",
          "height": 501
        },
        "id": "ifwq8TonwFMF",
        "outputId": "20a30126-2e2a-46df-fef4-d45baa1e0139"
      },
      "outputs": [
        {
          "data": {
            "image/png": "[encoded data removed]",
            "text/plain": [
              "<Figure size 864x576 with 1 Axes>"
            ]
          },
          "metadata": {
            "needs_background": "light"
          },
          "output_type": "display_data"
        }
      ],
      "source": [
        "def plot_history(history, metrics_name, plot_validation, figsize = (12, 8)):\n",
        "    fig, ax = plt.subplots(figsize = figsize)\n",
        "    ax.plot(\n",
        "        history[metrics_name], \n",
        "        label = metrics_name,\n",
        "        marker = 'o',\n",
        "        markersize = 11,\n",
        "        markerfacecolor = 'white'\n",
        "    )\n",
        "    \n",
        "    if plot_validation:\n",
        "        plt.plot(\n",
        "            history['val_' + metrics_name], \n",
        "            label = metrics_name + ' (validation)',\n",
        "            marker = 'o',\n",
        "            markersize = 11,\n",
        "            markerfacecolor = 'white'\n",
        "        )\n",
        "    \n",
        "    plt.xlabel('Epoch')\n",
        "    plt.ylabel(metrics_name)\n",
        "    plt.ylim([0.01, 1])\n",
        "    plt.legend(loc = 'lower right')\n",
        "    plt.grid()\n",
        "\n",
        "plot_history(\n",
        "    history = history.history,\n",
        "    metrics_name = 'acc',\n",
        "    plot_validation = False\n",
        ")"
      ]
    }
  ],
  "metadata": {
    "accelerator": "GPU",
    "colab": {
      "name": "main.ipynb",
      "provenance": []
    },
    "kernelspec": {
      "display_name": "Python 3",
      "language": "python",
      "name": "python3"
    },
    "language_info": {
      "codemirror_mode": {
        "name": "ipython",
        "version": 3
      },
      "file_extension": ".py",
      "mimetype": "text/x-python",
      "name": "python",
      "nbconvert_exporter": "python",
      "pygments_lexer": "ipython3",
      "version": "3.7.12"
    }
  },
  "nbformat": 4,
  "nbformat_minor": 0
}
