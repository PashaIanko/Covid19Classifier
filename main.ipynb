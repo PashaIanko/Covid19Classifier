{
  "cells": [
    {
      "cell_type": "markdown",
      "source": [
        "# Packages & functions"
      ],
      "metadata": {
        "id": "IfsyMy5yRWKF"
      }
    },
    {
      "cell_type": "markdown",
      "source": [
        "TODO:\n",
        "- Why buffer size = 1?"
      ],
      "metadata": {
        "id": "5tEtAoJ2jYOA"
      }
    },
    {
      "cell_type": "code",
      "source": [
        "import os\n",
        "import numpy as np\n",
        "import cv2\n",
        "import tensorflow as tf\n",
        "import matplotlib.pyplot as plt"
      ],
      "metadata": {
        "id": "F1ZGnrMJRY1b"
      },
      "execution_count": 35,
      "outputs": []
    },
    {
      "cell_type": "code",
      "source": [
        "from google.colab import drive\n",
        "drive.mount('/content/drive')"
      ],
      "metadata": {
        "id": "jJq4oSfhRZY6",
        "outputId": "09181fda-b79d-46e6-b019-b4194d9d4b96",
        "colab": {
          "base_uri": "https://localhost:8080/"
        }
      },
      "execution_count": 19,
      "outputs": [
        {
          "output_type": "stream",
          "name": "stdout",
          "text": [
            "Drive already mounted at /content/drive; to attempt to forcibly remount, call drive.mount(\"/content/drive\", force_remount=True).\n"
          ]
        }
      ]
    },
    {
      "cell_type": "code",
      "source": [
        "from os.path import isdir"
      ],
      "metadata": {
        "id": "x_NySXecReP4"
      },
      "execution_count": 20,
      "outputs": []
    },
    {
      "cell_type": "code",
      "source": [
        "from tensorflow.keras.layers import Conv2D as Conv2D\n",
        "from tensorflow.keras.layers import BatchNormalization as BatchNormalization\n",
        "from tensorflow.keras.layers import ReLU as ReLU\n",
        "from tensorflow.keras.layers import MaxPool2D as MaxPool2D\n",
        "from tensorflow.keras.layers import Flatten as Flatten\n",
        "from tensorflow.keras.layers import Dense as Dense"
      ],
      "metadata": {
        "id": "c-oRA_bPUpOC"
      },
      "execution_count": 21,
      "outputs": []
    },
    {
      "cell_type": "code",
      "source": [
        "class DataProperties:\n",
        "    data_path = '/content/drive/MyDrive/UNIPD/HDA/Project/Data/'\n",
        "    covid_path = data_path + 'covid/'\n",
        "    pneumonia_path = data_path + 'pneumonia/'\n",
        "    healthy_path = data_path + 'normal/'\n",
        "\n",
        "    healthy_class = 0\n",
        "    covid_class = 1\n",
        "    pneumonia_class = 2\n",
        "\n",
        "class TrainParameters:\n",
        "    train_size = 0.8\n",
        "    random_state = 123\n",
        "    batch_size = 32\n",
        "    max_size = 50  # Max size of each class\n",
        "\n",
        "class PreprocParameters:\n",
        "    resize_shape = (500, 500)"
      ],
      "metadata": {
        "id": "5ATZ2_ALR7I0"
      },
      "execution_count": 22,
      "outputs": []
    },
    {
      "cell_type": "markdown",
      "source": [
        "# Data download"
      ],
      "metadata": {
        "id": "sdFefXHCRONl"
      }
    },
    {
      "cell_type": "markdown",
      "source": [
        "## Paths download"
      ],
      "metadata": {
        "id": "ZYflDFndXpq0"
      }
    },
    {
      "cell_type": "code",
      "source": [
        "import os\n",
        "# Load filenames\n",
        "def load_filenames(data_path, max_files = None):\n",
        "    p = os.listdir(data_path)\n",
        "    if max_files is not None:\n",
        "        p = p[: min(max_files, len(p))]\n",
        "    p = [data_path + file_path for file_path in p]\n",
        "    return p"
      ],
      "metadata": {
        "id": "_92ledl6RRkk"
      },
      "execution_count": 23,
      "outputs": []
    },
    {
      "cell_type": "code",
      "source": [
        "covid_fnames = load_filenames(DataProperties.covid_path, TrainParameters.max_size)\n",
        "pn_fnames = load_filenames(DataProperties.pneumonia_path, TrainParameters.max_size)\n",
        "healthy_fnames = load_filenames(DataProperties.healthy_path, TrainParameters.max_size)"
      ],
      "metadata": {
        "id": "Li1Ee7eKT4M2"
      },
      "execution_count": 24,
      "outputs": []
    },
    {
      "cell_type": "code",
      "source": [
        "import numpy as np\n",
        "\n",
        "covid_labels = np.full(\n",
        "    len(covid_fnames), fill_value = DataProperties.covid_class\n",
        ")\n",
        "\n",
        "pn_labels = np.full(\n",
        "    len(pn_fnames), fill_value = DataProperties.pneumonia_class\n",
        ")\n",
        "\n",
        "healthy_labels = np.full(\n",
        "    len(healthy_fnames), fill_value = DataProperties.healthy_class\n",
        ")"
      ],
      "metadata": {
        "id": "pe9xFnA0U5rt"
      },
      "execution_count": 25,
      "outputs": []
    },
    {
      "cell_type": "code",
      "source": [
        "X = [\n",
        "     *covid_fnames, *pn_fnames, *healthy_fnames\n",
        "]\n",
        "\n",
        "Y = [\n",
        "     *covid_labels, *pn_labels, *healthy_labels\n",
        "]"
      ],
      "metadata": {
        "id": "0o7Q9Lq8Wj58"
      },
      "execution_count": 26,
      "outputs": []
    },
    {
      "cell_type": "markdown",
      "source": [
        "## Split"
      ],
      "metadata": {
        "id": "qcXEfDYnXyKI"
      }
    },
    {
      "cell_type": "code",
      "source": [
        "from sklearn.model_selection import train_test_split"
      ],
      "metadata": {
        "id": "5ed9kVjYXHf9"
      },
      "execution_count": 27,
      "outputs": []
    },
    {
      "cell_type": "code",
      "source": [
        "X_train, X_test, Y_train, Y_test = train_test_split(\n",
        "    X, Y,\n",
        "    train_size = TrainParameters.train_size,\n",
        "    random_state = TrainParameters.random_state,\n",
        "    stratify = Y\n",
        ")"
      ],
      "metadata": {
        "id": "AMsWK_9iYKFq"
      },
      "execution_count": null,
      "outputs": []
    },
    {
      "cell_type": "markdown",
      "source": [
        "# Data exploration"
      ],
      "metadata": {
        "id": "aMfvCUABX628"
      }
    },
    {
      "cell_type": "code",
      "source": [
        "import seaborn as sns\n",
        "\n",
        "_ = sns.countplot(Y)"
      ],
      "metadata": {
        "id": "wTUMvy49X8xl",
        "outputId": "fef881bf-cd0c-4143-b984-82f9e1b76339",
        "colab": {
          "base_uri": "https://localhost:8080/",
          "height": 320
        }
      },
      "execution_count": 29,
      "outputs": [
        {
          "output_type": "stream",
          "name": "stderr",
          "text": [
            "/usr/local/lib/python3.7/dist-packages/seaborn/_decorators.py:43: FutureWarning: Pass the following variable as a keyword arg: x. From version 0.12, the only valid positional argument will be `data`, and passing other arguments without an explicit keyword will result in an error or misinterpretation.\n",
            "  FutureWarning\n"
          ]
        },
        {
          "output_type": "display_data",
          "data": {
            "image/png": "[encoded data removed]",
            "text/plain": [
              "<Figure size 432x288 with 1 Axes>"
            ]
          },
          "metadata": {
            "needs_background": "light"
          }
        }
      ]
    },
    {
      "cell_type": "code",
      "source": [
        "_ = sns.countplot(Y_train)"
      ],
      "metadata": {
        "id": "qn1n967AYgC3",
        "outputId": "d56facaa-d7dc-44f2-e6c4-b7e6264565d7",
        "colab": {
          "base_uri": "https://localhost:8080/",
          "height": 320
        }
      },
      "execution_count": 30,
      "outputs": [
        {
          "output_type": "stream",
          "name": "stderr",
          "text": [
            "/usr/local/lib/python3.7/dist-packages/seaborn/_decorators.py:43: FutureWarning: Pass the following variable as a keyword arg: x. From version 0.12, the only valid positional argument will be `data`, and passing other arguments without an explicit keyword will result in an error or misinterpretation.\n",
            "  FutureWarning\n"
          ]
        },
        {
          "output_type": "display_data",
          "data": {
            "image/png": "[encoded data removed]",
            "text/plain": [
              "<Figure size 432x288 with 1 Axes>"
            ]
          },
          "metadata": {
            "needs_background": "light"
          }
        }
      ]
    },
    {
      "cell_type": "code",
      "source": [
        "_ = sns.countplot(Y_test)"
      ],
      "metadata": {
        "id": "1SxMqGG4Ykge",
        "outputId": "f2ba6a4c-236e-48c5-d548-d3e05e5e57c0",
        "colab": {
          "base_uri": "https://localhost:8080/",
          "height": 320
        }
      },
      "execution_count": 31,
      "outputs": [
        {
          "output_type": "stream",
          "name": "stderr",
          "text": [
            "/usr/local/lib/python3.7/dist-packages/seaborn/_decorators.py:43: FutureWarning: Pass the following variable as a keyword arg: x. From version 0.12, the only valid positional argument will be `data`, and passing other arguments without an explicit keyword will result in an error or misinterpretation.\n",
            "  FutureWarning\n"
          ]
        },
        {
          "output_type": "display_data",
          "data": {
            "image/png": "[encoded data removed]",
            "text/plain": [
              "<Figure size 432x288 with 1 Axes>"
            ]
          },
          "metadata": {
            "needs_background": "light"
          }
        }
      ]
    },
    {
      "cell_type": "code",
      "source": [
        "def load_image(full_path):\n",
        "    print(f'Loading, {full_path}')\n",
        "    img = cv2.imread(full_path, cv2.IMREAD_COLOR)\n",
        "    print(type(img))\n",
        "    return img"
      ],
      "metadata": {
        "id": "E75yrMqRZCeV"
      },
      "execution_count": 32,
      "outputs": []
    },
    {
      "cell_type": "code",
      "source": [
        "im = load_image(X[0])\n",
        "plt.imshow(im.astype('uint8'))"
      ],
      "metadata": {
        "id": "I1GmN-DIZiZx",
        "outputId": "e450a507-4944-4f11-f6ed-510cdc5d9f01",
        "colab": {
          "base_uri": "https://localhost:8080/",
          "height": 321
        }
      },
      "execution_count": 33,
      "outputs": [
        {
          "output_type": "stream",
          "name": "stdout",
          "text": [
            "Loading, /content/drive/MyDrive/UNIPD/HDA/Project/Data/covid/COVID-19 (401).jpg\n",
            "<class 'numpy.ndarray'>\n"
          ]
        },
        {
          "output_type": "execute_result",
          "data": {
            "text/plain": [
              "<matplotlib.image.AxesImage at 0x7ff7535152d0>"
            ]
          },
          "metadata": {},
          "execution_count": 33
        },
        {
          "output_type": "display_data",
          "data": {
            "image/png": "[encoded data removed]",
            "text/plain": [
              "<Figure size 432x288 with 1 Axes>"
            ]
          },
          "metadata": {
            "needs_background": "light"
          }
        }
      ]
    },
    {
      "cell_type": "code",
      "source": [
        "im = load_image(X_train[0])\n",
        "plt.imshow(im.astype('uint8'))"
      ],
      "metadata": {
        "id": "wFDVXHbHBPg8",
        "outputId": "5f3d9c96-5e4b-4878-9b4f-c71e3a8dc4f3",
        "colab": {
          "base_uri": "https://localhost:8080/",
          "height": 321
        }
      },
      "execution_count": 36,
      "outputs": [
        {
          "output_type": "stream",
          "name": "stdout",
          "text": [
            "Loading, /content/drive/MyDrive/UNIPD/HDA/Project/Data/covid/COVID-19 (527).jpg\n",
            "<class 'numpy.ndarray'>\n"
          ]
        },
        {
          "output_type": "execute_result",
          "data": {
            "text/plain": [
              "<matplotlib.image.AxesImage at 0x7ff75347ca10>"
            ]
          },
          "metadata": {},
          "execution_count": 36
        },
        {
          "output_type": "display_data",
          "data": {
            "image/png": "[encoded data removed]",
            "text/plain": [
              "<Figure size 432x288 with 1 Axes>"
            ]
          },
          "metadata": {
            "needs_background": "light"
          }
        }
      ]
    },
    {
      "cell_type": "markdown",
      "source": [
        "# Creating dataset"
      ],
      "metadata": {
        "id": "lMTsTfy9dOH1"
      }
    },
    {
      "cell_type": "code",
      "source": [
        "img_height = im.shape[0]\n",
        "img_width = im.shape[1]\n",
        "batch_size = 9\n",
        "\n",
        "ds_train = tf.keras.preprocessing.image_dataset_from_directory(\n",
        "       '/content/drive/MyDrive/UNIPD/HDA/Project/Data',\n",
        "       labels = 'inferred',\n",
        "       label_mode = 'int',\n",
        "       # class_names = ,\n",
        "       color_mode = 'rgb',\n",
        "       batch_size = batch_size,\n",
        "       image_size = (28, 28),  # (img_height, img_width),\n",
        "       shuffle = True,\n",
        "       seed = 123,\n",
        "       validation_split = 0.1,\n",
        "       subset = 'training'\n",
        ")\n",
        "\n",
        "ds_validation = tf.keras.preprocessing.image_dataset_from_directory(\n",
        "       '/content/drive/MyDrive/UNIPD/HDA/Project/Data',\n",
        "       labels = 'inferred',\n",
        "       label_mode = 'int',\n",
        "       # class_names = ,\n",
        "       color_mode = 'rgb',\n",
        "       batch_size = batch_size,\n",
        "       image_size = (28, 28),  # (img_height, img_width),\n",
        "       shuffle = True,\n",
        "       seed = 123,\n",
        "       validation_split = 0.1,\n",
        "       subset = 'validation'\n",
        ")"
      ],
      "metadata": {
        "id": "czAJYBkDBjhQ",
        "outputId": "7a0a9c23-c70b-4cec-a9ae-487ed5d5e5dd",
        "colab": {
          "base_uri": "https://localhost:8080/"
        }
      },
      "execution_count": 79,
      "outputs": [
        {
          "output_type": "stream",
          "name": "stdout",
          "text": [
            "Found 4575 files belonging to 3 classes.\n",
            "Using 4118 files for training.\n",
            "Found 4575 files belonging to 3 classes.\n",
            "Using 457 files for validation.\n"
          ]
        }
      ]
    },
    {
      "cell_type": "code",
      "source": [
        "fig, ax = plt.subplots(2, 3)"
      ],
      "metadata": {
        "id": "mdam3gukHPKg",
        "outputId": "8c8f48f2-37c1-4790-a87d-2c1dfe9c7f89",
        "colab": {
          "base_uri": "https://localhost:8080/",
          "height": 269
        }
      },
      "execution_count": 82,
      "outputs": [
        {
          "output_type": "display_data",
          "data": {
            "image/png": "[encoded data removed]",
            "text/plain": [
              "<Figure size 432x288 with 6 Axes>"
            ]
          },
          "metadata": {
            "needs_background": "light"
          }
        }
      ]
    },
    {
      "cell_type": "code",
      "source": [
        "\n",
        "for images, labels in ds_train.take(1):\n",
        "  for i in range(batch_size):\n",
        "    ax = plt.subplot(1, 5, i + 1)\n",
        "    plt.imshow(images[i].numpy().astype(\"uint8\"))\n",
        "    print(images[i].shape, labels[i])\n",
        "    plt.axis(\"off\")"
      ],
      "metadata": {
        "id": "ebroJrLWCJv9",
        "outputId": "d5b39299-a5da-4d71-f94b-ea88e8791942",
        "colab": {
          "base_uri": "https://localhost:8080/",
          "height": 539
        }
      },
      "execution_count": 85,
      "outputs": [
        {
          "output_type": "stream",
          "name": "stdout",
          "text": [
            "(28, 28, 3) tf.Tensor(1, shape=(), dtype=int32)\n",
            "(28, 28, 3) tf.Tensor(0, shape=(), dtype=int32)\n",
            "(28, 28, 3) tf.Tensor(2, shape=(), dtype=int32)\n",
            "(28, 28, 3) tf.Tensor(2, shape=(), dtype=int32)\n",
            "(28, 28, 3) tf.Tensor(0, shape=(), dtype=int32)\n"
          ]
        },
        {
          "output_type": "error",
          "ename": "ValueError",
          "evalue": "ignored",
          "traceback": [
            "\u001b[0;31m---------------------------------------------------------------------------\u001b[0m",
            "\u001b[0;31mValueError\u001b[0m                                Traceback (most recent call last)",
            "\u001b[0;32m<ipython-input-85-6d71023d1f77>\u001b[0m in \u001b[0;36m<module>\u001b[0;34m()\u001b[0m\n\u001b[1;32m      2\u001b[0m \u001b[0;32mfor\u001b[0m \u001b[0mimages\u001b[0m\u001b[0;34m,\u001b[0m \u001b[0mlabels\u001b[0m \u001b[0;32min\u001b[0m \u001b[0mds_train\u001b[0m\u001b[0;34m.\u001b[0m\u001b[0mtake\u001b[0m\u001b[0;34m(\u001b[0m\u001b[0;36m1\u001b[0m\u001b[0;34m)\u001b[0m\u001b[0;34m:\u001b[0m\u001b[0;34m\u001b[0m\u001b[0;34m\u001b[0m\u001b[0m\n\u001b[1;32m      3\u001b[0m   \u001b[0;32mfor\u001b[0m \u001b[0mi\u001b[0m \u001b[0;32min\u001b[0m \u001b[0mrange\u001b[0m\u001b[0;34m(\u001b[0m\u001b[0mbatch_size\u001b[0m\u001b[0;34m)\u001b[0m\u001b[0;34m:\u001b[0m\u001b[0;34m\u001b[0m\u001b[0;34m\u001b[0m\u001b[0m\n\u001b[0;32m----> 4\u001b[0;31m     \u001b[0max\u001b[0m \u001b[0;34m=\u001b[0m \u001b[0mplt\u001b[0m\u001b[0;34m.\u001b[0m\u001b[0msubplot\u001b[0m\u001b[0;34m(\u001b[0m\u001b[0;36m1\u001b[0m\u001b[0;34m,\u001b[0m \u001b[0;36m5\u001b[0m\u001b[0;34m,\u001b[0m \u001b[0mi\u001b[0m \u001b[0;34m+\u001b[0m \u001b[0;36m1\u001b[0m\u001b[0;34m)\u001b[0m\u001b[0;34m\u001b[0m\u001b[0;34m\u001b[0m\u001b[0m\n\u001b[0m\u001b[1;32m      5\u001b[0m     \u001b[0mplt\u001b[0m\u001b[0;34m.\u001b[0m\u001b[0mimshow\u001b[0m\u001b[0;34m(\u001b[0m\u001b[0mimages\u001b[0m\u001b[0;34m[\u001b[0m\u001b[0mi\u001b[0m\u001b[0;34m]\u001b[0m\u001b[0;34m.\u001b[0m\u001b[0mnumpy\u001b[0m\u001b[0;34m(\u001b[0m\u001b[0;34m)\u001b[0m\u001b[0;34m.\u001b[0m\u001b[0mastype\u001b[0m\u001b[0;34m(\u001b[0m\u001b[0;34m\"uint8\"\u001b[0m\u001b[0;34m)\u001b[0m\u001b[0;34m)\u001b[0m\u001b[0;34m\u001b[0m\u001b[0;34m\u001b[0m\u001b[0m\n\u001b[1;32m      6\u001b[0m     \u001b[0mprint\u001b[0m\u001b[0;34m(\u001b[0m\u001b[0mimages\u001b[0m\u001b[0;34m[\u001b[0m\u001b[0mi\u001b[0m\u001b[0;34m]\u001b[0m\u001b[0;34m.\u001b[0m\u001b[0mshape\u001b[0m\u001b[0;34m,\u001b[0m \u001b[0mlabels\u001b[0m\u001b[0;34m[\u001b[0m\u001b[0mi\u001b[0m\u001b[0;34m]\u001b[0m\u001b[0;34m)\u001b[0m\u001b[0;34m\u001b[0m\u001b[0;34m\u001b[0m\u001b[0m\n",
            "\u001b[0;32m/usr/local/lib/python3.7/dist-packages/matplotlib/pyplot.py\u001b[0m in \u001b[0;36msubplot\u001b[0;34m(*args, **kwargs)\u001b[0m\n\u001b[1;32m   1028\u001b[0m \u001b[0;34m\u001b[0m\u001b[0m\n\u001b[1;32m   1029\u001b[0m     \u001b[0mfig\u001b[0m \u001b[0;34m=\u001b[0m \u001b[0mgcf\u001b[0m\u001b[0;34m(\u001b[0m\u001b[0;34m)\u001b[0m\u001b[0;34m\u001b[0m\u001b[0;34m\u001b[0m\u001b[0m\n\u001b[0;32m-> 1030\u001b[0;31m     \u001b[0ma\u001b[0m \u001b[0;34m=\u001b[0m \u001b[0mfig\u001b[0m\u001b[0;34m.\u001b[0m\u001b[0madd_subplot\u001b[0m\u001b[0;34m(\u001b[0m\u001b[0;34m*\u001b[0m\u001b[0margs\u001b[0m\u001b[0;34m,\u001b[0m \u001b[0;34m**\u001b[0m\u001b[0mkwargs\u001b[0m\u001b[0;34m)\u001b[0m\u001b[0;34m\u001b[0m\u001b[0;34m\u001b[0m\u001b[0m\n\u001b[0m\u001b[1;32m   1031\u001b[0m     \u001b[0mbbox\u001b[0m \u001b[0;34m=\u001b[0m \u001b[0ma\u001b[0m\u001b[0;34m.\u001b[0m\u001b[0mbbox\u001b[0m\u001b[0;34m\u001b[0m\u001b[0;34m\u001b[0m\u001b[0m\n\u001b[1;32m   1032\u001b[0m     \u001b[0mbyebye\u001b[0m \u001b[0;34m=\u001b[0m \u001b[0;34m[\u001b[0m\u001b[0;34m]\u001b[0m\u001b[0;34m\u001b[0m\u001b[0;34m\u001b[0m\u001b[0m\n",
            "\u001b[0;32m/usr/local/lib/python3.7/dist-packages/matplotlib/figure.py\u001b[0m in \u001b[0;36madd_subplot\u001b[0;34m(self, *args, **kwargs)\u001b[0m\n\u001b[1;32m   1417\u001b[0m                     \u001b[0mself\u001b[0m\u001b[0;34m.\u001b[0m\u001b[0m_axstack\u001b[0m\u001b[0;34m.\u001b[0m\u001b[0mremove\u001b[0m\u001b[0;34m(\u001b[0m\u001b[0max\u001b[0m\u001b[0;34m)\u001b[0m\u001b[0;34m\u001b[0m\u001b[0;34m\u001b[0m\u001b[0m\n\u001b[1;32m   1418\u001b[0m \u001b[0;34m\u001b[0m\u001b[0m\n\u001b[0;32m-> 1419\u001b[0;31m             \u001b[0ma\u001b[0m \u001b[0;34m=\u001b[0m \u001b[0msubplot_class_factory\u001b[0m\u001b[0;34m(\u001b[0m\u001b[0mprojection_class\u001b[0m\u001b[0;34m)\u001b[0m\u001b[0;34m(\u001b[0m\u001b[0mself\u001b[0m\u001b[0;34m,\u001b[0m \u001b[0;34m*\u001b[0m\u001b[0margs\u001b[0m\u001b[0;34m,\u001b[0m \u001b[0;34m**\u001b[0m\u001b[0mkwargs\u001b[0m\u001b[0;34m)\u001b[0m\u001b[0;34m\u001b[0m\u001b[0;34m\u001b[0m\u001b[0m\n\u001b[0m\u001b[1;32m   1420\u001b[0m \u001b[0;34m\u001b[0m\u001b[0m\n\u001b[1;32m   1421\u001b[0m         \u001b[0;32mreturn\u001b[0m \u001b[0mself\u001b[0m\u001b[0;34m.\u001b[0m\u001b[0m_add_axes_internal\u001b[0m\u001b[0;34m(\u001b[0m\u001b[0mkey\u001b[0m\u001b[0;34m,\u001b[0m \u001b[0ma\u001b[0m\u001b[0;34m)\u001b[0m\u001b[0;34m\u001b[0m\u001b[0;34m\u001b[0m\u001b[0m\n",
            "\u001b[0;32m/usr/local/lib/python3.7/dist-packages/matplotlib/axes/_subplots.py\u001b[0m in \u001b[0;36m__init__\u001b[0;34m(self, fig, *args, **kwargs)\u001b[0m\n\u001b[1;32m     64\u001b[0m                 \u001b[0;32mif\u001b[0m \u001b[0mnum\u001b[0m \u001b[0;34m<\u001b[0m \u001b[0;36m1\u001b[0m \u001b[0;32mor\u001b[0m \u001b[0mnum\u001b[0m \u001b[0;34m>\u001b[0m \u001b[0mrows\u001b[0m\u001b[0;34m*\u001b[0m\u001b[0mcols\u001b[0m\u001b[0;34m:\u001b[0m\u001b[0;34m\u001b[0m\u001b[0;34m\u001b[0m\u001b[0m\n\u001b[1;32m     65\u001b[0m                     raise ValueError(\n\u001b[0;32m---> 66\u001b[0;31m                         f\"num must be 1 <= num <= {rows*cols}, not {num}\")\n\u001b[0m\u001b[1;32m     67\u001b[0m                 self._subplotspec = GridSpec(\n\u001b[1;32m     68\u001b[0m                         rows, cols, figure=self.figure)[int(num) - 1]\n",
            "\u001b[0;31mValueError\u001b[0m: num must be 1 <= num <= 5, not 6"
          ]
        },
        {
          "output_type": "display_data",
          "data": {
            "image/png": "[encoded data removed]",
            "text/plain": [
              "<Figure size 432x288 with 5 Axes>"
            ]
          },
          "metadata": {
            "needs_background": "light"
          }
        }
      ]
    },
    {
      "cell_type": "code",
      "source": [
        "def LOAD_IMAGE(full_path):\n",
        "    print(f'Loading, {full_path}')\n",
        "    file = tf.io.read_file(full_path)\n",
        "    extension = full_path[-3:]\n",
        "    if extension == 'jpg':\n",
        "        image_decoded = tf.io.decode_jpeg(file, channels=3)\n",
        "        image = tf.cast(image_decoded, tf.float32)\n",
        "        \n",
        "    if extension == 'png':\n",
        "        image_decoded = tf.io.decode_jpeg(file, channels=3)\n",
        "        image = tf.cast(image_decoded, tf.float32)\n",
        "    else:\n",
        "        image_decoded = tf.io.decode_jpeg(file, channels=3)\n",
        "        image = tf.cast(image_decoded, tf.float32)\n",
        "    return image\n",
        "\n",
        "def resize_image(image, new_shape):\n",
        "    n = cv2.resize(image, new_shape)\n",
        "    return n\n",
        "\n",
        "def normalize_image(image):\n",
        "    return tf.cast(image, tf.float32) / 255.\n",
        "\n",
        "\n",
        "def create_dataset(file_names, shuffle, cache_file):\n",
        "    dataset = tf.data.Dataset.from_tensor_slices(\n",
        "        file_names\n",
        "    )\n",
        "\n",
        "    # load image func\n",
        "    load_im = lambda full_path: (\n",
        "        tf.numpy_function(LOAD_IMAGE, [full_path], tf.float32)\n",
        "    )\n",
        "\n",
        "    # # resize\n",
        "    # resize_im = lambda image: (\n",
        "    #     tf.numpy_function(\n",
        "    #         resize_image, \n",
        "    #         [image, PreprocParameters.resize_shape], \n",
        "    #         tf.float32\n",
        "    #     )\n",
        "    # )\n",
        "\n",
        "    # # normalize\n",
        "    # normalize_im = lambda image: (\n",
        "    #     tf.numpy_function(\n",
        "    #         normalize_image,\n",
        "    #         [image],\n",
        "    #         tf.float32\n",
        "    #     )\n",
        "    # )\n",
        "\n",
        "    dataset = dataset.map(load_im, num_parallel_calls = os.cpu_count())\n",
        "    # dataset = dataset.map(resize_im, num_parallel_calls = os.cpu_count())\n",
        "    # dataset = dataset.map(normalize_im, num_parallel_calls = os.cpu_count())\n",
        "\n",
        "    # Cache dataset\n",
        "    if cache_file:\n",
        "        dataset = dataset.cache(cache_file)\n",
        "\n",
        "    # Shuffle\n",
        "    #if shuffle:\n",
        "    #    dataset = dataset.shuffle(len(file_names))\n",
        "\n",
        "    # Repeat the dataset indefinitely\n",
        "    # dataset = dataset.repeat()\n",
        "\n",
        "    # Batch\n",
        "    # dataset = dataset.batch(\n",
        "     #   batch_size = TrainParameters.batch_size\n",
        "    #)\n",
        "\n",
        "    # Prefetch\n",
        "    #dataset = dataset.prefetch(buffer_size = 1)\n",
        "\n",
        "    return dataset"
      ],
      "metadata": {
        "id": "h4wRlcpsdWY_"
      },
      "execution_count": null,
      "outputs": []
    },
    {
      "cell_type": "code",
      "source": [
        "train_dataset = create_dataset(\n",
        "    X_train,\n",
        "    shuffle = True,\n",
        "    cache_file = None # 'train_cache'\n",
        ")\n",
        "\n",
        "test_dataset = create_dataset(\n",
        "    X_test,\n",
        "    shuffle = True,\n",
        "    cache_file = None # 'test_cache'\n",
        ")"
      ],
      "metadata": {
        "id": "ZvIa-o7KiBHi"
      },
      "execution_count": null,
      "outputs": []
    },
    {
      "cell_type": "markdown",
      "source": [
        "# CNN model"
      ],
      "metadata": {
        "id": "wMyqUKipUnqN"
      }
    },
    {
      "cell_type": "code",
      "source": [
        "train_dataset.take(2)"
      ],
      "metadata": {
        "id": "pnGjOZD-2bqG",
        "outputId": "2c22478a-c0a4-4293-9dcc-68bdac54f19b",
        "colab": {
          "base_uri": "https://localhost:8080/"
        }
      },
      "execution_count": null,
      "outputs": [
        {
          "output_type": "execute_result",
          "data": {
            "text/plain": [
              "<TakeDataset shapes: <unknown>, types: tf.float32>"
            ]
          },
          "metadata": {},
          "execution_count": 67
        }
      ]
    },
    {
      "cell_type": "code",
      "source": [
        "for im in train_dataset.take(5):\n",
        "    plt.imshow(im)"
      ],
      "metadata": {
        "colab": {
          "base_uri": "https://localhost:8080/",
          "height": 488
        },
        "id": "MtwjcfZmtCUZ",
        "outputId": "4c7b0f22-7f6b-4d7d-beac-9c0e8a4833fe"
      },
      "execution_count": null,
      "outputs": [
        {
          "output_type": "stream",
          "name": "stderr",
          "text": [
            "Clipping input data to the valid range for imshow with RGB data ([0..1] for floats or [0..255] for integers).\n",
            "Clipping input data to the valid range for imshow with RGB data ([0..1] for floats or [0..255] for integers).\n",
            "Clipping input data to the valid range for imshow with RGB data ([0..1] for floats or [0..255] for integers).\n",
            "Clipping input data to the valid range for imshow with RGB data ([0..1] for floats or [0..255] for integers).\n"
          ]
        },
        {
          "output_type": "stream",
          "name": "stdout",
          "text": [
            "Loading, b'/content/drive/MyDrive/UNIPD/HDA/Project/Data/covid/COVID-19 (527).jpg'\n",
            "Loading, b'/content/drive/MyDrive/UNIPD/HDA/Project/Data/normal/00000419_000.png'\n",
            "Loading, b'/content/drive/MyDrive/UNIPD/HDA/Project/Data/covid/COVID-19 (408).jpg'\n",
            "Loading, b'/content/drive/MyDrive/UNIPD/HDA/Project/Data/normal/00000366_001.png'\n",
            "Loading, b'/content/drive/MyDrive/UNIPD/HDA/Project/Data/normal/00000370_007.png'\n",
            "Loading, b'/content/drive/MyDrive/UNIPD/HDA/Project/Data/pneumonia/person1313_bacteria_3320.jpeg'\n",
            "Loading, b'/content/drive/MyDrive/UNIPD/HDA/Project/Data/normal/00000427_001.png'\n"
          ]
        },
        {
          "output_type": "stream",
          "name": "stderr",
          "text": [
            "Clipping input data to the valid range for imshow with RGB data ([0..1] for floats or [0..255] for integers).\n"
          ]
        },
        {
          "output_type": "display_data",
          "data": {
            "image/png": "[encoded data removed]",
            "text/plain": [
              "<Figure size 432x288 with 1 Axes>"
            ]
          },
          "metadata": {
            "needs_background": "light"
          }
        }
      ]
    }
  ],
  "metadata": {
    "kernelspec": {
      "display_name": "Python 3",
      "language": "python",
      "name": "python3"
    },
    "language_info": {
      "codemirror_mode": {
        "name": "ipython",
        "version": 3
      },
      "file_extension": ".py",
      "mimetype": "text/x-python",
      "name": "python",
      "nbconvert_exporter": "python",
      "pygments_lexer": "ipython3",
      "version": "3.9.7"
    },
    "colab": {
      "name": "main.ipynb",
      "provenance": []
    }
  },
  "nbformat": 4,
  "nbformat_minor": 0
}