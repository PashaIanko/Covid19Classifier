{
  "cells": [
    {
      "cell_type": "code",
      "execution_count": 198,
      "metadata": {
        "id": "bhoecUqzJvsh"
      },
      "outputs": [],
      "source": [
        "# MAIN."
      ]
    },
    {
      "cell_type": "code",
      "execution_count": 199,
      "metadata": {
        "id": "0ol4IvhsbeFA"
      },
      "outputs": [],
      "source": [
        "# MAIN\n",
        "\n",
        "env = 'colab'  # 'colab' or 'pc'\n",
        "\n",
        "using_gpu = True  # True or False\n",
        "\n",
        "percentage = 0.2 # 0.99\n",
        "epoch_hyperparam = 500  # I use early stop\n",
        "train_percentage = percentage  # how much of train set we will use\n",
        "val_percentage = percentage\n",
        "test_percentage = percentage\n",
        "\n",
        "saving_models = True\n",
        "saving_train_times = True\n",
        "saving_histories = True\n",
        "n_trial = 1\n",
        "\n",
        "names = ['Inception']  # , 'CNN']\n",
        "git_download_path = 'https://raw.githubusercontent.com/PashaIanko/Covid19Classifier/ResNet/'\n",
        "\n",
        "# Number of trial for this day (-> directory/24-01-22/trial-{n_trial}/ -- example of directories)"
      ]
    },
    {
      "cell_type": "markdown",
      "metadata": {
        "id": "IfsyMy5yRWKF"
      },
      "source": [
        "# Packages & functions"
      ]
    },
    {
      "cell_type": "code",
      "execution_count": 200,
      "metadata": {
        "colab": {
          "base_uri": "https://localhost:8080/"
        },
        "id": "jJq4oSfhRZY6",
        "outputId": "b699e35f-1d06-4a98-c805-b404201b75a9"
      },
      "outputs": [
        {
          "output_type": "stream",
          "name": "stdout",
          "text": [
            "Drive already mounted at /content/drive; to attempt to forcibly remount, call drive.mount(\"/content/drive\", force_remount=True).\n"
          ]
        }
      ],
      "source": [
        "# %%capture\n",
        "def download_files(url_dict):\n",
        "    for file, url in url_dict.items():\n",
        "        print(f'Downloading {file}')\n",
        "        !wget -O {file} {url} {file}\n",
        "\n",
        "\n",
        "if env == 'colab':\n",
        "    from google.colab import drive\n",
        "    drive.mount('/content/drive')\n",
        "\n",
        "    \n",
        "    files = [\n",
        "            'DataProperties.py',\n",
        "            'DatasetParameters.py',\n",
        "            'Preprocessing.py',\n",
        "            'PreprocessingParameters.py',\n",
        "            \n",
        "            'Model.py',\n",
        "            'BNModel.py',\n",
        "            'CNNModel.py',\n",
        "            'VGG19Model.py',\n",
        "            'VGG16Model.py',\n",
        "            'AlexNetModel.py',\n",
        "            'DropoutModel.py',\n",
        "            'InceptionModel.py',\n",
        "            'ResNetModel.py',\n",
        "\n",
        "            'Utils.py',\n",
        "            'ModelUtils.py',\n",
        "            'TimeCallBack.py'\n",
        "    ]"
      ]
    },
    {
      "cell_type": "code",
      "execution_count": 201,
      "metadata": {
        "id": "2rAfLXFKykyQ"
      },
      "outputs": [],
      "source": [
        "%%capture\n",
        "if env == 'colab':\n",
        "    url_dict = {file: git_download_path + file for file in files[:3]}\n",
        "    download_files(url_dict)"
      ]
    },
    {
      "cell_type": "code",
      "execution_count": 202,
      "metadata": {
        "id": "s6vCIMfcyq-N"
      },
      "outputs": [],
      "source": [
        "%%capture\n",
        "if env == 'colab':\n",
        "    url_dict = {file: git_download_path + file for file in files[3:6]}\n",
        "    download_files(url_dict)"
      ]
    },
    {
      "cell_type": "code",
      "execution_count": 203,
      "metadata": {
        "id": "r6-Rf7MUzBxU"
      },
      "outputs": [],
      "source": [
        "%%capture\n",
        "if env == 'colab':\n",
        "    url_dict = {file: git_download_path + file for file in files[6:]}\n",
        "    download_files(url_dict)"
      ]
    },
    {
      "cell_type": "code",
      "execution_count": 204,
      "metadata": {
        "id": "F1ZGnrMJRY1b"
      },
      "outputs": [],
      "source": [
        "import os\n",
        "import numpy as np\n",
        "import tensorflow as tf\n",
        "import matplotlib.pyplot as plt"
      ]
    },
    {
      "cell_type": "code",
      "execution_count": 205,
      "metadata": {
        "id": "c-oRA_bPUpOC"
      },
      "outputs": [],
      "source": [
        "# Models\n",
        "from tensorflow.keras import models\n",
        "from tensorflow.keras.layers import Conv2D as Conv2D\n",
        "from tensorflow.keras.layers import BatchNormalization as BatchNormalization\n",
        "from tensorflow.keras.layers import ReLU as ReLU\n",
        "from tensorflow.keras.layers import MaxPool2D as MaxPool2D\n",
        "from tensorflow.keras.layers import Flatten as Flatten\n",
        "from tensorflow.keras.layers import Dense as Dense\n",
        "from tensorflow.keras.layers import Input as Input\n",
        "\n",
        "from os.path import isdir\n",
        "import os\n",
        "import numpy as np\n",
        "\n",
        "# Plotting\n",
        "# import seaborn as sns\n",
        "\n",
        "# Utils\n",
        "import importlib\n",
        "from os.path import isdir\n",
        "# from datetime import date\n",
        "import pandas as pd\n",
        "\n",
        "# Dataset\n",
        "from tensorflow.keras.preprocessing.image import ImageDataGenerator"
      ]
    },
    {
      "cell_type": "code",
      "execution_count": 206,
      "metadata": {
        "id": "EOLlI5vMp3zH"
      },
      "outputs": [],
      "source": [
        "import DataProperties \n",
        "import PreprocessingParameters \n",
        "import Preprocessing\n",
        "import DatasetParameters\n",
        "import Utils\n",
        "import CNNModel\n",
        "import BNModel\n",
        "import ResNetModel\n",
        "import DropoutModel\n",
        "import InceptionModel\n",
        "import AlexNetModel\n",
        "import VGG19Model\n",
        "import VGG16Model\n",
        "import Model\n",
        "import ModelUtils\n",
        "import TimeCallBack\n",
        "\n",
        "def reload_all(modules_list):\n",
        "    for module in modules_list:\n",
        "        importlib.reload(module)\n",
        "\n",
        "reload_all(\n",
        "    [\n",
        "        DataProperties,\n",
        "        PreprocessingParameters,\n",
        "        DatasetParameters,\n",
        "        Utils,\n",
        "        Preprocessing,\n",
        "\n",
        "        Model,\n",
        "        CNNModel,\n",
        "        BNModel,\n",
        "        DropoutModel,\n",
        "        \n",
        "        VGG16Model,\n",
        "        ResNetModel,\n",
        "        InceptionModel,\n",
        "        ModelUtils,\n",
        "        TimeCallBack,\n",
        "        VGG19Model,\n",
        "        AlexNetModel\n",
        "    ]\n",
        ")\n",
        "\n",
        "from DataProperties import DataProperties\n",
        "from PreprocessingParameters import PreprocessingParameters\n",
        "from DatasetParameters import DatasetParameters\n",
        "from Utils import *\n",
        "from Preprocessing import *\n",
        "from CNNModel import CNNModel\n",
        "from BNModel import BNModel\n",
        "from DropoutModel import DropoutModel\n",
        "from VGG19Model import VGG19Model\n",
        "from ResNetModel import ResNetModel\n",
        "from InceptionModel import InceptionModel\n",
        "from ModelUtils import ModelUtils\n",
        "from TimeCallBack import TimeCallBack\n",
        "from AlexNetModel import AlexNetModel\n",
        "from VGG16Model import VGG16Model"
      ]
    },
    {
      "cell_type": "code",
      "execution_count": 207,
      "metadata": {
        "id": "X7b1_VvlHYqm"
      },
      "outputs": [],
      "source": [
        "DataProps = DataProperties(\n",
        "    environment = env,\n",
        "    n_trial = n_trial\n",
        ")"
      ]
    },
    {
      "cell_type": "markdown",
      "metadata": {
        "id": "sdFefXHCRONl"
      },
      "source": [
        "# Class balance"
      ]
    },
    {
      "cell_type": "markdown",
      "metadata": {
        "id": "ZYflDFndXpq0"
      },
      "source": [
        "## Paths download"
      ]
    },
    {
      "cell_type": "code",
      "execution_count": 208,
      "metadata": {
        "id": "yB4gIThHp3zR"
      },
      "outputs": [],
      "source": [
        "assert isdir(DataProps.train_data_path) == True\n",
        "assert isdir(DataProps.test_data_path) == True\n",
        "assert isdir(DataProps.val_data_path) == True\n",
        "assert isdir(DataProps.models_path) == True"
      ]
    },
    {
      "cell_type": "code",
      "execution_count": 209,
      "metadata": {
        "id": "R5w0G9ffc3x8"
      },
      "outputs": [],
      "source": [
        "train_files = calc_files(directory = DataProps.train_data_path)\n",
        "train_covid_files = calc_files(DataProps.train_covid_path)\n",
        "train_pn_files = calc_files(DataProps.train_pneumonia_path)\n",
        "train_healthy_files = calc_files(DataProps.train_healthy_path)\n",
        "\n",
        "assert train_files == (train_covid_files + train_pn_files + train_healthy_files)"
      ]
    },
    {
      "cell_type": "code",
      "execution_count": 210,
      "metadata": {
        "id": "eiJ9GOvdc3x9"
      },
      "outputs": [],
      "source": [
        "val_files = calc_files(directory = DataProps.val_data_path)\n",
        "val_covid_files = calc_files(DataProps.val_covid_path)\n",
        "val_pn_files = calc_files(DataProps.val_pneumonia_path)\n",
        "val_healthy_files = calc_files(DataProps.val_healthy_path)\n",
        "\n",
        "assert val_files == (val_covid_files + val_pn_files + val_healthy_files)"
      ]
    },
    {
      "cell_type": "code",
      "execution_count": 211,
      "metadata": {
        "id": "0z-s2L9Hc3x9"
      },
      "outputs": [],
      "source": [
        "test_files = calc_files(DataProps.test_data_path)\n",
        "test_covid_files = calc_files(DataProps.test_covid_path)\n",
        "test_pn_files = calc_files(DataProps.test_pneumonia_path)\n",
        "test_healthy_files = calc_files(DataProps.test_healthy_path)\n",
        "\n",
        "assert test_files == (test_covid_files + test_pn_files + test_healthy_files)"
      ]
    },
    {
      "cell_type": "code",
      "execution_count": 212,
      "metadata": {
        "colab": {
          "base_uri": "https://localhost:8080/",
          "height": 312
        },
        "id": "vd5khqHOc3x9",
        "outputId": "e2a11d17-b089-41b9-c2c6-1c20211a04cb"
      },
      "outputs": [
        {
          "output_type": "execute_result",
          "data": {
            "text/plain": [
              "Text(0, 0.5, 'y')"
            ]
          },
          "metadata": {},
          "execution_count": 212
        },
        {
          "output_type": "display_data",
          "data": {
            "image/png": "[encoded data removed]",
            "text/plain": [
              "<Figure size 432x288 with 1 Axes>"
            ]
          },
          "metadata": {
            "needs_background": "light"
          }
        }
      ],
      "source": [
        "x = ['T', 'V', 'Test']\n",
        "y = [train_files, val_files, test_files]\n",
        "\n",
        "fig, ax = plt.subplots()    \n",
        "width = 0.75 # the width of the bars \n",
        "ax.bar(x, y, width, color=\"blue\")\n",
        "plt.title('Data split')\n",
        "plt.xlabel('Data set')\n",
        "plt.ylabel('y') "
      ]
    },
    {
      "cell_type": "code",
      "execution_count": 213,
      "metadata": {
        "colab": {
          "base_uri": "https://localhost:8080/"
        },
        "id": "R6k8gAyybeFO",
        "outputId": "4e959ec1-f733-4fa8-9aad-18827179f409"
      },
      "outputs": [
        {
          "output_type": "execute_result",
          "data": {
            "text/plain": [
              "(1067, 1067, 1067)"
            ]
          },
          "metadata": {},
          "execution_count": 213
        }
      ],
      "source": [
        "train_covid_files, train_healthy_files, train_pn_files"
      ]
    },
    {
      "cell_type": "code",
      "execution_count": 214,
      "metadata": {
        "colab": {
          "base_uri": "https://localhost:8080/"
        },
        "id": "e3FufZoPbeFP",
        "outputId": "865eb0cc-4ae5-4cdb-a5f1-c3a0b7a487a4"
      },
      "outputs": [
        {
          "output_type": "execute_result",
          "data": {
            "text/plain": [
              "(229, 229, 229)"
            ]
          },
          "metadata": {},
          "execution_count": 214
        }
      ],
      "source": [
        "val_covid_files, val_healthy_files, val_pn_files"
      ]
    },
    {
      "cell_type": "code",
      "execution_count": 215,
      "metadata": {
        "colab": {
          "base_uri": "https://localhost:8080/"
        },
        "id": "d1cbNyxfbeFP",
        "outputId": "2610880b-ff6f-4a94-b71c-f371c2b394d6"
      },
      "outputs": [
        {
          "output_type": "execute_result",
          "data": {
            "text/plain": [
              "(229, 229, 229)"
            ]
          },
          "metadata": {},
          "execution_count": 215
        }
      ],
      "source": [
        "test_covid_files, test_healthy_files, test_pn_files"
      ]
    },
    {
      "cell_type": "code",
      "execution_count": 216,
      "metadata": {
        "colab": {
          "base_uri": "https://localhost:8080/"
        },
        "id": "3jGO38VQbeFP",
        "outputId": "7375a721-a314-470d-c7c4-95eace666440"
      },
      "outputs": [
        {
          "output_type": "execute_result",
          "data": {
            "text/plain": [
              "4575"
            ]
          },
          "metadata": {},
          "execution_count": 216
        }
      ],
      "source": [
        "train_files + val_files + test_files"
      ]
    },
    {
      "cell_type": "markdown",
      "metadata": {
        "id": "lMTsTfy9dOH1"
      },
      "source": [
        "# Creating dataset"
      ]
    },
    {
      "cell_type": "code",
      "execution_count": 217,
      "metadata": {
        "colab": {
          "base_uri": "https://localhost:8080/"
        },
        "id": "MJYeLGFxc_8h",
        "outputId": "9da329a4-a63a-4c0a-ec1c-9351e4cd5df8"
      },
      "outputs": [
        {
          "output_type": "stream",
          "name": "stdout",
          "text": [
            "Target shape is (300, 300)\n"
          ]
        }
      ],
      "source": [
        "# Each model requires special input size -> need to check\n",
        "input_sizes = {\n",
        "    'VGG16': (224, 224),\n",
        "    'VGG19': (224, 224),\n",
        "    'AlexNet': (256, 256)\n",
        "}\n",
        "\n",
        "assert len(names) == 1\n",
        "if names[0] in list(input_sizes.keys()):\n",
        "    target_shape = input_sizes[names[0]]\n",
        "else:\n",
        "    target_shape = PreprocessingParameters.target_shape\n",
        "\n",
        "print(f'Target shape is {target_shape}')\n",
        "\n",
        "if names[0] == 'VGG16' or names[0] == 'VGG19':\n",
        "    assert target_shape == (224, 224)\n",
        "if names[0] == 'AlexNet':\n",
        "    assert target_shape == (256, 256)"
      ]
    },
    {
      "cell_type": "markdown",
      "metadata": {
        "id": "eD-sJtpibeFQ"
      },
      "source": [
        "## Train"
      ]
    },
    {
      "cell_type": "code",
      "execution_count": 218,
      "metadata": {
        "colab": {
          "base_uri": "https://localhost:8080/"
        },
        "id": "8lSWgMs-p3zo",
        "outputId": "dcf8fcdc-9069-4083-dfab-dcde68ddc9ef"
      },
      "outputs": [
        {
          "output_type": "stream",
          "name": "stdout",
          "text": [
            "Found 642 images belonging to 3 classes.\n",
            "Use 642 images for train\n"
          ]
        }
      ],
      "source": [
        "train_generator = ImageDataGenerator(\n",
        "    # we use only a portion for train data (initially, to check if all works fine)\n",
        "    validation_split = 1 - train_percentage,  \n",
        "\n",
        "    # preprocessing\n",
        "    preprocessing_function = Preprocessing.preprocess,\n",
        "    samplewise_center = DatasetParameters.samplewise_center,\n",
        "    featurewise_center = DatasetParameters.featurewise_center,\n",
        "    \n",
        "    # augmentation\n",
        "    width_shift_range = DatasetParameters.width_shift_range,\n",
        "    height_shift_range = DatasetParameters.height_shift_range,\n",
        "    rotation_range = DatasetParameters.rotation_range,\n",
        "    horizontal_flip = DatasetParameters.horizontal_flip,\n",
        "    vertical_flip = DatasetParameters.vertical_flip,\n",
        "    # brightness_range = [0.8, 1.0],\n",
        "    zoom_range = DatasetParameters.zoom_range\n",
        ")\n",
        "\n",
        "train_flow = train_generator.flow_from_directory(\n",
        "    directory = DataProps.train_data_path,\n",
        "    target_size = target_shape,  # PreprocessingParameters.target_shape,\n",
        "    color_mode = 'rgb',\n",
        "    classes = DataProperties.classes,\n",
        "    class_mode = 'sparse',  # 1D integer labels\n",
        "    batch_size = DatasetParameters.batch_size,\n",
        "    subset = 'training',\n",
        "    shuffle = DatasetParameters.shuffle_train,\n",
        "    seed = DatasetParameters.seed\n",
        ")\n",
        "print(f'Use {train_flow.n} images for train')"
      ]
    },
    {
      "cell_type": "markdown",
      "metadata": {
        "id": "kW_Up6bkbeFR"
      },
      "source": [
        "## Validation"
      ]
    },
    {
      "cell_type": "code",
      "execution_count": 219,
      "metadata": {
        "colab": {
          "base_uri": "https://localhost:8080/"
        },
        "id": "n98o85Jgc3x-",
        "outputId": "5ef796a0-0b66-4378-f1b3-64c2dd93586f"
      },
      "outputs": [
        {
          "output_type": "stream",
          "name": "stdout",
          "text": [
            "Found 138 images belonging to 3 classes.\n",
            "Use 138 images for validation\n"
          ]
        }
      ],
      "source": [
        "val_generator = ImageDataGenerator(\n",
        "    preprocessing_function = Preprocessing.preprocess,\n",
        "    validation_split = 1 - val_percentage\n",
        ")\n",
        "\n",
        "val_flow = train_generator.flow_from_directory(\n",
        "    directory = DataProps.val_data_path,\n",
        "    target_size = target_shape,  # PreprocessingParameters.target_shape,\n",
        "    color_mode = 'rgb',\n",
        "    classes = DataProperties.classes,\n",
        "    class_mode = 'sparse',  # 1D integer labels\n",
        "    batch_size = DatasetParameters.batch_size,\n",
        "    subset = 'training',  # yes, training - we use val_split of data \n",
        "    shuffle = DatasetParameters.shuffle_validation,\n",
        "    seed = DatasetParameters.seed\n",
        ")\n",
        "\n",
        "print(f'Use {val_flow.n} images for validation')"
      ]
    },
    {
      "cell_type": "markdown",
      "metadata": {
        "id": "QwXEti7RbeFR"
      },
      "source": [
        "## Test"
      ]
    },
    {
      "cell_type": "code",
      "execution_count": 220,
      "metadata": {
        "colab": {
          "base_uri": "https://localhost:8080/"
        },
        "id": "aESoE1FWp3zr",
        "outputId": "d8d63240-2c09-4d92-974d-d4c06b509f24"
      },
      "outputs": [
        {
          "output_type": "stream",
          "name": "stdout",
          "text": [
            "Found 138 images belonging to 3 classes.\n",
            "Use 138 images for test\n"
          ]
        }
      ],
      "source": [
        "test_generator = ImageDataGenerator(\n",
        "    preprocessing_function = Preprocessing.preprocess,\n",
        "    validation_split = 1 - test_percentage\n",
        ")\n",
        "\n",
        "test_flow = test_generator.flow_from_directory(\n",
        "    directory = DataProps.test_data_path,\n",
        "    target_size = target_shape,  # PreprocessingParameters.target_shape,\n",
        "    color_mode = 'rgb',\n",
        "    classes = DataProperties.classes,\n",
        "    class_mode = 'sparse',\n",
        "    shuffle = DatasetParameters.shuffle_test,\n",
        "    seed = DatasetParameters.seed,\n",
        "    batch_size = 1,\n",
        "    subset = 'training'\n",
        ")\n",
        "\n",
        "print(f'Use {test_flow.n} images for test')"
      ]
    },
    {
      "cell_type": "code",
      "execution_count": 221,
      "metadata": {
        "id": "gYAlvCLVp3zt"
      },
      "outputs": [],
      "source": [
        "assert train_flow.class_indices == test_flow.class_indices\n",
        "assert train_flow.class_indices == val_flow.class_indices"
      ]
    },
    {
      "cell_type": "markdown",
      "metadata": {
        "id": "d3WuMFeiabhG"
      },
      "source": [
        "# Visualizing dataset"
      ]
    },
    {
      "cell_type": "code",
      "execution_count": 222,
      "metadata": {
        "id": "xWs7ZSKVp3zu"
      },
      "outputs": [],
      "source": [
        "# how_many_to_show = 9\n",
        "# flow = train_flow\n",
        "# for _ in range(1):\n",
        "#     batch, labels = flow.next()\n",
        "#     print(batch.shape, np.max(batch))\n",
        "#     assert np.max(batch) <= 1.01\n",
        "#     assert np.min(batch) >= 0.0\n",
        "    \n",
        "#     visualize(\n",
        "#         batch, \n",
        "#         labels, \n",
        "#         how_many_to_show, \n",
        "#         class_indices = flow.class_indices,\n",
        "#         figsize=(10, 10)\n",
        "#     )"
      ]
    },
    {
      "cell_type": "markdown",
      "metadata": {
        "id": "iOqcasA-beFS"
      },
      "source": [
        "# Fitting models"
      ]
    },
    {
      "cell_type": "markdown",
      "metadata": {
        "id": "hgxk5YIzbeFT"
      },
      "source": [
        "## Prepare steps"
      ]
    },
    {
      "cell_type": "code",
      "execution_count": 223,
      "metadata": {
        "colab": {
          "base_uri": "https://localhost:8080/"
        },
        "id": "61IBSOH_beFT",
        "outputId": "054108c2-e359-457b-c941-4d63eb964272"
      },
      "outputs": [
        {
          "output_type": "stream",
          "name": "stdout",
          "text": [
            "Train steps: (642, 20)\n",
            "Val steps: (138, 4)\n"
          ]
        }
      ],
      "source": [
        "train_steps = train_flow.n // train_flow.batch_size\n",
        "validation_steps = val_flow.n // val_flow.batch_size\n",
        "test_steps = test_flow.n // test_flow.batch_size\n",
        "\n",
        "what_to_monitor = 'val_loss'\n",
        "validation_data = val_flow\n",
        "validation_steps = validation_steps\n",
        "\n",
        "early_stop = tf.keras.callbacks.EarlyStopping(\n",
        "    monitor = what_to_monitor,\n",
        "    patience = 2,  # 3\n",
        "    mode = 'auto',\n",
        "    restore_best_weights = True,\n",
        "    min_delta = 0.0007\n",
        ")\n",
        "\n",
        "print(f'Train steps: {train_flow.n, train_steps}')\n",
        "print(f'Val steps: {val_flow.n, validation_steps}')"
      ]
    },
    {
      "cell_type": "markdown",
      "metadata": {
        "id": "6dHNeeNkgehs"
      },
      "source": [
        "## FIXING BUG"
      ]
    },
    {
      "cell_type": "code",
      "execution_count": 224,
      "metadata": {
        "id": "QUdE7eZ0gehs"
      },
      "outputs": [],
      "source": [
        "# model = tf.keras.models.Sequential()\n",
        "# model.add(Conv2D(input_shape=(224,224,3),filters=64,kernel_size=(3,3),padding=\"same\", activation=\"relu\", kernel_initializer = 'he_normal'))\n",
        "# model.add(Conv2D(filters=64,kernel_size=(3,3),padding=\"same\", activation=\"relu\", kernel_initializer = 'he_normal'))\n",
        "# model.add(MaxPool2D(pool_size=(2,2),strides=(2,2)))\n",
        "# model.add(Conv2D(filters=128, kernel_size=(3,3), padding=\"same\", activation=\"relu\", kernel_initializer = 'he_normal'))\n",
        "# model.add(Conv2D(filters=128, kernel_size=(3,3), padding=\"same\", activation=\"relu\", kernel_initializer = 'he_normal'))\n",
        "# model.add(MaxPool2D(pool_size=(2,2),strides=(2,2)))\n",
        "# model.add(Conv2D(filters=256, kernel_size=(3,3), padding=\"same\", activation=\"relu\", kernel_initializer = 'he_normal'))\n",
        "# model.add(Conv2D(filters=256, kernel_size=(3,3), padding=\"same\", activation=\"relu\", kernel_initializer = 'he_normal'))\n",
        "# model.add(Conv2D(filters=256, kernel_size=(3,3), padding=\"same\", activation=\"relu\", kernel_initializer = 'he_normal'))\n",
        "# model.add(MaxPool2D(pool_size=(2,2),strides=(2,2)))\n",
        "# model.add(Conv2D(filters=512, kernel_size=(3,3), padding=\"same\", activation=\"relu\", kernel_initializer = 'he_normal'))\n",
        "# model.add(Conv2D(filters=512, kernel_size=(3,3), padding=\"same\", activation=\"relu\", kernel_initializer = 'he_normal'))\n",
        "# model.add(Conv2D(filters=512, kernel_size=(3,3), padding=\"same\", activation=\"relu\", kernel_initializer = 'he_normal'))\n",
        "# model.add(MaxPool2D(pool_size=(2,2),strides=(2,2)))\n",
        "# model.add(Conv2D(filters=512, kernel_size=(3,3), padding=\"same\", activation=\"relu\", kernel_initializer = 'he_normal'))\n",
        "# model.add(Conv2D(filters=512, kernel_size=(3,3), padding=\"same\", activation=\"relu\", kernel_initializer = 'he_normal'))\n",
        "# model.add(Conv2D(filters=512, kernel_size=(3,3), padding=\"same\", activation=\"relu\", kernel_initializer = 'he_normal'))\n",
        "# model.add(MaxPool2D(pool_size=(2,2),strides=(2,2)))\n",
        "# model.add(Flatten())\n",
        "\n",
        "# model.add(Dense(units=4096,activation=\"relu\"))\n",
        "# model.add(Dense(units=4096,activation=\"relu\"))\n",
        "# model.add(Dense(units=3, activation=\"softmax\"))"
      ]
    },
    {
      "cell_type": "code",
      "execution_count": 225,
      "metadata": {
        "id": "ozUQ_myygehs"
      },
      "outputs": [],
      "source": [
        "# model.compile(\n",
        "#     optimizer =  tf.keras.optimizers.Adam(learning_rate = 0.0001), #  tf.keras.optimizers.Adam(learning_rate = 0.001),  #  tf.keras.optimizers.Adam(learning_rate = 0.0001),  # tf.keras.optimizers.Adam(learning_rate = 0.01001), #  'adam',\n",
        "#     loss = 'sparse_categorical_crossentropy',  # tf.keras.losses.SparseCategoricalCrossentropy(from_logits = False),\n",
        "#     metrics = ['accuracy'] \n",
        "# )"
      ]
    },
    {
      "cell_type": "code",
      "execution_count": 226,
      "metadata": {
        "id": "QzOmhL7Vgehs"
      },
      "outputs": [],
      "source": [
        "# model.fit(\n",
        "#     train_flow,\n",
        "#     steps_per_epoch = train_steps,\n",
        "#     validation_data = val_flow,\n",
        "#     validation_steps = validation_steps,\n",
        "#     epochs = 50\n",
        "# )"
      ]
    },
    {
      "cell_type": "code",
      "execution_count": 227,
      "metadata": {
        "id": "x1RWfdtzn91w"
      },
      "outputs": [],
      "source": [
        "# model = tf.keras.models.Sequential()\n",
        "\n",
        "# model.add(tf.keras.layers.Conv2D(64, kernel_size = (3,3), padding = 'same', activation = 'relu', input_shape = (224, 224, 3), kernel_initializer = 'he_normal'))\n",
        "# model.add(tf.keras.layers.Conv2D(64, kernel_size = (3,3), padding = 'same', activation = 'relu', kernel_initializer = 'he_normal'))\n",
        "# model.add(tf.keras.layers.MaxPooling2D(pool_size = (2,2), strides = (2,2)))\n",
        "\n",
        "# model.add(tf.keras.layers.Conv2D(128, kernel_size = (3,3), padding = 'same', activation = 'relu', kernel_initializer = 'he_normal'))\n",
        "# model.add(tf.keras.layers.Conv2D(128, kernel_size = (3,3), padding = 'same', activation = 'relu', kernel_initializer = 'he_normal'))\n",
        "# model.add(tf.keras.layers.MaxPooling2D(pool_size = (2,2), strides = (2,2)))\n",
        "\n",
        "# model.add(tf.keras.layers.Conv2D(256, kernel_size = (3,3), padding = 'same', activation = 'relu', kernel_initializer = 'he_normal'))\n",
        "# model.add(tf.keras.layers.Conv2D(256, kernel_size = (3,3), padding = 'same', activation = 'relu', kernel_initializer = 'he_normal'))\n",
        "# model.add(tf.keras.layers.Conv2D(256, kernel_size = (3,3), padding = 'same', activation = 'relu', kernel_initializer = 'he_normal'))\n",
        "# model.add(tf.keras.layers.Conv2D(256, kernel_size = (3,3), padding = 'same', activation = 'relu', kernel_initializer = 'he_normal'))\n",
        "# model.add(tf.keras.layers.MaxPooling2D(pool_size = (2,2), strides = (2,2)))\n",
        "\n",
        "# model.add(tf.keras.layers.Conv2D(512, kernel_size = (3,3), padding = 'same', activation = 'relu', kernel_initializer = 'he_normal'))\n",
        "# model.add(tf.keras.layers.Conv2D(512, kernel_size = (3,3), padding = 'same', activation = 'relu', kernel_initializer = 'he_normal'))\n",
        "# model.add(tf.keras.layers.Conv2D(512, kernel_size = (3,3), padding = 'same', activation = 'relu', kernel_initializer = 'he_normal'))\n",
        "# model.add(tf.keras.layers.Conv2D(512, kernel_size = (3,3), padding = 'same', activation = 'relu', kernel_initializer = 'he_normal'))\n",
        "# model.add(tf.keras.layers.MaxPooling2D(pool_size = (2,2), strides = (2,2)))\n",
        "\n",
        "# model.add(tf.keras.layers.Conv2D(512, kernel_size = (3,3), padding = 'same', activation = 'relu', kernel_initializer = 'he_normal'))\n",
        "# model.add(tf.keras.layers.Conv2D(512, kernel_size = (3,3), padding = 'same', activation = 'relu', kernel_initializer = 'he_normal'))\n",
        "# model.add(tf.keras.layers.Conv2D(512, kernel_size = (3,3), padding = 'same', activation = 'relu', kernel_initializer = 'he_normal'))\n",
        "# model.add(tf.keras.layers.Conv2D(512, kernel_size = (3,3), padding = 'same', activation = 'relu', kernel_initializer = 'he_normal'))\n",
        "# model.add(tf.keras.layers.MaxPooling2D(pool_size = (2,2), strides = (2,2)))\n",
        "\n",
        "# model.add(tf.keras.layers.Flatten())\n",
        "# model.add(tf.keras.layers.Dense(4096, activation = 'relu'))\n",
        "# model.add(tf.keras.layers.Dropout(0.5))\n",
        "# model.add(tf.keras.layers.Dense(4096, activation = 'relu'))\n",
        "# model.add(tf.keras.layers.Dropout(0.5))\n",
        "# model.add(tf.keras.layers.Dense(3, activation = 'softmax'))"
      ]
    },
    {
      "cell_type": "code",
      "execution_count": 228,
      "metadata": {
        "id": "P1DkT1f5n91w"
      },
      "outputs": [],
      "source": [
        "# model.compile(\n",
        "#     optimizer =  tf.keras.optimizers.Adam(learning_rate = 0.0001), #  tf.keras.optimizers.Adam(learning_rate = 0.001),  #  tf.keras.optimizers.Adam(learning_rate = 0.0001),  # tf.keras.optimizers.Adam(learning_rate = 0.01001), #  'adam',\n",
        "#     loss = 'sparse_categorical_crossentropy',  # tf.keras.losses.SparseCategoricalCrossentropy(from_logits = False),\n",
        "#     metrics = ['accuracy'] \n",
        "# )"
      ]
    },
    {
      "cell_type": "code",
      "execution_count": 229,
      "metadata": {
        "id": "aJquwPDun91x"
      },
      "outputs": [],
      "source": [
        "# model.fit(\n",
        "#     train_flow,\n",
        "#     steps_per_epoch = train_steps,\n",
        "#     validation_data = val_flow,\n",
        "#     validation_steps = validation_steps,\n",
        "#     epochs = 50\n",
        "# )"
      ]
    },
    {
      "cell_type": "markdown",
      "metadata": {
        "id": "-bnGCuV4uFk1"
      },
      "source": [
        "## Get_models()"
      ]
    },
    {
      "cell_type": "code",
      "execution_count": 230,
      "metadata": {
        "id": "_mOKgACxtpUY"
      },
      "outputs": [],
      "source": [
        "def get_empty_models():\n",
        "    res = {\n",
        "        'CNN': CNNModel(name = 'CNN'),\n",
        "        'VGG19': VGG19Model(name = 'VGG19'),\n",
        "        'VGG16': VGG16Model(name = 'VGG16'),\n",
        "        'BN': BNModel(name = 'BN_CNN'),\n",
        "        'Dropout': DropoutModel(name = 'Dropout'),\n",
        "        'AlexNet': AlexNetModel(name = 'AlexNet'),\n",
        "        'Inception': InceptionModel(name = 'Inception'),\n",
        "        'ResNet': ResNetModel(name = 'ResNet')\n",
        "    }\n",
        "    return res\n",
        "    \n",
        "def construct_utils(model_name):\n",
        "    return ModelUtils(\n",
        "\n",
        "        model_params_dict = dict(**model_params),\n",
        "\n",
        "        checkpoint_params_dict = dict(\n",
        "            filepath = f'{DataProps.checkpoint_path}{model_name}/',\n",
        "            **checkpoint_params\n",
        "        ),\n",
        "\n",
        "        train_params_dict = dict(\n",
        "            **train_params\n",
        "        )\n",
        "    )\n",
        "\n",
        "def get_models(model_names):\n",
        "    empty_models = get_empty_models()\n",
        "    empty_model_names = list(empty_models.keys())\n",
        "    res = {}\n",
        "\n",
        "    for name in model_names:\n",
        "        assert name in empty_model_names\n",
        "        model = empty_models[name]\n",
        "        utils = construct_utils(name)\n",
        "\n",
        "        res.update(\n",
        "            {\n",
        "                name: {\n",
        "                    'model': model,\n",
        "                    'utils': utils\n",
        "                }\n",
        "            }\n",
        "        )\n",
        "    return res"
      ]
    },
    {
      "cell_type": "code",
      "execution_count": 231,
      "metadata": {
        "id": "HXtgTpGFtpUZ"
      },
      "outputs": [],
      "source": [
        "train_params = dict(\n",
        "    train_flow = train_flow,\n",
        "    train_steps = train_steps,\n",
        "\n",
        "    val_flow = validation_data,\n",
        "    val_steps = validation_steps,\n",
        "\n",
        "    epochs = epoch_hyperparam  # DatasetParameters.epochs\n",
        ")\n",
        "\n",
        "model_params = dict(\n",
        "    optimizer =  tf.keras.optimizers.SGD(learning_rate = 0.001), #  tf.keras.optimizers.SGD(learning_rate = 0.001),  #  tf.keras.optimizers.Adam(learning_rate = 0.0001),  # tf.keras.optimizers.Adam(learning_rate = 0.01001), #  'adam',\n",
        "    loss = 'sparse_categorical_crossentropy',  # tf.keras.losses.SparseCategoricalCrossentropy(from_logits = False),\n",
        "    metrics = ['acc'] \n",
        ")\n",
        "\n",
        "checkpoint_params = dict(\n",
        "    save_freq = 'epoch',\n",
        "    save_weights_only = True,\n",
        "    save_best_only = False,\n",
        "    verbose = 1\n",
        ")"
      ]
    },
    {
      "cell_type": "code",
      "execution_count": 232,
      "metadata": {
        "id": "AXoZOk-kbeFU"
      },
      "outputs": [],
      "source": [
        "models = get_models(names)"
      ]
    },
    {
      "cell_type": "code",
      "execution_count": 233,
      "metadata": {
        "id": "OWyWV1iXbeFT"
      },
      "outputs": [],
      "source": [
        "if using_gpu:\n",
        "    device_name = tf.test.gpu_device_name()\n",
        "    if device_name != '/device:GPU:0':\n",
        "        print(\n",
        "            '\\n\\nThis error most likely means that this notebook is not '\n",
        "            'configured to use a GPU.  Change this in Notebook Settings via the '\n",
        "            'command palette (cmd/ctrl-shift-P) or the Edit menu.\\n\\n')\n",
        "        raise SystemError('GPU device not found')"
      ]
    },
    {
      "cell_type": "markdown",
      "metadata": {
        "id": "pihTRQph6Ngl"
      },
      "source": [
        "## Summaries"
      ]
    },
    {
      "cell_type": "code",
      "execution_count": 234,
      "metadata": {
        "colab": {
          "base_uri": "https://localhost:8080/"
        },
        "id": "22sYCf0BQEjY",
        "outputId": "7ad7cc3e-a815-482c-b54f-72d78db4e4c4"
      },
      "outputs": [
        {
          "output_type": "stream",
          "name": "stdout",
          "text": [
            "\n",
            "Printing summary of Inception\n",
            "Model: \"Inceptionv4\"\n",
            "__________________________________________________________________________________________________\n",
            " Layer (type)                   Output Shape         Param #     Connected to                     \n",
            "==================================================================================================\n",
            " input_11 (InputLayer)          [(None, 300, 300, 3  0           []                               \n",
            "                                )]                                                                \n",
            "                                                                                                  \n",
            " conv_stem_1th (Conv2D)         (None, 149, 149, 32  896         ['input_11[0][0]']               \n",
            "                                )                                                                 \n",
            "                                                                                                  \n",
            " bn_stem_1th (BatchNormalizatio  (None, 149, 149, 32  128        ['conv_stem_1th[0][0]']          \n",
            " n)                             )                                                                 \n",
            "                                                                                                  \n",
            " activation_690 (Activation)    (None, 149, 149, 32  0           ['bn_stem_1th[0][0]']            \n",
            "                                )                                                                 \n",
            "                                                                                                  \n",
            " conv_stem_2nd (Conv2D)         (None, 147, 147, 32  9248        ['activation_690[0][0]']         \n",
            "                                )                                                                 \n",
            "                                                                                                  \n",
            " bn_stem_2nd (BatchNormalizatio  (None, 147, 147, 32  128        ['conv_stem_2nd[0][0]']          \n",
            " n)                             )                                                                 \n",
            "                                                                                                  \n",
            " activation_691 (Activation)    (None, 147, 147, 32  0           ['bn_stem_2nd[0][0]']            \n",
            "                                )                                                                 \n",
            "                                                                                                  \n",
            " conv_stem_3rd (Conv2D)         (None, 147, 147, 64  18496       ['activation_691[0][0]']         \n",
            "                                )                                                                 \n",
            "                                                                                                  \n",
            " bn_stem_3rd (BatchNormalizatio  (None, 147, 147, 64  256        ['conv_stem_3rd[0][0]']          \n",
            " n)                             )                                                                 \n",
            "                                                                                                  \n",
            " activation_692 (Activation)    (None, 147, 147, 64  0           ['bn_stem_3rd[0][0]']            \n",
            "                                )                                                                 \n",
            "                                                                                                  \n",
            " conv_stem_1stbranch_2 (Conv2D)  (None, 73, 73, 96)  55392       ['activation_692[0][0]']         \n",
            "                                                                                                  \n",
            " bn_stem_1stbranch_2 (BatchNorm  (None, 73, 73, 96)  384         ['conv_stem_1stbranch_2[0][0]']  \n",
            " alization)                                                                                       \n",
            "                                                                                                  \n",
            " stem_1stbranch_1 (MaxPooling2D  (None, 73, 73, 64)  0           ['activation_692[0][0]']         \n",
            " )                                                                                                \n",
            "                                                                                                  \n",
            " activation_693 (Activation)    (None, 73, 73, 96)   0           ['bn_stem_1stbranch_2[0][0]']    \n",
            "                                                                                                  \n",
            " tf.concat_38 (TFOpLambda)      (None, 73, 73, 160)  0           ['stem_1stbranch_1[0][0]',       \n",
            "                                                                  'activation_693[0][0]']         \n",
            "                                                                                                  \n",
            " conv_stem_2ndbranch_2_1 (Conv2  (None, 73, 73, 64)  10304       ['tf.concat_38[0][0]']           \n",
            " D)                                                                                               \n",
            "                                                                                                  \n",
            " bn_stem_2ndbranch_2_1 (BatchNo  (None, 73, 73, 64)  256         ['conv_stem_2ndbranch_2_1[0][0]']\n",
            " rmalization)                                                                                     \n",
            "                                                                                                  \n",
            " activation_696 (Activation)    (None, 73, 73, 64)   0           ['bn_stem_2ndbranch_2_1[0][0]']  \n",
            "                                                                                                  \n",
            " conv_stem_2ndbranch_2_2 (Conv2  (None, 73, 73, 64)  28736       ['activation_696[0][0]']         \n",
            " D)                                                                                               \n",
            "                                                                                                  \n",
            " bn_stem_2ndbranch_2_2 (BatchNo  (None, 73, 73, 64)  256         ['conv_stem_2ndbranch_2_2[0][0]']\n",
            " rmalization)                                                                                     \n",
            "                                                                                                  \n",
            " activation_697 (Activation)    (None, 73, 73, 64)   0           ['bn_stem_2ndbranch_2_2[0][0]']  \n",
            "                                                                                                  \n",
            " conv_stem_2ndbranch_1_1 (Conv2  (None, 73, 73, 64)  10304       ['tf.concat_38[0][0]']           \n",
            " D)                                                                                               \n",
            "                                                                                                  \n",
            " conv_stem_2ndbranch_2_3 (Conv2  (None, 73, 73, 64)  28736       ['activation_697[0][0]']         \n",
            " D)                                                                                               \n",
            "                                                                                                  \n",
            " bn_stem_2ndbranch_1_1 (BatchNo  (None, 73, 73, 64)  256         ['conv_stem_2ndbranch_1_1[0][0]']\n",
            " rmalization)                                                                                     \n",
            "                                                                                                  \n",
            " bn_stem_2ndbranch_2_3 (BatchNo  (None, 73, 73, 64)  256         ['conv_stem_2ndbranch_2_3[0][0]']\n",
            " rmalization)                                                                                     \n",
            "                                                                                                  \n",
            " activation_694 (Activation)    (None, 73, 73, 64)   0           ['bn_stem_2ndbranch_1_1[0][0]']  \n",
            "                                                                                                  \n",
            " activation_698 (Activation)    (None, 73, 73, 64)   0           ['bn_stem_2ndbranch_2_3[0][0]']  \n",
            "                                                                                                  \n",
            " conv_stem_2ndbranch_1_2 (Conv2  (None, 71, 71, 96)  55392       ['activation_694[0][0]']         \n",
            " D)                                                                                               \n",
            "                                                                                                  \n",
            " conv_stem_2ndbranch_2_4 (Conv2  (None, 71, 71, 96)  55392       ['activation_698[0][0]']         \n",
            " D)                                                                                               \n",
            "                                                                                                  \n",
            " bn_stem_2ndbranch_1_2 (BatchNo  (None, 71, 71, 96)  384         ['conv_stem_2ndbranch_1_2[0][0]']\n",
            " rmalization)                                                                                     \n",
            "                                                                                                  \n",
            " bn_stem_2ndbranch_2_4 (BatchNo  (None, 71, 71, 96)  384         ['conv_stem_2ndbranch_2_4[0][0]']\n",
            " rmalization)                                                                                     \n",
            "                                                                                                  \n",
            " activation_695 (Activation)    (None, 71, 71, 96)   0           ['bn_stem_2ndbranch_1_2[0][0]']  \n",
            "                                                                                                  \n",
            " activation_699 (Activation)    (None, 71, 71, 96)   0           ['bn_stem_2ndbranch_2_4[0][0]']  \n",
            "                                                                                                  \n",
            " tf.concat_39 (TFOpLambda)      (None, 71, 71, 192)  0           ['activation_695[0][0]',         \n",
            "                                                                  'activation_699[0][0]']         \n",
            "                                                                                                  \n",
            " conv_stem_3rdbranch_1 (Conv2D)  (None, 35, 35, 192)  331968     ['tf.concat_39[0][0]']           \n",
            "                                                                                                  \n",
            " bn_stem_3rdbranch_1 (BatchNorm  (None, 35, 35, 192)  768        ['conv_stem_3rdbranch_1[0][0]']  \n",
            " alization)                                                                                       \n",
            "                                                                                                  \n",
            " activation_700 (Activation)    (None, 35, 35, 192)  0           ['bn_stem_3rdbranch_1[0][0]']    \n",
            "                                                                                                  \n",
            " stem_3rdbranch_2 (MaxPooling2D  (None, 35, 35, 192)  0          ['tf.concat_39[0][0]']           \n",
            " )                                                                                                \n",
            "                                                                                                  \n",
            " tf.concat_40 (TFOpLambda)      (None, 35, 35, 384)  0           ['activation_700[0][0]',         \n",
            "                                                                  'stem_3rdbranch_2[0][0]']       \n",
            "                                                                                                  \n",
            " conv_a1ia_branch_4_1 (Conv2D)  (None, 35, 35, 64)   24640       ['tf.concat_40[0][0]']           \n",
            "                                                                                                  \n",
            " bn_a1ia_branch_4_1 (BatchNorma  (None, 35, 35, 64)  256         ['conv_a1ia_branch_4_1[0][0]']   \n",
            " lization)                                                                                        \n",
            "                                                                                                  \n",
            " activation_705 (Activation)    (None, 35, 35, 64)   0           ['bn_a1ia_branch_4_1[0][0]']     \n",
            "                                                                                                  \n",
            " conv_a1ia_branch_3_1 (Conv2D)  (None, 35, 35, 64)   24640       ['tf.concat_40[0][0]']           \n",
            "                                                                                                  \n",
            " conv_a1ia_branch_4_2 (Conv2D)  (None, 35, 35, 96)   55392       ['activation_705[0][0]']         \n",
            "                                                                                                  \n",
            " bn_a1ia_branch_3_1 (BatchNorma  (None, 35, 35, 64)  256         ['conv_a1ia_branch_3_1[0][0]']   \n",
            " lization)                                                                                        \n",
            "                                                                                                  \n",
            " bn_a1ia_branch_4_2 (BatchNorma  (None, 35, 35, 96)  384         ['conv_a1ia_branch_4_2[0][0]']   \n",
            " lization)                                                                                        \n",
            "                                                                                                  \n",
            " a1ia_branch_1_1 (AveragePoolin  (None, 35, 35, 384)  0          ['tf.concat_40[0][0]']           \n",
            " g2D)                                                                                             \n",
            "                                                                                                  \n",
            " activation_703 (Activation)    (None, 35, 35, 64)   0           ['bn_a1ia_branch_3_1[0][0]']     \n",
            "                                                                                                  \n",
            " activation_706 (Activation)    (None, 35, 35, 96)   0           ['bn_a1ia_branch_4_2[0][0]']     \n",
            "                                                                                                  \n",
            " conv_a1ia_branch_1_2 (Conv2D)  (None, 35, 35, 96)   36960       ['a1ia_branch_1_1[0][0]']        \n",
            "                                                                                                  \n",
            " conv_a1ia_branch_2_1 (Conv2D)  (None, 35, 35, 96)   36960       ['tf.concat_40[0][0]']           \n",
            "                                                                                                  \n",
            " conv_a1ia_branch_3_2 (Conv2D)  (None, 35, 35, 96)   55392       ['activation_703[0][0]']         \n",
            "                                                                                                  \n",
            " conv_a1ia_branch_4_3 (Conv2D)  (None, 35, 35, 96)   83040       ['activation_706[0][0]']         \n",
            "                                                                                                  \n",
            " bn_a1ia_branch_1_2 (BatchNorma  (None, 35, 35, 96)  384         ['conv_a1ia_branch_1_2[0][0]']   \n",
            " lization)                                                                                        \n",
            "                                                                                                  \n",
            " bn_a1ia_branch_2_1 (BatchNorma  (None, 35, 35, 96)  384         ['conv_a1ia_branch_2_1[0][0]']   \n",
            " lization)                                                                                        \n",
            "                                                                                                  \n",
            " bn_a1ia_branch_3_2 (BatchNorma  (None, 35, 35, 96)  384         ['conv_a1ia_branch_3_2[0][0]']   \n",
            " lization)                                                                                        \n",
            "                                                                                                  \n",
            " bn_a1ia_branch_4_3 (BatchNorma  (None, 35, 35, 96)  384         ['conv_a1ia_branch_4_3[0][0]']   \n",
            " lization)                                                                                        \n",
            "                                                                                                  \n",
            " activation_701 (Activation)    (None, 35, 35, 96)   0           ['bn_a1ia_branch_1_2[0][0]']     \n",
            "                                                                                                  \n",
            " activation_702 (Activation)    (None, 35, 35, 96)   0           ['bn_a1ia_branch_2_1[0][0]']     \n",
            "                                                                                                  \n",
            " activation_704 (Activation)    (None, 35, 35, 96)   0           ['bn_a1ia_branch_3_2[0][0]']     \n",
            "                                                                                                  \n",
            " activation_707 (Activation)    (None, 35, 35, 96)   0           ['bn_a1ia_branch_4_3[0][0]']     \n",
            "                                                                                                  \n",
            " tf.concat_41 (TFOpLambda)      (None, 35, 35, 384)  0           ['activation_701[0][0]',         \n",
            "                                                                  'activation_702[0][0]',         \n",
            "                                                                  'activation_704[0][0]',         \n",
            "                                                                  'activation_707[0][0]']         \n",
            "                                                                                                  \n",
            " conv_a2ia_branch_4_1 (Conv2D)  (None, 35, 35, 64)   24640       ['tf.concat_41[0][0]']           \n",
            "                                                                                                  \n",
            " bn_a2ia_branch_4_1 (BatchNorma  (None, 35, 35, 64)  256         ['conv_a2ia_branch_4_1[0][0]']   \n",
            " lization)                                                                                        \n",
            "                                                                                                  \n",
            " activation_712 (Activation)    (None, 35, 35, 64)   0           ['bn_a2ia_branch_4_1[0][0]']     \n",
            "                                                                                                  \n",
            " conv_a2ia_branch_3_1 (Conv2D)  (None, 35, 35, 64)   24640       ['tf.concat_41[0][0]']           \n",
            "                                                                                                  \n",
            " conv_a2ia_branch_4_2 (Conv2D)  (None, 35, 35, 96)   55392       ['activation_712[0][0]']         \n",
            "                                                                                                  \n",
            " bn_a2ia_branch_3_1 (BatchNorma  (None, 35, 35, 64)  256         ['conv_a2ia_branch_3_1[0][0]']   \n",
            " lization)                                                                                        \n",
            "                                                                                                  \n",
            " bn_a2ia_branch_4_2 (BatchNorma  (None, 35, 35, 96)  384         ['conv_a2ia_branch_4_2[0][0]']   \n",
            " lization)                                                                                        \n",
            "                                                                                                  \n",
            " a2ia_branch_1_1 (AveragePoolin  (None, 35, 35, 384)  0          ['tf.concat_41[0][0]']           \n",
            " g2D)                                                                                             \n",
            "                                                                                                  \n",
            " activation_710 (Activation)    (None, 35, 35, 64)   0           ['bn_a2ia_branch_3_1[0][0]']     \n",
            "                                                                                                  \n",
            " activation_713 (Activation)    (None, 35, 35, 96)   0           ['bn_a2ia_branch_4_2[0][0]']     \n",
            "                                                                                                  \n",
            " conv_a2ia_branch_1_2 (Conv2D)  (None, 35, 35, 96)   36960       ['a2ia_branch_1_1[0][0]']        \n",
            "                                                                                                  \n",
            " conv_a2ia_branch_2_1 (Conv2D)  (None, 35, 35, 96)   36960       ['tf.concat_41[0][0]']           \n",
            "                                                                                                  \n",
            " conv_a2ia_branch_3_2 (Conv2D)  (None, 35, 35, 96)   55392       ['activation_710[0][0]']         \n",
            "                                                                                                  \n",
            " conv_a2ia_branch_4_3 (Conv2D)  (None, 35, 35, 96)   83040       ['activation_713[0][0]']         \n",
            "                                                                                                  \n",
            " bn_a2ia_branch_1_2 (BatchNorma  (None, 35, 35, 96)  384         ['conv_a2ia_branch_1_2[0][0]']   \n",
            " lization)                                                                                        \n",
            "                                                                                                  \n",
            " bn_a2ia_branch_2_1 (BatchNorma  (None, 35, 35, 96)  384         ['conv_a2ia_branch_2_1[0][0]']   \n",
            " lization)                                                                                        \n",
            "                                                                                                  \n",
            " bn_a2ia_branch_3_2 (BatchNorma  (None, 35, 35, 96)  384         ['conv_a2ia_branch_3_2[0][0]']   \n",
            " lization)                                                                                        \n",
            "                                                                                                  \n",
            " bn_a2ia_branch_4_3 (BatchNorma  (None, 35, 35, 96)  384         ['conv_a2ia_branch_4_3[0][0]']   \n",
            " lization)                                                                                        \n",
            "                                                                                                  \n",
            " activation_708 (Activation)    (None, 35, 35, 96)   0           ['bn_a2ia_branch_1_2[0][0]']     \n",
            "                                                                                                  \n",
            " activation_709 (Activation)    (None, 35, 35, 96)   0           ['bn_a2ia_branch_2_1[0][0]']     \n",
            "                                                                                                  \n",
            " activation_711 (Activation)    (None, 35, 35, 96)   0           ['bn_a2ia_branch_3_2[0][0]']     \n",
            "                                                                                                  \n",
            " activation_714 (Activation)    (None, 35, 35, 96)   0           ['bn_a2ia_branch_4_3[0][0]']     \n",
            "                                                                                                  \n",
            " tf.concat_42 (TFOpLambda)      (None, 35, 35, 384)  0           ['activation_708[0][0]',         \n",
            "                                                                  'activation_709[0][0]',         \n",
            "                                                                  'activation_711[0][0]',         \n",
            "                                                                  'activation_714[0][0]']         \n",
            "                                                                                                  \n",
            " conv_a3ia_branch_4_1 (Conv2D)  (None, 35, 35, 64)   24640       ['tf.concat_42[0][0]']           \n",
            "                                                                                                  \n",
            " bn_a3ia_branch_4_1 (BatchNorma  (None, 35, 35, 64)  256         ['conv_a3ia_branch_4_1[0][0]']   \n",
            " lization)                                                                                        \n",
            "                                                                                                  \n",
            " activation_719 (Activation)    (None, 35, 35, 64)   0           ['bn_a3ia_branch_4_1[0][0]']     \n",
            "                                                                                                  \n",
            " conv_a3ia_branch_3_1 (Conv2D)  (None, 35, 35, 64)   24640       ['tf.concat_42[0][0]']           \n",
            "                                                                                                  \n",
            " conv_a3ia_branch_4_2 (Conv2D)  (None, 35, 35, 96)   55392       ['activation_719[0][0]']         \n",
            "                                                                                                  \n",
            " bn_a3ia_branch_3_1 (BatchNorma  (None, 35, 35, 64)  256         ['conv_a3ia_branch_3_1[0][0]']   \n",
            " lization)                                                                                        \n",
            "                                                                                                  \n",
            " bn_a3ia_branch_4_2 (BatchNorma  (None, 35, 35, 96)  384         ['conv_a3ia_branch_4_2[0][0]']   \n",
            " lization)                                                                                        \n",
            "                                                                                                  \n",
            " a3ia_branch_1_1 (AveragePoolin  (None, 35, 35, 384)  0          ['tf.concat_42[0][0]']           \n",
            " g2D)                                                                                             \n",
            "                                                                                                  \n",
            " activation_717 (Activation)    (None, 35, 35, 64)   0           ['bn_a3ia_branch_3_1[0][0]']     \n",
            "                                                                                                  \n",
            " activation_720 (Activation)    (None, 35, 35, 96)   0           ['bn_a3ia_branch_4_2[0][0]']     \n",
            "                                                                                                  \n",
            " conv_a3ia_branch_1_2 (Conv2D)  (None, 35, 35, 96)   36960       ['a3ia_branch_1_1[0][0]']        \n",
            "                                                                                                  \n",
            " conv_a3ia_branch_2_1 (Conv2D)  (None, 35, 35, 96)   36960       ['tf.concat_42[0][0]']           \n",
            "                                                                                                  \n",
            " conv_a3ia_branch_3_2 (Conv2D)  (None, 35, 35, 96)   55392       ['activation_717[0][0]']         \n",
            "                                                                                                  \n",
            " conv_a3ia_branch_4_3 (Conv2D)  (None, 35, 35, 96)   83040       ['activation_720[0][0]']         \n",
            "                                                                                                  \n",
            " bn_a3ia_branch_1_2 (BatchNorma  (None, 35, 35, 96)  384         ['conv_a3ia_branch_1_2[0][0]']   \n",
            " lization)                                                                                        \n",
            "                                                                                                  \n",
            " bn_a3ia_branch_2_1 (BatchNorma  (None, 35, 35, 96)  384         ['conv_a3ia_branch_2_1[0][0]']   \n",
            " lization)                                                                                        \n",
            "                                                                                                  \n",
            " bn_a3ia_branch_3_2 (BatchNorma  (None, 35, 35, 96)  384         ['conv_a3ia_branch_3_2[0][0]']   \n",
            " lization)                                                                                        \n",
            "                                                                                                  \n",
            " bn_a3ia_branch_4_3 (BatchNorma  (None, 35, 35, 96)  384         ['conv_a3ia_branch_4_3[0][0]']   \n",
            " lization)                                                                                        \n",
            "                                                                                                  \n",
            " activation_715 (Activation)    (None, 35, 35, 96)   0           ['bn_a3ia_branch_1_2[0][0]']     \n",
            "                                                                                                  \n",
            " activation_716 (Activation)    (None, 35, 35, 96)   0           ['bn_a3ia_branch_2_1[0][0]']     \n",
            "                                                                                                  \n",
            " activation_718 (Activation)    (None, 35, 35, 96)   0           ['bn_a3ia_branch_3_2[0][0]']     \n",
            "                                                                                                  \n",
            " activation_721 (Activation)    (None, 35, 35, 96)   0           ['bn_a3ia_branch_4_3[0][0]']     \n",
            "                                                                                                  \n",
            " tf.concat_43 (TFOpLambda)      (None, 35, 35, 384)  0           ['activation_715[0][0]',         \n",
            "                                                                  'activation_716[0][0]',         \n",
            "                                                                  'activation_718[0][0]',         \n",
            "                                                                  'activation_721[0][0]']         \n",
            "                                                                                                  \n",
            " conv_a4ia_branch_4_1 (Conv2D)  (None, 35, 35, 64)   24640       ['tf.concat_43[0][0]']           \n",
            "                                                                                                  \n",
            " bn_a4ia_branch_4_1 (BatchNorma  (None, 35, 35, 64)  256         ['conv_a4ia_branch_4_1[0][0]']   \n",
            " lization)                                                                                        \n",
            "                                                                                                  \n",
            " activation_726 (Activation)    (None, 35, 35, 64)   0           ['bn_a4ia_branch_4_1[0][0]']     \n",
            "                                                                                                  \n",
            " conv_a4ia_branch_3_1 (Conv2D)  (None, 35, 35, 64)   24640       ['tf.concat_43[0][0]']           \n",
            "                                                                                                  \n",
            " conv_a4ia_branch_4_2 (Conv2D)  (None, 35, 35, 96)   55392       ['activation_726[0][0]']         \n",
            "                                                                                                  \n",
            " bn_a4ia_branch_3_1 (BatchNorma  (None, 35, 35, 64)  256         ['conv_a4ia_branch_3_1[0][0]']   \n",
            " lization)                                                                                        \n",
            "                                                                                                  \n",
            " bn_a4ia_branch_4_2 (BatchNorma  (None, 35, 35, 96)  384         ['conv_a4ia_branch_4_2[0][0]']   \n",
            " lization)                                                                                        \n",
            "                                                                                                  \n",
            " a4ia_branch_1_1 (AveragePoolin  (None, 35, 35, 384)  0          ['tf.concat_43[0][0]']           \n",
            " g2D)                                                                                             \n",
            "                                                                                                  \n",
            " activation_724 (Activation)    (None, 35, 35, 64)   0           ['bn_a4ia_branch_3_1[0][0]']     \n",
            "                                                                                                  \n",
            " activation_727 (Activation)    (None, 35, 35, 96)   0           ['bn_a4ia_branch_4_2[0][0]']     \n",
            "                                                                                                  \n",
            " conv_a4ia_branch_1_2 (Conv2D)  (None, 35, 35, 96)   36960       ['a4ia_branch_1_1[0][0]']        \n",
            "                                                                                                  \n",
            " conv_a4ia_branch_2_1 (Conv2D)  (None, 35, 35, 96)   36960       ['tf.concat_43[0][0]']           \n",
            "                                                                                                  \n",
            " conv_a4ia_branch_3_2 (Conv2D)  (None, 35, 35, 96)   55392       ['activation_724[0][0]']         \n",
            "                                                                                                  \n",
            " conv_a4ia_branch_4_3 (Conv2D)  (None, 35, 35, 96)   83040       ['activation_727[0][0]']         \n",
            "                                                                                                  \n",
            " bn_a4ia_branch_1_2 (BatchNorma  (None, 35, 35, 96)  384         ['conv_a4ia_branch_1_2[0][0]']   \n",
            " lization)                                                                                        \n",
            "                                                                                                  \n",
            " bn_a4ia_branch_2_1 (BatchNorma  (None, 35, 35, 96)  384         ['conv_a4ia_branch_2_1[0][0]']   \n",
            " lization)                                                                                        \n",
            "                                                                                                  \n",
            " bn_a4ia_branch_3_2 (BatchNorma  (None, 35, 35, 96)  384         ['conv_a4ia_branch_3_2[0][0]']   \n",
            " lization)                                                                                        \n",
            "                                                                                                  \n",
            " bn_a4ia_branch_4_3 (BatchNorma  (None, 35, 35, 96)  384         ['conv_a4ia_branch_4_3[0][0]']   \n",
            " lization)                                                                                        \n",
            "                                                                                                  \n",
            " activation_722 (Activation)    (None, 35, 35, 96)   0           ['bn_a4ia_branch_1_2[0][0]']     \n",
            "                                                                                                  \n",
            " activation_723 (Activation)    (None, 35, 35, 96)   0           ['bn_a4ia_branch_2_1[0][0]']     \n",
            "                                                                                                  \n",
            " activation_725 (Activation)    (None, 35, 35, 96)   0           ['bn_a4ia_branch_3_2[0][0]']     \n",
            "                                                                                                  \n",
            " activation_728 (Activation)    (None, 35, 35, 96)   0           ['bn_a4ia_branch_4_3[0][0]']     \n",
            "                                                                                                  \n",
            " tf.concat_44 (TFOpLambda)      (None, 35, 35, 384)  0           ['activation_722[0][0]',         \n",
            "                                                                  'activation_723[0][0]',         \n",
            "                                                                  'activation_725[0][0]',         \n",
            "                                                                  'activation_728[0][0]']         \n",
            "                                                                                                  \n",
            " conv_ra_branch_3_1 (Conv2D)    (None, 35, 35, 192)  73920       ['tf.concat_44[0][0]']           \n",
            "                                                                                                  \n",
            " bn_ra_branch_3_1 (BatchNormali  (None, 35, 35, 192)  768        ['conv_ra_branch_3_1[0][0]']     \n",
            " zation)                                                                                          \n",
            "                                                                                                  \n",
            " activation_730 (Activation)    (None, 35, 35, 192)  0           ['bn_ra_branch_3_1[0][0]']       \n",
            "                                                                                                  \n",
            " conv_ra_branch_3_2 (Conv2D)    (None, 35, 35, 224)  387296      ['activation_730[0][0]']         \n",
            "                                                                                                  \n",
            " bn_ra_branch_3_2 (BatchNormali  (None, 35, 35, 224)  896        ['conv_ra_branch_3_2[0][0]']     \n",
            " zation)                                                                                          \n",
            "                                                                                                  \n",
            " activation_731 (Activation)    (None, 35, 35, 224)  0           ['bn_ra_branch_3_2[0][0]']       \n",
            "                                                                                                  \n",
            " conv_ra_branch_2_1 (Conv2D)    (None, 17, 17, 384)  1327488     ['tf.concat_44[0][0]']           \n",
            "                                                                                                  \n",
            " conv_ra_branch_3_3 (Conv2D)    (None, 17, 17, 256)  516352      ['activation_731[0][0]']         \n",
            "                                                                                                  \n",
            " bn_ra_branch_2_1 (BatchNormali  (None, 17, 17, 384)  1536       ['conv_ra_branch_2_1[0][0]']     \n",
            " zation)                                                                                          \n",
            "                                                                                                  \n",
            " bn_ra_branch_3_3 (BatchNormali  (None, 17, 17, 256)  1024       ['conv_ra_branch_3_3[0][0]']     \n",
            " zation)                                                                                          \n",
            "                                                                                                  \n",
            " ra_branch_1_1 (MaxPooling2D)   (None, 17, 17, 384)  0           ['tf.concat_44[0][0]']           \n",
            "                                                                                                  \n",
            " activation_729 (Activation)    (None, 17, 17, 384)  0           ['bn_ra_branch_2_1[0][0]']       \n",
            "                                                                                                  \n",
            " activation_732 (Activation)    (None, 17, 17, 256)  0           ['bn_ra_branch_3_3[0][0]']       \n",
            "                                                                                                  \n",
            " tf.concat_45 (TFOpLambda)      (None, 17, 17, 1024  0           ['ra_branch_1_1[0][0]',          \n",
            "                                )                                 'activation_729[0][0]',         \n",
            "                                                                  'activation_732[0][0]']         \n",
            "                                                                                                  \n",
            " conv_b1ib_branch_4_1 (Conv2D)  (None, 17, 17, 192)  196800      ['tf.concat_45[0][0]']           \n",
            "                                                                                                  \n",
            " bn_b1ib_branch_4_1 (BatchNorma  (None, 17, 17, 192)  768        ['conv_b1ib_branch_4_1[0][0]']   \n",
            " lization)                                                                                        \n",
            "                                                                                                  \n",
            " activation_738 (Activation)    (None, 17, 17, 192)  0           ['bn_b1ib_branch_4_1[0][0]']     \n",
            "                                                                                                  \n",
            " conv_b1ib_branch_4_2 (Conv2D)  (None, 17, 17, 192)  258240      ['activation_738[0][0]']         \n",
            "                                                                                                  \n",
            " bn_b1ib_branch_4_2 (BatchNorma  (None, 17, 17, 192)  768        ['conv_b1ib_branch_4_2[0][0]']   \n",
            " lization)                                                                                        \n",
            "                                                                                                  \n",
            " activation_739 (Activation)    (None, 17, 17, 192)  0           ['bn_b1ib_branch_4_2[0][0]']     \n",
            "                                                                                                  \n",
            " conv_b1ib_branch_3_1 (Conv2D)  (None, 17, 17, 192)  196800      ['tf.concat_45[0][0]']           \n",
            "                                                                                                  \n",
            " conv_b1ib_branch_4_3 (Conv2D)  (None, 17, 17, 224)  301280      ['activation_739[0][0]']         \n",
            "                                                                                                  \n",
            " bn_b1ib_branch_3_1 (BatchNorma  (None, 17, 17, 192)  768        ['conv_b1ib_branch_3_1[0][0]']   \n",
            " lization)                                                                                        \n",
            "                                                                                                  \n",
            " bn_b1ib_branch_4_3 (BatchNorma  (None, 17, 17, 224)  896        ['conv_b1ib_branch_4_3[0][0]']   \n",
            " lization)                                                                                        \n",
            "                                                                                                  \n",
            " activation_735 (Activation)    (None, 17, 17, 192)  0           ['bn_b1ib_branch_3_1[0][0]']     \n",
            "                                                                                                  \n",
            " activation_740 (Activation)    (None, 17, 17, 224)  0           ['bn_b1ib_branch_4_3[0][0]']     \n",
            "                                                                                                  \n",
            " conv_b1ib_branch_3_2 (Conv2D)  (None, 17, 17, 224)  301280      ['activation_735[0][0]']         \n",
            "                                                                                                  \n",
            " conv_b1ib_branch_4_4 (Conv2D)  (None, 17, 17, 224)  351456      ['activation_740[0][0]']         \n",
            "                                                                                                  \n",
            " bn_b1ib_branch_3_2 (BatchNorma  (None, 17, 17, 224)  896        ['conv_b1ib_branch_3_2[0][0]']   \n",
            " lization)                                                                                        \n",
            "                                                                                                  \n",
            " bn_b1ib_branch_4_4 (BatchNorma  (None, 17, 17, 224)  896        ['conv_b1ib_branch_4_4[0][0]']   \n",
            " lization)                                                                                        \n",
            "                                                                                                  \n",
            " b1ib_branch_1_1 (AveragePoolin  (None, 17, 17, 1024  0          ['tf.concat_45[0][0]']           \n",
            " g2D)                           )                                                                 \n",
            "                                                                                                  \n",
            " activation_736 (Activation)    (None, 17, 17, 224)  0           ['bn_b1ib_branch_3_2[0][0]']     \n",
            "                                                                                                  \n",
            " activation_741 (Activation)    (None, 17, 17, 224)  0           ['bn_b1ib_branch_4_4[0][0]']     \n",
            "                                                                                                  \n",
            " conv_b1ib_branch_1_2 (Conv2D)  (None, 17, 17, 128)  131200      ['b1ib_branch_1_1[0][0]']        \n",
            "                                                                                                  \n",
            " conv_b1ib_branch_2_1 (Conv2D)  (None, 17, 17, 384)  393600      ['tf.concat_45[0][0]']           \n",
            "                                                                                                  \n",
            " conv_b1ib_branch_3_3 (Conv2D)  (None, 17, 17, 256)  401664      ['activation_736[0][0]']         \n",
            "                                                                                                  \n",
            " conv_b1ib_branch_4_5 (Conv2D)  (None, 17, 17, 256)  401664      ['activation_741[0][0]']         \n",
            "                                                                                                  \n",
            " bn_b1ib_branch_1_2 (BatchNorma  (None, 17, 17, 128)  512        ['conv_b1ib_branch_1_2[0][0]']   \n",
            " lization)                                                                                        \n",
            "                                                                                                  \n",
            " bn_b1ib_branch_2_1 (BatchNorma  (None, 17, 17, 384)  1536       ['conv_b1ib_branch_2_1[0][0]']   \n",
            " lization)                                                                                        \n",
            "                                                                                                  \n",
            " bn_b1ib_branch_3_3 (BatchNorma  (None, 17, 17, 256)  1024       ['conv_b1ib_branch_3_3[0][0]']   \n",
            " lization)                                                                                        \n",
            "                                                                                                  \n",
            " bn_b1ib_branch_4_5 (BatchNorma  (None, 17, 17, 256)  1024       ['conv_b1ib_branch_4_5[0][0]']   \n",
            " lization)                                                                                        \n",
            "                                                                                                  \n",
            " activation_733 (Activation)    (None, 17, 17, 128)  0           ['bn_b1ib_branch_1_2[0][0]']     \n",
            "                                                                                                  \n",
            " activation_734 (Activation)    (None, 17, 17, 384)  0           ['bn_b1ib_branch_2_1[0][0]']     \n",
            "                                                                                                  \n",
            " activation_737 (Activation)    (None, 17, 17, 256)  0           ['bn_b1ib_branch_3_3[0][0]']     \n",
            "                                                                                                  \n",
            " activation_742 (Activation)    (None, 17, 17, 256)  0           ['bn_b1ib_branch_4_5[0][0]']     \n",
            "                                                                                                  \n",
            " tf.concat_46 (TFOpLambda)      (None, 17, 17, 1024  0           ['activation_733[0][0]',         \n",
            "                                )                                 'activation_734[0][0]',         \n",
            "                                                                  'activation_737[0][0]',         \n",
            "                                                                  'activation_742[0][0]']         \n",
            "                                                                                                  \n",
            " conv_b2ib_branch_4_1 (Conv2D)  (None, 17, 17, 192)  196800      ['tf.concat_46[0][0]']           \n",
            "                                                                                                  \n",
            " bn_b2ib_branch_4_1 (BatchNorma  (None, 17, 17, 192)  768        ['conv_b2ib_branch_4_1[0][0]']   \n",
            " lization)                                                                                        \n",
            "                                                                                                  \n",
            " activation_748 (Activation)    (None, 17, 17, 192)  0           ['bn_b2ib_branch_4_1[0][0]']     \n",
            "                                                                                                  \n",
            " conv_b2ib_branch_4_2 (Conv2D)  (None, 17, 17, 192)  258240      ['activation_748[0][0]']         \n",
            "                                                                                                  \n",
            " bn_b2ib_branch_4_2 (BatchNorma  (None, 17, 17, 192)  768        ['conv_b2ib_branch_4_2[0][0]']   \n",
            " lization)                                                                                        \n",
            "                                                                                                  \n",
            " activation_749 (Activation)    (None, 17, 17, 192)  0           ['bn_b2ib_branch_4_2[0][0]']     \n",
            "                                                                                                  \n",
            " conv_b2ib_branch_3_1 (Conv2D)  (None, 17, 17, 192)  196800      ['tf.concat_46[0][0]']           \n",
            "                                                                                                  \n",
            " conv_b2ib_branch_4_3 (Conv2D)  (None, 17, 17, 224)  301280      ['activation_749[0][0]']         \n",
            "                                                                                                  \n",
            " bn_b2ib_branch_3_1 (BatchNorma  (None, 17, 17, 192)  768        ['conv_b2ib_branch_3_1[0][0]']   \n",
            " lization)                                                                                        \n",
            "                                                                                                  \n",
            " bn_b2ib_branch_4_3 (BatchNorma  (None, 17, 17, 224)  896        ['conv_b2ib_branch_4_3[0][0]']   \n",
            " lization)                                                                                        \n",
            "                                                                                                  \n",
            " activation_745 (Activation)    (None, 17, 17, 192)  0           ['bn_b2ib_branch_3_1[0][0]']     \n",
            "                                                                                                  \n",
            " activation_750 (Activation)    (None, 17, 17, 224)  0           ['bn_b2ib_branch_4_3[0][0]']     \n",
            "                                                                                                  \n",
            " conv_b2ib_branch_3_2 (Conv2D)  (None, 17, 17, 224)  301280      ['activation_745[0][0]']         \n",
            "                                                                                                  \n",
            " conv_b2ib_branch_4_4 (Conv2D)  (None, 17, 17, 224)  351456      ['activation_750[0][0]']         \n",
            "                                                                                                  \n",
            " bn_b2ib_branch_3_2 (BatchNorma  (None, 17, 17, 224)  896        ['conv_b2ib_branch_3_2[0][0]']   \n",
            " lization)                                                                                        \n",
            "                                                                                                  \n",
            " bn_b2ib_branch_4_4 (BatchNorma  (None, 17, 17, 224)  896        ['conv_b2ib_branch_4_4[0][0]']   \n",
            " lization)                                                                                        \n",
            "                                                                                                  \n",
            " b2ib_branch_1_1 (AveragePoolin  (None, 17, 17, 1024  0          ['tf.concat_46[0][0]']           \n",
            " g2D)                           )                                                                 \n",
            "                                                                                                  \n",
            " activation_746 (Activation)    (None, 17, 17, 224)  0           ['bn_b2ib_branch_3_2[0][0]']     \n",
            "                                                                                                  \n",
            " activation_751 (Activation)    (None, 17, 17, 224)  0           ['bn_b2ib_branch_4_4[0][0]']     \n",
            "                                                                                                  \n",
            " conv_b2ib_branch_1_2 (Conv2D)  (None, 17, 17, 128)  131200      ['b2ib_branch_1_1[0][0]']        \n",
            "                                                                                                  \n",
            " conv_b2ib_branch_2_1 (Conv2D)  (None, 17, 17, 384)  393600      ['tf.concat_46[0][0]']           \n",
            "                                                                                                  \n",
            " conv_b2ib_branch_3_3 (Conv2D)  (None, 17, 17, 256)  401664      ['activation_746[0][0]']         \n",
            "                                                                                                  \n",
            " conv_b2ib_branch_4_5 (Conv2D)  (None, 17, 17, 256)  401664      ['activation_751[0][0]']         \n",
            "                                                                                                  \n",
            " bn_b2ib_branch_1_2 (BatchNorma  (None, 17, 17, 128)  512        ['conv_b2ib_branch_1_2[0][0]']   \n",
            " lization)                                                                                        \n",
            "                                                                                                  \n",
            " bn_b2ib_branch_2_1 (BatchNorma  (None, 17, 17, 384)  1536       ['conv_b2ib_branch_2_1[0][0]']   \n",
            " lization)                                                                                        \n",
            "                                                                                                  \n",
            " bn_b2ib_branch_3_3 (BatchNorma  (None, 17, 17, 256)  1024       ['conv_b2ib_branch_3_3[0][0]']   \n",
            " lization)                                                                                        \n",
            "                                                                                                  \n",
            " bn_b2ib_branch_4_5 (BatchNorma  (None, 17, 17, 256)  1024       ['conv_b2ib_branch_4_5[0][0]']   \n",
            " lization)                                                                                        \n",
            "                                                                                                  \n",
            " activation_743 (Activation)    (None, 17, 17, 128)  0           ['bn_b2ib_branch_1_2[0][0]']     \n",
            "                                                                                                  \n",
            " activation_744 (Activation)    (None, 17, 17, 384)  0           ['bn_b2ib_branch_2_1[0][0]']     \n",
            "                                                                                                  \n",
            " activation_747 (Activation)    (None, 17, 17, 256)  0           ['bn_b2ib_branch_3_3[0][0]']     \n",
            "                                                                                                  \n",
            " activation_752 (Activation)    (None, 17, 17, 256)  0           ['bn_b2ib_branch_4_5[0][0]']     \n",
            "                                                                                                  \n",
            " tf.concat_47 (TFOpLambda)      (None, 17, 17, 1024  0           ['activation_743[0][0]',         \n",
            "                                )                                 'activation_744[0][0]',         \n",
            "                                                                  'activation_747[0][0]',         \n",
            "                                                                  'activation_752[0][0]']         \n",
            "                                                                                                  \n",
            " conv_b3ib_branch_4_1 (Conv2D)  (None, 17, 17, 192)  196800      ['tf.concat_47[0][0]']           \n",
            "                                                                                                  \n",
            " bn_b3ib_branch_4_1 (BatchNorma  (None, 17, 17, 192)  768        ['conv_b3ib_branch_4_1[0][0]']   \n",
            " lization)                                                                                        \n",
            "                                                                                                  \n",
            " activation_758 (Activation)    (None, 17, 17, 192)  0           ['bn_b3ib_branch_4_1[0][0]']     \n",
            "                                                                                                  \n",
            " conv_b3ib_branch_4_2 (Conv2D)  (None, 17, 17, 192)  258240      ['activation_758[0][0]']         \n",
            "                                                                                                  \n",
            " bn_b3ib_branch_4_2 (BatchNorma  (None, 17, 17, 192)  768        ['conv_b3ib_branch_4_2[0][0]']   \n",
            " lization)                                                                                        \n",
            "                                                                                                  \n",
            " activation_759 (Activation)    (None, 17, 17, 192)  0           ['bn_b3ib_branch_4_2[0][0]']     \n",
            "                                                                                                  \n",
            " conv_b3ib_branch_3_1 (Conv2D)  (None, 17, 17, 192)  196800      ['tf.concat_47[0][0]']           \n",
            "                                                                                                  \n",
            " conv_b3ib_branch_4_3 (Conv2D)  (None, 17, 17, 224)  301280      ['activation_759[0][0]']         \n",
            "                                                                                                  \n",
            " bn_b3ib_branch_3_1 (BatchNorma  (None, 17, 17, 192)  768        ['conv_b3ib_branch_3_1[0][0]']   \n",
            " lization)                                                                                        \n",
            "                                                                                                  \n",
            " bn_b3ib_branch_4_3 (BatchNorma  (None, 17, 17, 224)  896        ['conv_b3ib_branch_4_3[0][0]']   \n",
            " lization)                                                                                        \n",
            "                                                                                                  \n",
            " activation_755 (Activation)    (None, 17, 17, 192)  0           ['bn_b3ib_branch_3_1[0][0]']     \n",
            "                                                                                                  \n",
            " activation_760 (Activation)    (None, 17, 17, 224)  0           ['bn_b3ib_branch_4_3[0][0]']     \n",
            "                                                                                                  \n",
            " conv_b3ib_branch_3_2 (Conv2D)  (None, 17, 17, 224)  301280      ['activation_755[0][0]']         \n",
            "                                                                                                  \n",
            " conv_b3ib_branch_4_4 (Conv2D)  (None, 17, 17, 224)  351456      ['activation_760[0][0]']         \n",
            "                                                                                                  \n",
            " bn_b3ib_branch_3_2 (BatchNorma  (None, 17, 17, 224)  896        ['conv_b3ib_branch_3_2[0][0]']   \n",
            " lization)                                                                                        \n",
            "                                                                                                  \n",
            " bn_b3ib_branch_4_4 (BatchNorma  (None, 17, 17, 224)  896        ['conv_b3ib_branch_4_4[0][0]']   \n",
            " lization)                                                                                        \n",
            "                                                                                                  \n",
            " b3ib_branch_1_1 (AveragePoolin  (None, 17, 17, 1024  0          ['tf.concat_47[0][0]']           \n",
            " g2D)                           )                                                                 \n",
            "                                                                                                  \n",
            " activation_756 (Activation)    (None, 17, 17, 224)  0           ['bn_b3ib_branch_3_2[0][0]']     \n",
            "                                                                                                  \n",
            " activation_761 (Activation)    (None, 17, 17, 224)  0           ['bn_b3ib_branch_4_4[0][0]']     \n",
            "                                                                                                  \n",
            " conv_b3ib_branch_1_2 (Conv2D)  (None, 17, 17, 128)  131200      ['b3ib_branch_1_1[0][0]']        \n",
            "                                                                                                  \n",
            " conv_b3ib_branch_2_1 (Conv2D)  (None, 17, 17, 384)  393600      ['tf.concat_47[0][0]']           \n",
            "                                                                                                  \n",
            " conv_b3ib_branch_3_3 (Conv2D)  (None, 17, 17, 256)  401664      ['activation_756[0][0]']         \n",
            "                                                                                                  \n",
            " conv_b3ib_branch_4_5 (Conv2D)  (None, 17, 17, 256)  401664      ['activation_761[0][0]']         \n",
            "                                                                                                  \n",
            " bn_b3ib_branch_1_2 (BatchNorma  (None, 17, 17, 128)  512        ['conv_b3ib_branch_1_2[0][0]']   \n",
            " lization)                                                                                        \n",
            "                                                                                                  \n",
            " bn_b3ib_branch_2_1 (BatchNorma  (None, 17, 17, 384)  1536       ['conv_b3ib_branch_2_1[0][0]']   \n",
            " lization)                                                                                        \n",
            "                                                                                                  \n",
            " bn_b3ib_branch_3_3 (BatchNorma  (None, 17, 17, 256)  1024       ['conv_b3ib_branch_3_3[0][0]']   \n",
            " lization)                                                                                        \n",
            "                                                                                                  \n",
            " bn_b3ib_branch_4_5 (BatchNorma  (None, 17, 17, 256)  1024       ['conv_b3ib_branch_4_5[0][0]']   \n",
            " lization)                                                                                        \n",
            "                                                                                                  \n",
            " activation_753 (Activation)    (None, 17, 17, 128)  0           ['bn_b3ib_branch_1_2[0][0]']     \n",
            "                                                                                                  \n",
            " activation_754 (Activation)    (None, 17, 17, 384)  0           ['bn_b3ib_branch_2_1[0][0]']     \n",
            "                                                                                                  \n",
            " activation_757 (Activation)    (None, 17, 17, 256)  0           ['bn_b3ib_branch_3_3[0][0]']     \n",
            "                                                                                                  \n",
            " activation_762 (Activation)    (None, 17, 17, 256)  0           ['bn_b3ib_branch_4_5[0][0]']     \n",
            "                                                                                                  \n",
            " tf.concat_48 (TFOpLambda)      (None, 17, 17, 1024  0           ['activation_753[0][0]',         \n",
            "                                )                                 'activation_754[0][0]',         \n",
            "                                                                  'activation_757[0][0]',         \n",
            "                                                                  'activation_762[0][0]']         \n",
            "                                                                                                  \n",
            " conv_b4ib_branch_4_1 (Conv2D)  (None, 17, 17, 192)  196800      ['tf.concat_48[0][0]']           \n",
            "                                                                                                  \n",
            " bn_b4ib_branch_4_1 (BatchNorma  (None, 17, 17, 192)  768        ['conv_b4ib_branch_4_1[0][0]']   \n",
            " lization)                                                                                        \n",
            "                                                                                                  \n",
            " activation_768 (Activation)    (None, 17, 17, 192)  0           ['bn_b4ib_branch_4_1[0][0]']     \n",
            "                                                                                                  \n",
            " conv_b4ib_branch_4_2 (Conv2D)  (None, 17, 17, 192)  258240      ['activation_768[0][0]']         \n",
            "                                                                                                  \n",
            " bn_b4ib_branch_4_2 (BatchNorma  (None, 17, 17, 192)  768        ['conv_b4ib_branch_4_2[0][0]']   \n",
            " lization)                                                                                        \n",
            "                                                                                                  \n",
            " activation_769 (Activation)    (None, 17, 17, 192)  0           ['bn_b4ib_branch_4_2[0][0]']     \n",
            "                                                                                                  \n",
            " conv_b4ib_branch_3_1 (Conv2D)  (None, 17, 17, 192)  196800      ['tf.concat_48[0][0]']           \n",
            "                                                                                                  \n",
            " conv_b4ib_branch_4_3 (Conv2D)  (None, 17, 17, 224)  301280      ['activation_769[0][0]']         \n",
            "                                                                                                  \n",
            " bn_b4ib_branch_3_1 (BatchNorma  (None, 17, 17, 192)  768        ['conv_b4ib_branch_3_1[0][0]']   \n",
            " lization)                                                                                        \n",
            "                                                                                                  \n",
            " bn_b4ib_branch_4_3 (BatchNorma  (None, 17, 17, 224)  896        ['conv_b4ib_branch_4_3[0][0]']   \n",
            " lization)                                                                                        \n",
            "                                                                                                  \n",
            " activation_765 (Activation)    (None, 17, 17, 192)  0           ['bn_b4ib_branch_3_1[0][0]']     \n",
            "                                                                                                  \n",
            " activation_770 (Activation)    (None, 17, 17, 224)  0           ['bn_b4ib_branch_4_3[0][0]']     \n",
            "                                                                                                  \n",
            " conv_b4ib_branch_3_2 (Conv2D)  (None, 17, 17, 224)  301280      ['activation_765[0][0]']         \n",
            "                                                                                                  \n",
            " conv_b4ib_branch_4_4 (Conv2D)  (None, 17, 17, 224)  351456      ['activation_770[0][0]']         \n",
            "                                                                                                  \n",
            " bn_b4ib_branch_3_2 (BatchNorma  (None, 17, 17, 224)  896        ['conv_b4ib_branch_3_2[0][0]']   \n",
            " lization)                                                                                        \n",
            "                                                                                                  \n",
            " bn_b4ib_branch_4_4 (BatchNorma  (None, 17, 17, 224)  896        ['conv_b4ib_branch_4_4[0][0]']   \n",
            " lization)                                                                                        \n",
            "                                                                                                  \n",
            " b4ib_branch_1_1 (AveragePoolin  (None, 17, 17, 1024  0          ['tf.concat_48[0][0]']           \n",
            " g2D)                           )                                                                 \n",
            "                                                                                                  \n",
            " activation_766 (Activation)    (None, 17, 17, 224)  0           ['bn_b4ib_branch_3_2[0][0]']     \n",
            "                                                                                                  \n",
            " activation_771 (Activation)    (None, 17, 17, 224)  0           ['bn_b4ib_branch_4_4[0][0]']     \n",
            "                                                                                                  \n",
            " conv_b4ib_branch_1_2 (Conv2D)  (None, 17, 17, 128)  131200      ['b4ib_branch_1_1[0][0]']        \n",
            "                                                                                                  \n",
            " conv_b4ib_branch_2_1 (Conv2D)  (None, 17, 17, 384)  393600      ['tf.concat_48[0][0]']           \n",
            "                                                                                                  \n",
            " conv_b4ib_branch_3_3 (Conv2D)  (None, 17, 17, 256)  401664      ['activation_766[0][0]']         \n",
            "                                                                                                  \n",
            " conv_b4ib_branch_4_5 (Conv2D)  (None, 17, 17, 256)  401664      ['activation_771[0][0]']         \n",
            "                                                                                                  \n",
            " bn_b4ib_branch_1_2 (BatchNorma  (None, 17, 17, 128)  512        ['conv_b4ib_branch_1_2[0][0]']   \n",
            " lization)                                                                                        \n",
            "                                                                                                  \n",
            " bn_b4ib_branch_2_1 (BatchNorma  (None, 17, 17, 384)  1536       ['conv_b4ib_branch_2_1[0][0]']   \n",
            " lization)                                                                                        \n",
            "                                                                                                  \n",
            " bn_b4ib_branch_3_3 (BatchNorma  (None, 17, 17, 256)  1024       ['conv_b4ib_branch_3_3[0][0]']   \n",
            " lization)                                                                                        \n",
            "                                                                                                  \n",
            " bn_b4ib_branch_4_5 (BatchNorma  (None, 17, 17, 256)  1024       ['conv_b4ib_branch_4_5[0][0]']   \n",
            " lization)                                                                                        \n",
            "                                                                                                  \n",
            " activation_763 (Activation)    (None, 17, 17, 128)  0           ['bn_b4ib_branch_1_2[0][0]']     \n",
            "                                                                                                  \n",
            " activation_764 (Activation)    (None, 17, 17, 384)  0           ['bn_b4ib_branch_2_1[0][0]']     \n",
            "                                                                                                  \n",
            " activation_767 (Activation)    (None, 17, 17, 256)  0           ['bn_b4ib_branch_3_3[0][0]']     \n",
            "                                                                                                  \n",
            " activation_772 (Activation)    (None, 17, 17, 256)  0           ['bn_b4ib_branch_4_5[0][0]']     \n",
            "                                                                                                  \n",
            " tf.concat_49 (TFOpLambda)      (None, 17, 17, 1024  0           ['activation_763[0][0]',         \n",
            "                                )                                 'activation_764[0][0]',         \n",
            "                                                                  'activation_767[0][0]',         \n",
            "                                                                  'activation_772[0][0]']         \n",
            "                                                                                                  \n",
            " conv_b5ib_branch_4_1 (Conv2D)  (None, 17, 17, 192)  196800      ['tf.concat_49[0][0]']           \n",
            "                                                                                                  \n",
            " bn_b5ib_branch_4_1 (BatchNorma  (None, 17, 17, 192)  768        ['conv_b5ib_branch_4_1[0][0]']   \n",
            " lization)                                                                                        \n",
            "                                                                                                  \n",
            " activation_778 (Activation)    (None, 17, 17, 192)  0           ['bn_b5ib_branch_4_1[0][0]']     \n",
            "                                                                                                  \n",
            " conv_b5ib_branch_4_2 (Conv2D)  (None, 17, 17, 192)  258240      ['activation_778[0][0]']         \n",
            "                                                                                                  \n",
            " bn_b5ib_branch_4_2 (BatchNorma  (None, 17, 17, 192)  768        ['conv_b5ib_branch_4_2[0][0]']   \n",
            " lization)                                                                                        \n",
            "                                                                                                  \n",
            " activation_779 (Activation)    (None, 17, 17, 192)  0           ['bn_b5ib_branch_4_2[0][0]']     \n",
            "                                                                                                  \n",
            " conv_b5ib_branch_3_1 (Conv2D)  (None, 17, 17, 192)  196800      ['tf.concat_49[0][0]']           \n",
            "                                                                                                  \n",
            " conv_b5ib_branch_4_3 (Conv2D)  (None, 17, 17, 224)  301280      ['activation_779[0][0]']         \n",
            "                                                                                                  \n",
            " bn_b5ib_branch_3_1 (BatchNorma  (None, 17, 17, 192)  768        ['conv_b5ib_branch_3_1[0][0]']   \n",
            " lization)                                                                                        \n",
            "                                                                                                  \n",
            " bn_b5ib_branch_4_3 (BatchNorma  (None, 17, 17, 224)  896        ['conv_b5ib_branch_4_3[0][0]']   \n",
            " lization)                                                                                        \n",
            "                                                                                                  \n",
            " activation_775 (Activation)    (None, 17, 17, 192)  0           ['bn_b5ib_branch_3_1[0][0]']     \n",
            "                                                                                                  \n",
            " activation_780 (Activation)    (None, 17, 17, 224)  0           ['bn_b5ib_branch_4_3[0][0]']     \n",
            "                                                                                                  \n",
            " conv_b5ib_branch_3_2 (Conv2D)  (None, 17, 17, 224)  301280      ['activation_775[0][0]']         \n",
            "                                                                                                  \n",
            " conv_b5ib_branch_4_4 (Conv2D)  (None, 17, 17, 224)  351456      ['activation_780[0][0]']         \n",
            "                                                                                                  \n",
            " bn_b5ib_branch_3_2 (BatchNorma  (None, 17, 17, 224)  896        ['conv_b5ib_branch_3_2[0][0]']   \n",
            " lization)                                                                                        \n",
            "                                                                                                  \n",
            " bn_b5ib_branch_4_4 (BatchNorma  (None, 17, 17, 224)  896        ['conv_b5ib_branch_4_4[0][0]']   \n",
            " lization)                                                                                        \n",
            "                                                                                                  \n",
            " b5ib_branch_1_1 (AveragePoolin  (None, 17, 17, 1024  0          ['tf.concat_49[0][0]']           \n",
            " g2D)                           )                                                                 \n",
            "                                                                                                  \n",
            " activation_776 (Activation)    (None, 17, 17, 224)  0           ['bn_b5ib_branch_3_2[0][0]']     \n",
            "                                                                                                  \n",
            " activation_781 (Activation)    (None, 17, 17, 224)  0           ['bn_b5ib_branch_4_4[0][0]']     \n",
            "                                                                                                  \n",
            " conv_b5ib_branch_1_2 (Conv2D)  (None, 17, 17, 128)  131200      ['b5ib_branch_1_1[0][0]']        \n",
            "                                                                                                  \n",
            " conv_b5ib_branch_2_1 (Conv2D)  (None, 17, 17, 384)  393600      ['tf.concat_49[0][0]']           \n",
            "                                                                                                  \n",
            " conv_b5ib_branch_3_3 (Conv2D)  (None, 17, 17, 256)  401664      ['activation_776[0][0]']         \n",
            "                                                                                                  \n",
            " conv_b5ib_branch_4_5 (Conv2D)  (None, 17, 17, 256)  401664      ['activation_781[0][0]']         \n",
            "                                                                                                  \n",
            " bn_b5ib_branch_1_2 (BatchNorma  (None, 17, 17, 128)  512        ['conv_b5ib_branch_1_2[0][0]']   \n",
            " lization)                                                                                        \n",
            "                                                                                                  \n",
            " bn_b5ib_branch_2_1 (BatchNorma  (None, 17, 17, 384)  1536       ['conv_b5ib_branch_2_1[0][0]']   \n",
            " lization)                                                                                        \n",
            "                                                                                                  \n",
            " bn_b5ib_branch_3_3 (BatchNorma  (None, 17, 17, 256)  1024       ['conv_b5ib_branch_3_3[0][0]']   \n",
            " lization)                                                                                        \n",
            "                                                                                                  \n",
            " bn_b5ib_branch_4_5 (BatchNorma  (None, 17, 17, 256)  1024       ['conv_b5ib_branch_4_5[0][0]']   \n",
            " lization)                                                                                        \n",
            "                                                                                                  \n",
            " activation_773 (Activation)    (None, 17, 17, 128)  0           ['bn_b5ib_branch_1_2[0][0]']     \n",
            "                                                                                                  \n",
            " activation_774 (Activation)    (None, 17, 17, 384)  0           ['bn_b5ib_branch_2_1[0][0]']     \n",
            "                                                                                                  \n",
            " activation_777 (Activation)    (None, 17, 17, 256)  0           ['bn_b5ib_branch_3_3[0][0]']     \n",
            "                                                                                                  \n",
            " activation_782 (Activation)    (None, 17, 17, 256)  0           ['bn_b5ib_branch_4_5[0][0]']     \n",
            "                                                                                                  \n",
            " tf.concat_50 (TFOpLambda)      (None, 17, 17, 1024  0           ['activation_773[0][0]',         \n",
            "                                )                                 'activation_774[0][0]',         \n",
            "                                                                  'activation_777[0][0]',         \n",
            "                                                                  'activation_782[0][0]']         \n",
            "                                                                                                  \n",
            " conv_b6ib_branch_4_1 (Conv2D)  (None, 17, 17, 192)  196800      ['tf.concat_50[0][0]']           \n",
            "                                                                                                  \n",
            " bn_b6ib_branch_4_1 (BatchNorma  (None, 17, 17, 192)  768        ['conv_b6ib_branch_4_1[0][0]']   \n",
            " lization)                                                                                        \n",
            "                                                                                                  \n",
            " activation_788 (Activation)    (None, 17, 17, 192)  0           ['bn_b6ib_branch_4_1[0][0]']     \n",
            "                                                                                                  \n",
            " conv_b6ib_branch_4_2 (Conv2D)  (None, 17, 17, 192)  258240      ['activation_788[0][0]']         \n",
            "                                                                                                  \n",
            " bn_b6ib_branch_4_2 (BatchNorma  (None, 17, 17, 192)  768        ['conv_b6ib_branch_4_2[0][0]']   \n",
            " lization)                                                                                        \n",
            "                                                                                                  \n",
            " activation_789 (Activation)    (None, 17, 17, 192)  0           ['bn_b6ib_branch_4_2[0][0]']     \n",
            "                                                                                                  \n",
            " conv_b6ib_branch_3_1 (Conv2D)  (None, 17, 17, 192)  196800      ['tf.concat_50[0][0]']           \n",
            "                                                                                                  \n",
            " conv_b6ib_branch_4_3 (Conv2D)  (None, 17, 17, 224)  301280      ['activation_789[0][0]']         \n",
            "                                                                                                  \n",
            " bn_b6ib_branch_3_1 (BatchNorma  (None, 17, 17, 192)  768        ['conv_b6ib_branch_3_1[0][0]']   \n",
            " lization)                                                                                        \n",
            "                                                                                                  \n",
            " bn_b6ib_branch_4_3 (BatchNorma  (None, 17, 17, 224)  896        ['conv_b6ib_branch_4_3[0][0]']   \n",
            " lization)                                                                                        \n",
            "                                                                                                  \n",
            " activation_785 (Activation)    (None, 17, 17, 192)  0           ['bn_b6ib_branch_3_1[0][0]']     \n",
            "                                                                                                  \n",
            " activation_790 (Activation)    (None, 17, 17, 224)  0           ['bn_b6ib_branch_4_3[0][0]']     \n",
            "                                                                                                  \n",
            " conv_b6ib_branch_3_2 (Conv2D)  (None, 17, 17, 224)  301280      ['activation_785[0][0]']         \n",
            "                                                                                                  \n",
            " conv_b6ib_branch_4_4 (Conv2D)  (None, 17, 17, 224)  351456      ['activation_790[0][0]']         \n",
            "                                                                                                  \n",
            " bn_b6ib_branch_3_2 (BatchNorma  (None, 17, 17, 224)  896        ['conv_b6ib_branch_3_2[0][0]']   \n",
            " lization)                                                                                        \n",
            "                                                                                                  \n",
            " bn_b6ib_branch_4_4 (BatchNorma  (None, 17, 17, 224)  896        ['conv_b6ib_branch_4_4[0][0]']   \n",
            " lization)                                                                                        \n",
            "                                                                                                  \n",
            " b6ib_branch_1_1 (AveragePoolin  (None, 17, 17, 1024  0          ['tf.concat_50[0][0]']           \n",
            " g2D)                           )                                                                 \n",
            "                                                                                                  \n",
            " activation_786 (Activation)    (None, 17, 17, 224)  0           ['bn_b6ib_branch_3_2[0][0]']     \n",
            "                                                                                                  \n",
            " activation_791 (Activation)    (None, 17, 17, 224)  0           ['bn_b6ib_branch_4_4[0][0]']     \n",
            "                                                                                                  \n",
            " conv_b6ib_branch_1_2 (Conv2D)  (None, 17, 17, 128)  131200      ['b6ib_branch_1_1[0][0]']        \n",
            "                                                                                                  \n",
            " conv_b6ib_branch_2_1 (Conv2D)  (None, 17, 17, 384)  393600      ['tf.concat_50[0][0]']           \n",
            "                                                                                                  \n",
            " conv_b6ib_branch_3_3 (Conv2D)  (None, 17, 17, 256)  401664      ['activation_786[0][0]']         \n",
            "                                                                                                  \n",
            " conv_b6ib_branch_4_5 (Conv2D)  (None, 17, 17, 256)  401664      ['activation_791[0][0]']         \n",
            "                                                                                                  \n",
            " bn_b6ib_branch_1_2 (BatchNorma  (None, 17, 17, 128)  512        ['conv_b6ib_branch_1_2[0][0]']   \n",
            " lization)                                                                                        \n",
            "                                                                                                  \n",
            " bn_b6ib_branch_2_1 (BatchNorma  (None, 17, 17, 384)  1536       ['conv_b6ib_branch_2_1[0][0]']   \n",
            " lization)                                                                                        \n",
            "                                                                                                  \n",
            " bn_b6ib_branch_3_3 (BatchNorma  (None, 17, 17, 256)  1024       ['conv_b6ib_branch_3_3[0][0]']   \n",
            " lization)                                                                                        \n",
            "                                                                                                  \n",
            " bn_b6ib_branch_4_5 (BatchNorma  (None, 17, 17, 256)  1024       ['conv_b6ib_branch_4_5[0][0]']   \n",
            " lization)                                                                                        \n",
            "                                                                                                  \n",
            " activation_783 (Activation)    (None, 17, 17, 128)  0           ['bn_b6ib_branch_1_2[0][0]']     \n",
            "                                                                                                  \n",
            " activation_784 (Activation)    (None, 17, 17, 384)  0           ['bn_b6ib_branch_2_1[0][0]']     \n",
            "                                                                                                  \n",
            " activation_787 (Activation)    (None, 17, 17, 256)  0           ['bn_b6ib_branch_3_3[0][0]']     \n",
            "                                                                                                  \n",
            " activation_792 (Activation)    (None, 17, 17, 256)  0           ['bn_b6ib_branch_4_5[0][0]']     \n",
            "                                                                                                  \n",
            " tf.concat_51 (TFOpLambda)      (None, 17, 17, 1024  0           ['activation_783[0][0]',         \n",
            "                                )                                 'activation_784[0][0]',         \n",
            "                                                                  'activation_787[0][0]',         \n",
            "                                                                  'activation_792[0][0]']         \n",
            "                                                                                                  \n",
            " conv_b7ib_branch_4_1 (Conv2D)  (None, 17, 17, 192)  196800      ['tf.concat_51[0][0]']           \n",
            "                                                                                                  \n",
            " bn_b7ib_branch_4_1 (BatchNorma  (None, 17, 17, 192)  768        ['conv_b7ib_branch_4_1[0][0]']   \n",
            " lization)                                                                                        \n",
            "                                                                                                  \n",
            " activation_798 (Activation)    (None, 17, 17, 192)  0           ['bn_b7ib_branch_4_1[0][0]']     \n",
            "                                                                                                  \n",
            " conv_b7ib_branch_4_2 (Conv2D)  (None, 17, 17, 192)  258240      ['activation_798[0][0]']         \n",
            "                                                                                                  \n",
            " bn_b7ib_branch_4_2 (BatchNorma  (None, 17, 17, 192)  768        ['conv_b7ib_branch_4_2[0][0]']   \n",
            " lization)                                                                                        \n",
            "                                                                                                  \n",
            " activation_799 (Activation)    (None, 17, 17, 192)  0           ['bn_b7ib_branch_4_2[0][0]']     \n",
            "                                                                                                  \n",
            " conv_b7ib_branch_3_1 (Conv2D)  (None, 17, 17, 192)  196800      ['tf.concat_51[0][0]']           \n",
            "                                                                                                  \n",
            " conv_b7ib_branch_4_3 (Conv2D)  (None, 17, 17, 224)  301280      ['activation_799[0][0]']         \n",
            "                                                                                                  \n",
            " bn_b7ib_branch_3_1 (BatchNorma  (None, 17, 17, 192)  768        ['conv_b7ib_branch_3_1[0][0]']   \n",
            " lization)                                                                                        \n",
            "                                                                                                  \n",
            " bn_b7ib_branch_4_3 (BatchNorma  (None, 17, 17, 224)  896        ['conv_b7ib_branch_4_3[0][0]']   \n",
            " lization)                                                                                        \n",
            "                                                                                                  \n",
            " activation_795 (Activation)    (None, 17, 17, 192)  0           ['bn_b7ib_branch_3_1[0][0]']     \n",
            "                                                                                                  \n",
            " activation_800 (Activation)    (None, 17, 17, 224)  0           ['bn_b7ib_branch_4_3[0][0]']     \n",
            "                                                                                                  \n",
            " conv_b7ib_branch_3_2 (Conv2D)  (None, 17, 17, 224)  301280      ['activation_795[0][0]']         \n",
            "                                                                                                  \n",
            " conv_b7ib_branch_4_4 (Conv2D)  (None, 17, 17, 224)  351456      ['activation_800[0][0]']         \n",
            "                                                                                                  \n",
            " bn_b7ib_branch_3_2 (BatchNorma  (None, 17, 17, 224)  896        ['conv_b7ib_branch_3_2[0][0]']   \n",
            " lization)                                                                                        \n",
            "                                                                                                  \n",
            " bn_b7ib_branch_4_4 (BatchNorma  (None, 17, 17, 224)  896        ['conv_b7ib_branch_4_4[0][0]']   \n",
            " lization)                                                                                        \n",
            "                                                                                                  \n",
            " b7ib_branch_1_1 (AveragePoolin  (None, 17, 17, 1024  0          ['tf.concat_51[0][0]']           \n",
            " g2D)                           )                                                                 \n",
            "                                                                                                  \n",
            " activation_796 (Activation)    (None, 17, 17, 224)  0           ['bn_b7ib_branch_3_2[0][0]']     \n",
            "                                                                                                  \n",
            " activation_801 (Activation)    (None, 17, 17, 224)  0           ['bn_b7ib_branch_4_4[0][0]']     \n",
            "                                                                                                  \n",
            " conv_b7ib_branch_1_2 (Conv2D)  (None, 17, 17, 128)  131200      ['b7ib_branch_1_1[0][0]']        \n",
            "                                                                                                  \n",
            " conv_b7ib_branch_2_1 (Conv2D)  (None, 17, 17, 384)  393600      ['tf.concat_51[0][0]']           \n",
            "                                                                                                  \n",
            " conv_b7ib_branch_3_3 (Conv2D)  (None, 17, 17, 256)  401664      ['activation_796[0][0]']         \n",
            "                                                                                                  \n",
            " conv_b7ib_branch_4_5 (Conv2D)  (None, 17, 17, 256)  401664      ['activation_801[0][0]']         \n",
            "                                                                                                  \n",
            " bn_b7ib_branch_1_2 (BatchNorma  (None, 17, 17, 128)  512        ['conv_b7ib_branch_1_2[0][0]']   \n",
            " lization)                                                                                        \n",
            "                                                                                                  \n",
            " bn_b7ib_branch_2_1 (BatchNorma  (None, 17, 17, 384)  1536       ['conv_b7ib_branch_2_1[0][0]']   \n",
            " lization)                                                                                        \n",
            "                                                                                                  \n",
            " bn_b7ib_branch_3_3 (BatchNorma  (None, 17, 17, 256)  1024       ['conv_b7ib_branch_3_3[0][0]']   \n",
            " lization)                                                                                        \n",
            "                                                                                                  \n",
            " bn_b7ib_branch_4_5 (BatchNorma  (None, 17, 17, 256)  1024       ['conv_b7ib_branch_4_5[0][0]']   \n",
            " lization)                                                                                        \n",
            "                                                                                                  \n",
            " activation_793 (Activation)    (None, 17, 17, 128)  0           ['bn_b7ib_branch_1_2[0][0]']     \n",
            "                                                                                                  \n",
            " activation_794 (Activation)    (None, 17, 17, 384)  0           ['bn_b7ib_branch_2_1[0][0]']     \n",
            "                                                                                                  \n",
            " activation_797 (Activation)    (None, 17, 17, 256)  0           ['bn_b7ib_branch_3_3[0][0]']     \n",
            "                                                                                                  \n",
            " activation_802 (Activation)    (None, 17, 17, 256)  0           ['bn_b7ib_branch_4_5[0][0]']     \n",
            "                                                                                                  \n",
            " tf.concat_52 (TFOpLambda)      (None, 17, 17, 1024  0           ['activation_793[0][0]',         \n",
            "                                )                                 'activation_794[0][0]',         \n",
            "                                                                  'activation_797[0][0]',         \n",
            "                                                                  'activation_802[0][0]']         \n",
            "                                                                                                  \n",
            " conv_rb_branch_3_1 (Conv2D)    (None, 17, 17, 256)  262400      ['tf.concat_52[0][0]']           \n",
            "                                                                                                  \n",
            " bn_rb_branch_3_1 (BatchNormali  (None, 17, 17, 256)  1024       ['conv_rb_branch_3_1[0][0]']     \n",
            " zation)                                                                                          \n",
            "                                                                                                  \n",
            " activation_805 (Activation)    (None, 17, 17, 256)  0           ['bn_rb_branch_3_1[0][0]']       \n",
            "                                                                                                  \n",
            " conv_rb_branch_3_2 (Conv2D)    (None, 17, 17, 256)  459008      ['activation_805[0][0]']         \n",
            "                                                                                                  \n",
            " bn_rb_branch_3_2 (BatchNormali  (None, 17, 17, 256)  1024       ['conv_rb_branch_3_2[0][0]']     \n",
            " zation)                                                                                          \n",
            "                                                                                                  \n",
            " activation_806 (Activation)    (None, 17, 17, 256)  0           ['bn_rb_branch_3_2[0][0]']       \n",
            "                                                                                                  \n",
            " conv_rb_branch_2_1 (Conv2D)    (None, 17, 17, 192)  196800      ['tf.concat_52[0][0]']           \n",
            "                                                                                                  \n",
            " conv_rb_branch_3_3 (Conv2D)    (None, 17, 17, 320)  573760      ['activation_806[0][0]']         \n",
            "                                                                                                  \n",
            " bn_rb_branch_2_1 (BatchNormali  (None, 17, 17, 192)  768        ['conv_rb_branch_2_1[0][0]']     \n",
            " zation)                                                                                          \n",
            "                                                                                                  \n",
            " bn_rb_branch_3_3 (BatchNormali  (None, 17, 17, 320)  1280       ['conv_rb_branch_3_3[0][0]']     \n",
            " zation)                                                                                          \n",
            "                                                                                                  \n",
            " activation_803 (Activation)    (None, 17, 17, 192)  0           ['bn_rb_branch_2_1[0][0]']       \n",
            "                                                                                                  \n",
            " activation_807 (Activation)    (None, 17, 17, 320)  0           ['bn_rb_branch_3_3[0][0]']       \n",
            "                                                                                                  \n",
            " conv_rb_branch_2_2 (Conv2D)    (None, 8, 8, 192)    331968      ['activation_803[0][0]']         \n",
            "                                                                                                  \n",
            " conv_rb_branch_3_4 (Conv2D)    (None, 8, 8, 320)    921920      ['activation_807[0][0]']         \n",
            "                                                                                                  \n",
            " bn_rb_branch_2_2 (BatchNormali  (None, 8, 8, 192)   768         ['conv_rb_branch_2_2[0][0]']     \n",
            " zation)                                                                                          \n",
            "                                                                                                  \n",
            " bn_rb_branch_3_4 (BatchNormali  (None, 8, 8, 320)   1280        ['conv_rb_branch_3_4[0][0]']     \n",
            " zation)                                                                                          \n",
            "                                                                                                  \n",
            " rb_branch_1_1 (MaxPooling2D)   (None, 8, 8, 1024)   0           ['tf.concat_52[0][0]']           \n",
            "                                                                                                  \n",
            " activation_804 (Activation)    (None, 8, 8, 192)    0           ['bn_rb_branch_2_2[0][0]']       \n",
            "                                                                                                  \n",
            " activation_808 (Activation)    (None, 8, 8, 320)    0           ['bn_rb_branch_3_4[0][0]']       \n",
            "                                                                                                  \n",
            " tf.concat_53 (TFOpLambda)      (None, 8, 8, 1536)   0           ['rb_branch_1_1[0][0]',          \n",
            "                                                                  'activation_804[0][0]',         \n",
            "                                                                  'activation_808[0][0]']         \n",
            "                                                                                                  \n",
            " conv_c1ic_branch_4_1 (Conv2D)  (None, 8, 8, 384)    590208      ['tf.concat_53[0][0]']           \n",
            "                                                                                                  \n",
            " bn_c1ic_branch_4_1 (BatchNorma  (None, 8, 8, 384)   1536        ['conv_c1ic_branch_4_1[0][0]']   \n",
            " lization)                                                                                        \n",
            "                                                                                                  \n",
            " activation_814 (Activation)    (None, 8, 8, 384)    0           ['bn_c1ic_branch_4_1[0][0]']     \n",
            "                                                                                                  \n",
            " conv_c1ic_branch_4_2 (Conv2D)  (None, 8, 8, 448)    516544      ['activation_814[0][0]']         \n",
            "                                                                                                  \n",
            " bn_c1ic_branch_4_2 (BatchNorma  (None, 8, 8, 448)   1792        ['conv_c1ic_branch_4_2[0][0]']   \n",
            " lization)                                                                                        \n",
            "                                                                                                  \n",
            " activation_815 (Activation)    (None, 8, 8, 448)    0           ['bn_c1ic_branch_4_2[0][0]']     \n",
            "                                                                                                  \n",
            " conv_c1ic_branch_3_1 (Conv2D)  (None, 8, 8, 384)    590208      ['tf.concat_53[0][0]']           \n",
            "                                                                                                  \n",
            " conv_c1ic_branch_4_3 (Conv2D)  (None, 8, 8, 512)    688640      ['activation_815[0][0]']         \n",
            "                                                                                                  \n",
            " bn_c1ic_branch_3_1 (BatchNorma  (None, 8, 8, 384)   1536        ['conv_c1ic_branch_3_1[0][0]']   \n",
            " lization)                                                                                        \n",
            "                                                                                                  \n",
            " bn_c1ic_branch_4_3 (BatchNorma  (None, 8, 8, 512)   2048        ['conv_c1ic_branch_4_3[0][0]']   \n",
            " lization)                                                                                        \n",
            "                                                                                                  \n",
            " c1ic_branch_1_1 (AveragePoolin  (None, 8, 8, 1536)  0           ['tf.concat_53[0][0]']           \n",
            " g2D)                                                                                             \n",
            "                                                                                                  \n",
            " activation_811 (Activation)    (None, 8, 8, 384)    0           ['bn_c1ic_branch_3_1[0][0]']     \n",
            "                                                                                                  \n",
            " activation_816 (Activation)    (None, 8, 8, 512)    0           ['bn_c1ic_branch_4_3[0][0]']     \n",
            "                                                                                                  \n",
            " conv_c1ic_branch_1_2 (Conv2D)  (None, 8, 8, 256)    393472      ['c1ic_branch_1_1[0][0]']        \n",
            "                                                                                                  \n",
            " conv_c1ic_branch_2_1 (Conv2D)  (None, 8, 8, 256)    393472      ['tf.concat_53[0][0]']           \n",
            "                                                                                                  \n",
            " conv_c1ic_branch_3_2 (Conv2D)  (None, 8, 8, 256)    295168      ['activation_811[0][0]']         \n",
            "                                                                                                  \n",
            " conv_c1ic_branch_3_3 (Conv2D)  (None, 8, 8, 256)    295168      ['activation_811[0][0]']         \n",
            "                                                                                                  \n",
            " conv_c1ic_branch_4_4 (Conv2D)  (None, 8, 8, 256)    393472      ['activation_816[0][0]']         \n",
            "                                                                                                  \n",
            " conv_c1ic_branch_4_5 (Conv2D)  (None, 8, 8, 256)    393472      ['activation_816[0][0]']         \n",
            "                                                                                                  \n",
            " bn_c1ic_branch_1_2 (BatchNorma  (None, 8, 8, 256)   1024        ['conv_c1ic_branch_1_2[0][0]']   \n",
            " lization)                                                                                        \n",
            "                                                                                                  \n",
            " bn_c1ic_branch_2_1 (BatchNorma  (None, 8, 8, 256)   1024        ['conv_c1ic_branch_2_1[0][0]']   \n",
            " lization)                                                                                        \n",
            "                                                                                                  \n",
            " bn_c1ic_branch_3_2 (BatchNorma  (None, 8, 8, 256)   1024        ['conv_c1ic_branch_3_2[0][0]']   \n",
            " lization)                                                                                        \n",
            "                                                                                                  \n",
            " bn_c1ic_branch_3_3 (BatchNorma  (None, 8, 8, 256)   1024        ['conv_c1ic_branch_3_3[0][0]']   \n",
            " lization)                                                                                        \n",
            "                                                                                                  \n",
            " bn_c1ic_branch_4_4 (BatchNorma  (None, 8, 8, 256)   1024        ['conv_c1ic_branch_4_4[0][0]']   \n",
            " lization)                                                                                        \n",
            "                                                                                                  \n",
            " bn_c1ic_branch_4_5 (BatchNorma  (None, 8, 8, 256)   1024        ['conv_c1ic_branch_4_5[0][0]']   \n",
            " lization)                                                                                        \n",
            "                                                                                                  \n",
            " activation_809 (Activation)    (None, 8, 8, 256)    0           ['bn_c1ic_branch_1_2[0][0]']     \n",
            "                                                                                                  \n",
            " activation_810 (Activation)    (None, 8, 8, 256)    0           ['bn_c1ic_branch_2_1[0][0]']     \n",
            "                                                                                                  \n",
            " activation_812 (Activation)    (None, 8, 8, 256)    0           ['bn_c1ic_branch_3_2[0][0]']     \n",
            "                                                                                                  \n",
            " activation_813 (Activation)    (None, 8, 8, 256)    0           ['bn_c1ic_branch_3_3[0][0]']     \n",
            "                                                                                                  \n",
            " activation_817 (Activation)    (None, 8, 8, 256)    0           ['bn_c1ic_branch_4_4[0][0]']     \n",
            "                                                                                                  \n",
            " activation_818 (Activation)    (None, 8, 8, 256)    0           ['bn_c1ic_branch_4_5[0][0]']     \n",
            "                                                                                                  \n",
            " tf.concat_54 (TFOpLambda)      (None, 8, 8, 1536)   0           ['activation_809[0][0]',         \n",
            "                                                                  'activation_810[0][0]',         \n",
            "                                                                  'activation_812[0][0]',         \n",
            "                                                                  'activation_813[0][0]',         \n",
            "                                                                  'activation_817[0][0]',         \n",
            "                                                                  'activation_818[0][0]']         \n",
            "                                                                                                  \n",
            " conv_c2ic_branch_4_1 (Conv2D)  (None, 8, 8, 384)    590208      ['tf.concat_54[0][0]']           \n",
            "                                                                                                  \n",
            " bn_c2ic_branch_4_1 (BatchNorma  (None, 8, 8, 384)   1536        ['conv_c2ic_branch_4_1[0][0]']   \n",
            " lization)                                                                                        \n",
            "                                                                                                  \n",
            " activation_824 (Activation)    (None, 8, 8, 384)    0           ['bn_c2ic_branch_4_1[0][0]']     \n",
            "                                                                                                  \n",
            " conv_c2ic_branch_4_2 (Conv2D)  (None, 8, 8, 448)    516544      ['activation_824[0][0]']         \n",
            "                                                                                                  \n",
            " bn_c2ic_branch_4_2 (BatchNorma  (None, 8, 8, 448)   1792        ['conv_c2ic_branch_4_2[0][0]']   \n",
            " lization)                                                                                        \n",
            "                                                                                                  \n",
            " activation_825 (Activation)    (None, 8, 8, 448)    0           ['bn_c2ic_branch_4_2[0][0]']     \n",
            "                                                                                                  \n",
            " conv_c2ic_branch_3_1 (Conv2D)  (None, 8, 8, 384)    590208      ['tf.concat_54[0][0]']           \n",
            "                                                                                                  \n",
            " conv_c2ic_branch_4_3 (Conv2D)  (None, 8, 8, 512)    688640      ['activation_825[0][0]']         \n",
            "                                                                                                  \n",
            " bn_c2ic_branch_3_1 (BatchNorma  (None, 8, 8, 384)   1536        ['conv_c2ic_branch_3_1[0][0]']   \n",
            " lization)                                                                                        \n",
            "                                                                                                  \n",
            " bn_c2ic_branch_4_3 (BatchNorma  (None, 8, 8, 512)   2048        ['conv_c2ic_branch_4_3[0][0]']   \n",
            " lization)                                                                                        \n",
            "                                                                                                  \n",
            " c2ic_branch_1_1 (AveragePoolin  (None, 8, 8, 1536)  0           ['tf.concat_54[0][0]']           \n",
            " g2D)                                                                                             \n",
            "                                                                                                  \n",
            " activation_821 (Activation)    (None, 8, 8, 384)    0           ['bn_c2ic_branch_3_1[0][0]']     \n",
            "                                                                                                  \n",
            " activation_826 (Activation)    (None, 8, 8, 512)    0           ['bn_c2ic_branch_4_3[0][0]']     \n",
            "                                                                                                  \n",
            " conv_c2ic_branch_1_2 (Conv2D)  (None, 8, 8, 256)    393472      ['c2ic_branch_1_1[0][0]']        \n",
            "                                                                                                  \n",
            " conv_c2ic_branch_2_1 (Conv2D)  (None, 8, 8, 256)    393472      ['tf.concat_54[0][0]']           \n",
            "                                                                                                  \n",
            " conv_c2ic_branch_3_2 (Conv2D)  (None, 8, 8, 256)    295168      ['activation_821[0][0]']         \n",
            "                                                                                                  \n",
            " conv_c2ic_branch_3_3 (Conv2D)  (None, 8, 8, 256)    295168      ['activation_821[0][0]']         \n",
            "                                                                                                  \n",
            " conv_c2ic_branch_4_4 (Conv2D)  (None, 8, 8, 256)    393472      ['activation_826[0][0]']         \n",
            "                                                                                                  \n",
            " conv_c2ic_branch_4_5 (Conv2D)  (None, 8, 8, 256)    393472      ['activation_826[0][0]']         \n",
            "                                                                                                  \n",
            " bn_c2ic_branch_1_2 (BatchNorma  (None, 8, 8, 256)   1024        ['conv_c2ic_branch_1_2[0][0]']   \n",
            " lization)                                                                                        \n",
            "                                                                                                  \n",
            " bn_c2ic_branch_2_1 (BatchNorma  (None, 8, 8, 256)   1024        ['conv_c2ic_branch_2_1[0][0]']   \n",
            " lization)                                                                                        \n",
            "                                                                                                  \n",
            " bn_c2ic_branch_3_2 (BatchNorma  (None, 8, 8, 256)   1024        ['conv_c2ic_branch_3_2[0][0]']   \n",
            " lization)                                                                                        \n",
            "                                                                                                  \n",
            " bn_c2ic_branch_3_3 (BatchNorma  (None, 8, 8, 256)   1024        ['conv_c2ic_branch_3_3[0][0]']   \n",
            " lization)                                                                                        \n",
            "                                                                                                  \n",
            " bn_c2ic_branch_4_4 (BatchNorma  (None, 8, 8, 256)   1024        ['conv_c2ic_branch_4_4[0][0]']   \n",
            " lization)                                                                                        \n",
            "                                                                                                  \n",
            " bn_c2ic_branch_4_5 (BatchNorma  (None, 8, 8, 256)   1024        ['conv_c2ic_branch_4_5[0][0]']   \n",
            " lization)                                                                                        \n",
            "                                                                                                  \n",
            " activation_819 (Activation)    (None, 8, 8, 256)    0           ['bn_c2ic_branch_1_2[0][0]']     \n",
            "                                                                                                  \n",
            " activation_820 (Activation)    (None, 8, 8, 256)    0           ['bn_c2ic_branch_2_1[0][0]']     \n",
            "                                                                                                  \n",
            " activation_822 (Activation)    (None, 8, 8, 256)    0           ['bn_c2ic_branch_3_2[0][0]']     \n",
            "                                                                                                  \n",
            " activation_823 (Activation)    (None, 8, 8, 256)    0           ['bn_c2ic_branch_3_3[0][0]']     \n",
            "                                                                                                  \n",
            " activation_827 (Activation)    (None, 8, 8, 256)    0           ['bn_c2ic_branch_4_4[0][0]']     \n",
            "                                                                                                  \n",
            " activation_828 (Activation)    (None, 8, 8, 256)    0           ['bn_c2ic_branch_4_5[0][0]']     \n",
            "                                                                                                  \n",
            " tf.concat_55 (TFOpLambda)      (None, 8, 8, 1536)   0           ['activation_819[0][0]',         \n",
            "                                                                  'activation_820[0][0]',         \n",
            "                                                                  'activation_822[0][0]',         \n",
            "                                                                  'activation_823[0][0]',         \n",
            "                                                                  'activation_827[0][0]',         \n",
            "                                                                  'activation_828[0][0]']         \n",
            "                                                                                                  \n",
            " conv_c3ic_branch_4_1 (Conv2D)  (None, 8, 8, 384)    590208      ['tf.concat_55[0][0]']           \n",
            "                                                                                                  \n",
            " bn_c3ic_branch_4_1 (BatchNorma  (None, 8, 8, 384)   1536        ['conv_c3ic_branch_4_1[0][0]']   \n",
            " lization)                                                                                        \n",
            "                                                                                                  \n",
            " activation_834 (Activation)    (None, 8, 8, 384)    0           ['bn_c3ic_branch_4_1[0][0]']     \n",
            "                                                                                                  \n",
            " conv_c3ic_branch_4_2 (Conv2D)  (None, 8, 8, 448)    516544      ['activation_834[0][0]']         \n",
            "                                                                                                  \n",
            " bn_c3ic_branch_4_2 (BatchNorma  (None, 8, 8, 448)   1792        ['conv_c3ic_branch_4_2[0][0]']   \n",
            " lization)                                                                                        \n",
            "                                                                                                  \n",
            " activation_835 (Activation)    (None, 8, 8, 448)    0           ['bn_c3ic_branch_4_2[0][0]']     \n",
            "                                                                                                  \n",
            " conv_c3ic_branch_3_1 (Conv2D)  (None, 8, 8, 384)    590208      ['tf.concat_55[0][0]']           \n",
            "                                                                                                  \n",
            " conv_c3ic_branch_4_3 (Conv2D)  (None, 8, 8, 512)    688640      ['activation_835[0][0]']         \n",
            "                                                                                                  \n",
            " bn_c3ic_branch_3_1 (BatchNorma  (None, 8, 8, 384)   1536        ['conv_c3ic_branch_3_1[0][0]']   \n",
            " lization)                                                                                        \n",
            "                                                                                                  \n",
            " bn_c3ic_branch_4_3 (BatchNorma  (None, 8, 8, 512)   2048        ['conv_c3ic_branch_4_3[0][0]']   \n",
            " lization)                                                                                        \n",
            "                                                                                                  \n",
            " c3ic_branch_1_1 (AveragePoolin  (None, 8, 8, 1536)  0           ['tf.concat_55[0][0]']           \n",
            " g2D)                                                                                             \n",
            "                                                                                                  \n",
            " activation_831 (Activation)    (None, 8, 8, 384)    0           ['bn_c3ic_branch_3_1[0][0]']     \n",
            "                                                                                                  \n",
            " activation_836 (Activation)    (None, 8, 8, 512)    0           ['bn_c3ic_branch_4_3[0][0]']     \n",
            "                                                                                                  \n",
            " conv_c3ic_branch_1_2 (Conv2D)  (None, 8, 8, 256)    393472      ['c3ic_branch_1_1[0][0]']        \n",
            "                                                                                                  \n",
            " conv_c3ic_branch_2_1 (Conv2D)  (None, 8, 8, 256)    393472      ['tf.concat_55[0][0]']           \n",
            "                                                                                                  \n",
            " conv_c3ic_branch_3_2 (Conv2D)  (None, 8, 8, 256)    295168      ['activation_831[0][0]']         \n",
            "                                                                                                  \n",
            " conv_c3ic_branch_3_3 (Conv2D)  (None, 8, 8, 256)    295168      ['activation_831[0][0]']         \n",
            "                                                                                                  \n",
            " conv_c3ic_branch_4_4 (Conv2D)  (None, 8, 8, 256)    393472      ['activation_836[0][0]']         \n",
            "                                                                                                  \n",
            " conv_c3ic_branch_4_5 (Conv2D)  (None, 8, 8, 256)    393472      ['activation_836[0][0]']         \n",
            "                                                                                                  \n",
            " bn_c3ic_branch_1_2 (BatchNorma  (None, 8, 8, 256)   1024        ['conv_c3ic_branch_1_2[0][0]']   \n",
            " lization)                                                                                        \n",
            "                                                                                                  \n",
            " bn_c3ic_branch_2_1 (BatchNorma  (None, 8, 8, 256)   1024        ['conv_c3ic_branch_2_1[0][0]']   \n",
            " lization)                                                                                        \n",
            "                                                                                                  \n",
            " bn_c3ic_branch_3_2 (BatchNorma  (None, 8, 8, 256)   1024        ['conv_c3ic_branch_3_2[0][0]']   \n",
            " lization)                                                                                        \n",
            "                                                                                                  \n",
            " bn_c3ic_branch_3_3 (BatchNorma  (None, 8, 8, 256)   1024        ['conv_c3ic_branch_3_3[0][0]']   \n",
            " lization)                                                                                        \n",
            "                                                                                                  \n",
            " bn_c3ic_branch_4_4 (BatchNorma  (None, 8, 8, 256)   1024        ['conv_c3ic_branch_4_4[0][0]']   \n",
            " lization)                                                                                        \n",
            "                                                                                                  \n",
            " bn_c3ic_branch_4_5 (BatchNorma  (None, 8, 8, 256)   1024        ['conv_c3ic_branch_4_5[0][0]']   \n",
            " lization)                                                                                        \n",
            "                                                                                                  \n",
            " activation_829 (Activation)    (None, 8, 8, 256)    0           ['bn_c3ic_branch_1_2[0][0]']     \n",
            "                                                                                                  \n",
            " activation_830 (Activation)    (None, 8, 8, 256)    0           ['bn_c3ic_branch_2_1[0][0]']     \n",
            "                                                                                                  \n",
            " activation_832 (Activation)    (None, 8, 8, 256)    0           ['bn_c3ic_branch_3_2[0][0]']     \n",
            "                                                                                                  \n",
            " activation_833 (Activation)    (None, 8, 8, 256)    0           ['bn_c3ic_branch_3_3[0][0]']     \n",
            "                                                                                                  \n",
            " activation_837 (Activation)    (None, 8, 8, 256)    0           ['bn_c3ic_branch_4_4[0][0]']     \n",
            "                                                                                                  \n",
            " activation_838 (Activation)    (None, 8, 8, 256)    0           ['bn_c3ic_branch_4_5[0][0]']     \n",
            "                                                                                                  \n",
            " tf.concat_56 (TFOpLambda)      (None, 8, 8, 1536)   0           ['activation_829[0][0]',         \n",
            "                                                                  'activation_830[0][0]',         \n",
            "                                                                  'activation_832[0][0]',         \n",
            "                                                                  'activation_833[0][0]',         \n",
            "                                                                  'activation_837[0][0]',         \n",
            "                                                                  'activation_838[0][0]']         \n",
            "                                                                                                  \n",
            " avg_pool (AveragePooling2D)    (None, 1, 1, 1536)   0           ['tf.concat_56[0][0]']           \n",
            "                                                                                                  \n",
            " flatten_10 (Flatten)           (None, 1536)         0           ['avg_pool[0][0]']               \n",
            "                                                                                                  \n",
            " dropout_2 (Dropout)            (None, 1536)         0           ['flatten_10[0][0]']             \n",
            "                                                                                                  \n",
            " fc (Dense)                     (None, 3)            4611        ['dropout_2[0][0]']              \n",
            "                                                                                                  \n",
            "==================================================================================================\n",
            "Total params: 41,242,179\n",
            "Trainable params: 41,179,011\n",
            "Non-trainable params: 63,168\n",
            "__________________________________________________________________________________________________\n",
            "None\n"
          ]
        }
      ],
      "source": [
        "for name in names:\n",
        "    print(f'\\nPrinting summary of {name}')\n",
        "    print_summary(models, name)"
      ]
    },
    {
      "cell_type": "markdown",
      "metadata": {
        "id": "nW1tYvXtbeFT"
      },
      "source": [
        "## Fit"
      ]
    },
    {
      "cell_type": "code",
      "execution_count": 235,
      "metadata": {
        "id": "bIlXdgwabeFU"
      },
      "outputs": [],
      "source": [
        "def fit_models(models_dict):\n",
        "\n",
        "    histories = {}\n",
        "    for model_name, parameters in models_dict.items():\n",
        "        \n",
        "        print(f'\\nFitting {model_name}')\n",
        "        model = parameters['model']\n",
        "        utils = parameters['utils']\n",
        "        \n",
        "        model.construct_model()\n",
        "        model.compile_model(**utils.model_params_dict)\n",
        "\n",
        "        checkpoint = tf.keras.callbacks.ModelCheckpoint(**utils.checkpoint_params_dict)\n",
        "\n",
        "        callbacks = [\n",
        "            early_stop,\n",
        "            checkpoint,\n",
        "            model.epoch_time_callback\n",
        "        ]\n",
        "\n",
        "        if using_gpu:\n",
        "            print(f'Fitting with GPU')\n",
        "            with tf.device(device_name):\n",
        "                history = fit_(\n",
        "                    **utils.train_params_dict,\n",
        "                    model = model.model,\n",
        "                    callbacks = callbacks\n",
        "                )\n",
        "        else:\n",
        "            print(f'Fitting without GPU')\n",
        "            history = fit_(\n",
        "                **utils.train_params_dict,\n",
        "                model = model.model,\n",
        "                callbacks = callbacks\n",
        "            )\n",
        "        histories[model_name] = history  \n",
        "\n",
        "        if saving_models:\n",
        "            save_dir = f'{DataProps.models_path}{model.name}/'\n",
        "            \n",
        "            if not(isdir(save_dir)):\n",
        "                os.mkdir(save_dir)\n",
        "            assert os.path.isdir(save_dir) == True\n",
        "            \n",
        "            print(f'saving model to dir: {save_dir}')\n",
        "            model.save_model(\n",
        "                dir = save_dir\n",
        "            )\n",
        "\n",
        "    if saving_histories:\n",
        "        print(f'Saving histories to {DataProps.histories_path}')\n",
        "        save_histories(histories, DataProps.histories_path)\n",
        "\n",
        "    \n",
        "    if saving_train_times:\n",
        "        save_times_dir = DataProps.models_path + 'training_time.csv'\n",
        "        print(f'Saving training times to {save_times_dir}')\n",
        "        save_train_times(\n",
        "            models_dict = models,\n",
        "            save_dir = save_times_dir\n",
        "        )\n",
        "\n",
        "    return histories"
      ]
    },
    {
      "cell_type": "code",
      "execution_count": 236,
      "metadata": {
        "colab": {
          "base_uri": "https://localhost:8080/",
          "height": 502
        },
        "id": "WcUrfNzJbeFU",
        "outputId": "e23813f5-7da4-44fd-bb87-0d5d642ea559"
      },
      "outputs": [
        {
          "output_type": "stream",
          "name": "stdout",
          "text": [
            "\n",
            "Fitting Inception\n",
            "Fitting with GPU\n",
            "Epoch 1/500\n",
            "20/20 [==============================] - ETA: 0s - loss: 1.2250 - acc: 0.3672\n",
            "Epoch 00001: saving model to /content/drive/MyDrive/UNIPD/HDA/Project/Checkpoints/Inception/\n",
            "20/20 [==============================] - 108s 3s/step - loss: 1.2250 - acc: 0.3672 - val_loss: 1.0984 - val_acc: 0.3594\n",
            "Epoch 2/500\n",
            "18/20 [==========================>...] - ETA: 5s - loss: 1.1112 - acc: 0.3590"
          ]
        },
        {
          "output_type": "error",
          "ename": "KeyboardInterrupt",
          "evalue": "ignored",
          "traceback": [
            "\u001b[0;31m---------------------------------------------------------------------------\u001b[0m",
            "\u001b[0;31mKeyboardInterrupt\u001b[0m                         Traceback (most recent call last)",
            "\u001b[0;32m<ipython-input-236-7ee078ef3e8c>\u001b[0m in \u001b[0;36m<module>\u001b[0;34m()\u001b[0m\n\u001b[1;32m      1\u001b[0m histories = fit_models(\n\u001b[0;32m----> 2\u001b[0;31m     \u001b[0mmodels_dict\u001b[0m \u001b[0;34m=\u001b[0m \u001b[0mmodels\u001b[0m\u001b[0;34m\u001b[0m\u001b[0;34m\u001b[0m\u001b[0m\n\u001b[0m\u001b[1;32m      3\u001b[0m )\n",
            "\u001b[0;32m<ipython-input-235-75a9e644a547>\u001b[0m in \u001b[0;36mfit_models\u001b[0;34m(models_dict)\u001b[0m\n\u001b[1;32m     25\u001b[0m                     \u001b[0;34m**\u001b[0m\u001b[0mutils\u001b[0m\u001b[0;34m.\u001b[0m\u001b[0mtrain_params_dict\u001b[0m\u001b[0;34m,\u001b[0m\u001b[0;34m\u001b[0m\u001b[0;34m\u001b[0m\u001b[0m\n\u001b[1;32m     26\u001b[0m                     \u001b[0mmodel\u001b[0m \u001b[0;34m=\u001b[0m \u001b[0mmodel\u001b[0m\u001b[0;34m.\u001b[0m\u001b[0mmodel\u001b[0m\u001b[0;34m,\u001b[0m\u001b[0;34m\u001b[0m\u001b[0;34m\u001b[0m\u001b[0m\n\u001b[0;32m---> 27\u001b[0;31m                     \u001b[0mcallbacks\u001b[0m \u001b[0;34m=\u001b[0m \u001b[0mcallbacks\u001b[0m\u001b[0;34m\u001b[0m\u001b[0;34m\u001b[0m\u001b[0m\n\u001b[0m\u001b[1;32m     28\u001b[0m                 )\n\u001b[1;32m     29\u001b[0m         \u001b[0;32melse\u001b[0m\u001b[0;34m:\u001b[0m\u001b[0;34m\u001b[0m\u001b[0;34m\u001b[0m\u001b[0m\n",
            "\u001b[0;32m/content/Utils.py\u001b[0m in \u001b[0;36mfit_\u001b[0;34m(model, train_flow, train_steps, val_flow, val_steps, epochs, callbacks)\u001b[0m\n\u001b[1;32m    172\u001b[0m \u001b[0;34m\u001b[0m\u001b[0m\n\u001b[1;32m    173\u001b[0m         \u001b[0mepochs\u001b[0m \u001b[0;34m=\u001b[0m \u001b[0mepochs\u001b[0m\u001b[0;34m,\u001b[0m\u001b[0;34m\u001b[0m\u001b[0;34m\u001b[0m\u001b[0m\n\u001b[0;32m--> 174\u001b[0;31m         \u001b[0mcallbacks\u001b[0m \u001b[0;34m=\u001b[0m \u001b[0mcallbacks\u001b[0m\u001b[0;34m\u001b[0m\u001b[0;34m\u001b[0m\u001b[0m\n\u001b[0m\u001b[1;32m    175\u001b[0m     )\n\u001b[1;32m    176\u001b[0m     \u001b[0;32mreturn\u001b[0m \u001b[0mhistory\u001b[0m\u001b[0;34m\u001b[0m\u001b[0;34m\u001b[0m\u001b[0m\n",
            "\u001b[0;32m/usr/local/lib/python3.7/dist-packages/keras/utils/traceback_utils.py\u001b[0m in \u001b[0;36merror_handler\u001b[0;34m(*args, **kwargs)\u001b[0m\n\u001b[1;32m     62\u001b[0m     \u001b[0mfiltered_tb\u001b[0m \u001b[0;34m=\u001b[0m \u001b[0;32mNone\u001b[0m\u001b[0;34m\u001b[0m\u001b[0;34m\u001b[0m\u001b[0m\n\u001b[1;32m     63\u001b[0m     \u001b[0;32mtry\u001b[0m\u001b[0;34m:\u001b[0m\u001b[0;34m\u001b[0m\u001b[0;34m\u001b[0m\u001b[0m\n\u001b[0;32m---> 64\u001b[0;31m       \u001b[0;32mreturn\u001b[0m \u001b[0mfn\u001b[0m\u001b[0;34m(\u001b[0m\u001b[0;34m*\u001b[0m\u001b[0margs\u001b[0m\u001b[0;34m,\u001b[0m \u001b[0;34m**\u001b[0m\u001b[0mkwargs\u001b[0m\u001b[0;34m)\u001b[0m\u001b[0;34m\u001b[0m\u001b[0;34m\u001b[0m\u001b[0m\n\u001b[0m\u001b[1;32m     65\u001b[0m     \u001b[0;32mexcept\u001b[0m \u001b[0mException\u001b[0m \u001b[0;32mas\u001b[0m \u001b[0me\u001b[0m\u001b[0;34m:\u001b[0m  \u001b[0;31m# pylint: disable=broad-except\u001b[0m\u001b[0;34m\u001b[0m\u001b[0;34m\u001b[0m\u001b[0m\n\u001b[1;32m     66\u001b[0m       \u001b[0mfiltered_tb\u001b[0m \u001b[0;34m=\u001b[0m \u001b[0m_process_traceback_frames\u001b[0m\u001b[0;34m(\u001b[0m\u001b[0me\u001b[0m\u001b[0;34m.\u001b[0m\u001b[0m__traceback__\u001b[0m\u001b[0;34m)\u001b[0m\u001b[0;34m\u001b[0m\u001b[0;34m\u001b[0m\u001b[0m\n",
            "\u001b[0;32m/usr/local/lib/python3.7/dist-packages/keras/engine/training.py\u001b[0m in \u001b[0;36mfit\u001b[0;34m(self, x, y, batch_size, epochs, verbose, callbacks, validation_split, validation_data, shuffle, class_weight, sample_weight, initial_epoch, steps_per_epoch, validation_steps, validation_batch_size, validation_freq, max_queue_size, workers, use_multiprocessing)\u001b[0m\n\u001b[1;32m   1219\u001b[0m               \u001b[0mlogs\u001b[0m \u001b[0;34m=\u001b[0m \u001b[0mtmp_logs\u001b[0m  \u001b[0;31m# No error, now safe to assign to logs.\u001b[0m\u001b[0;34m\u001b[0m\u001b[0;34m\u001b[0m\u001b[0m\n\u001b[1;32m   1220\u001b[0m               \u001b[0mend_step\u001b[0m \u001b[0;34m=\u001b[0m \u001b[0mstep\u001b[0m \u001b[0;34m+\u001b[0m \u001b[0mdata_handler\u001b[0m\u001b[0;34m.\u001b[0m\u001b[0mstep_increment\u001b[0m\u001b[0;34m\u001b[0m\u001b[0;34m\u001b[0m\u001b[0m\n\u001b[0;32m-> 1221\u001b[0;31m               \u001b[0mcallbacks\u001b[0m\u001b[0;34m.\u001b[0m\u001b[0mon_train_batch_end\u001b[0m\u001b[0;34m(\u001b[0m\u001b[0mend_step\u001b[0m\u001b[0;34m,\u001b[0m \u001b[0mlogs\u001b[0m\u001b[0;34m)\u001b[0m\u001b[0;34m\u001b[0m\u001b[0;34m\u001b[0m\u001b[0m\n\u001b[0m\u001b[1;32m   1222\u001b[0m               \u001b[0;32mif\u001b[0m \u001b[0mself\u001b[0m\u001b[0;34m.\u001b[0m\u001b[0mstop_training\u001b[0m\u001b[0;34m:\u001b[0m\u001b[0;34m\u001b[0m\u001b[0;34m\u001b[0m\u001b[0m\n\u001b[1;32m   1223\u001b[0m                 \u001b[0;32mbreak\u001b[0m\u001b[0;34m\u001b[0m\u001b[0;34m\u001b[0m\u001b[0m\n",
            "\u001b[0;32m/usr/local/lib/python3.7/dist-packages/keras/callbacks.py\u001b[0m in \u001b[0;36mon_train_batch_end\u001b[0;34m(self, batch, logs)\u001b[0m\n\u001b[1;32m    434\u001b[0m     \"\"\"\n\u001b[1;32m    435\u001b[0m     \u001b[0;32mif\u001b[0m \u001b[0mself\u001b[0m\u001b[0;34m.\u001b[0m\u001b[0m_should_call_train_batch_hooks\u001b[0m\u001b[0;34m:\u001b[0m\u001b[0;34m\u001b[0m\u001b[0;34m\u001b[0m\u001b[0m\n\u001b[0;32m--> 436\u001b[0;31m       \u001b[0mself\u001b[0m\u001b[0;34m.\u001b[0m\u001b[0m_call_batch_hook\u001b[0m\u001b[0;34m(\u001b[0m\u001b[0mModeKeys\u001b[0m\u001b[0;34m.\u001b[0m\u001b[0mTRAIN\u001b[0m\u001b[0;34m,\u001b[0m \u001b[0;34m'end'\u001b[0m\u001b[0;34m,\u001b[0m \u001b[0mbatch\u001b[0m\u001b[0;34m,\u001b[0m \u001b[0mlogs\u001b[0m\u001b[0;34m=\u001b[0m\u001b[0mlogs\u001b[0m\u001b[0;34m)\u001b[0m\u001b[0;34m\u001b[0m\u001b[0;34m\u001b[0m\u001b[0m\n\u001b[0m\u001b[1;32m    437\u001b[0m \u001b[0;34m\u001b[0m\u001b[0m\n\u001b[1;32m    438\u001b[0m   \u001b[0;32mdef\u001b[0m \u001b[0mon_test_batch_begin\u001b[0m\u001b[0;34m(\u001b[0m\u001b[0mself\u001b[0m\u001b[0;34m,\u001b[0m \u001b[0mbatch\u001b[0m\u001b[0;34m,\u001b[0m \u001b[0mlogs\u001b[0m\u001b[0;34m=\u001b[0m\u001b[0;32mNone\u001b[0m\u001b[0;34m)\u001b[0m\u001b[0;34m:\u001b[0m\u001b[0;34m\u001b[0m\u001b[0;34m\u001b[0m\u001b[0m\n",
            "\u001b[0;32m/usr/local/lib/python3.7/dist-packages/keras/callbacks.py\u001b[0m in \u001b[0;36m_call_batch_hook\u001b[0;34m(self, mode, hook, batch, logs)\u001b[0m\n\u001b[1;32m    293\u001b[0m       \u001b[0mself\u001b[0m\u001b[0;34m.\u001b[0m\u001b[0m_call_batch_begin_hook\u001b[0m\u001b[0;34m(\u001b[0m\u001b[0mmode\u001b[0m\u001b[0;34m,\u001b[0m \u001b[0mbatch\u001b[0m\u001b[0;34m,\u001b[0m \u001b[0mlogs\u001b[0m\u001b[0;34m)\u001b[0m\u001b[0;34m\u001b[0m\u001b[0;34m\u001b[0m\u001b[0m\n\u001b[1;32m    294\u001b[0m     \u001b[0;32melif\u001b[0m \u001b[0mhook\u001b[0m \u001b[0;34m==\u001b[0m \u001b[0;34m'end'\u001b[0m\u001b[0;34m:\u001b[0m\u001b[0;34m\u001b[0m\u001b[0;34m\u001b[0m\u001b[0m\n\u001b[0;32m--> 295\u001b[0;31m       \u001b[0mself\u001b[0m\u001b[0;34m.\u001b[0m\u001b[0m_call_batch_end_hook\u001b[0m\u001b[0;34m(\u001b[0m\u001b[0mmode\u001b[0m\u001b[0;34m,\u001b[0m \u001b[0mbatch\u001b[0m\u001b[0;34m,\u001b[0m \u001b[0mlogs\u001b[0m\u001b[0;34m)\u001b[0m\u001b[0;34m\u001b[0m\u001b[0;34m\u001b[0m\u001b[0m\n\u001b[0m\u001b[1;32m    296\u001b[0m     \u001b[0;32melse\u001b[0m\u001b[0;34m:\u001b[0m\u001b[0;34m\u001b[0m\u001b[0;34m\u001b[0m\u001b[0m\n\u001b[1;32m    297\u001b[0m       raise ValueError(\n",
            "\u001b[0;32m/usr/local/lib/python3.7/dist-packages/keras/callbacks.py\u001b[0m in \u001b[0;36m_call_batch_end_hook\u001b[0;34m(self, mode, batch, logs)\u001b[0m\n\u001b[1;32m    314\u001b[0m       \u001b[0mself\u001b[0m\u001b[0;34m.\u001b[0m\u001b[0m_batch_times\u001b[0m\u001b[0;34m.\u001b[0m\u001b[0mappend\u001b[0m\u001b[0;34m(\u001b[0m\u001b[0mbatch_time\u001b[0m\u001b[0;34m)\u001b[0m\u001b[0;34m\u001b[0m\u001b[0;34m\u001b[0m\u001b[0m\n\u001b[1;32m    315\u001b[0m \u001b[0;34m\u001b[0m\u001b[0m\n\u001b[0;32m--> 316\u001b[0;31m     \u001b[0mself\u001b[0m\u001b[0;34m.\u001b[0m\u001b[0m_call_batch_hook_helper\u001b[0m\u001b[0;34m(\u001b[0m\u001b[0mhook_name\u001b[0m\u001b[0;34m,\u001b[0m \u001b[0mbatch\u001b[0m\u001b[0;34m,\u001b[0m \u001b[0mlogs\u001b[0m\u001b[0;34m)\u001b[0m\u001b[0;34m\u001b[0m\u001b[0;34m\u001b[0m\u001b[0m\n\u001b[0m\u001b[1;32m    317\u001b[0m \u001b[0;34m\u001b[0m\u001b[0m\n\u001b[1;32m    318\u001b[0m     \u001b[0;32mif\u001b[0m \u001b[0mlen\u001b[0m\u001b[0;34m(\u001b[0m\u001b[0mself\u001b[0m\u001b[0;34m.\u001b[0m\u001b[0m_batch_times\u001b[0m\u001b[0;34m)\u001b[0m \u001b[0;34m>=\u001b[0m \u001b[0mself\u001b[0m\u001b[0;34m.\u001b[0m\u001b[0m_num_batches_for_timing_check\u001b[0m\u001b[0;34m:\u001b[0m\u001b[0;34m\u001b[0m\u001b[0;34m\u001b[0m\u001b[0m\n",
            "\u001b[0;32m/usr/local/lib/python3.7/dist-packages/keras/callbacks.py\u001b[0m in \u001b[0;36m_call_batch_hook_helper\u001b[0;34m(self, hook_name, batch, logs)\u001b[0m\n\u001b[1;32m    352\u001b[0m     \u001b[0;32mfor\u001b[0m \u001b[0mcallback\u001b[0m \u001b[0;32min\u001b[0m \u001b[0mself\u001b[0m\u001b[0;34m.\u001b[0m\u001b[0mcallbacks\u001b[0m\u001b[0;34m:\u001b[0m\u001b[0;34m\u001b[0m\u001b[0;34m\u001b[0m\u001b[0m\n\u001b[1;32m    353\u001b[0m       \u001b[0mhook\u001b[0m \u001b[0;34m=\u001b[0m \u001b[0mgetattr\u001b[0m\u001b[0;34m(\u001b[0m\u001b[0mcallback\u001b[0m\u001b[0;34m,\u001b[0m \u001b[0mhook_name\u001b[0m\u001b[0;34m)\u001b[0m\u001b[0;34m\u001b[0m\u001b[0;34m\u001b[0m\u001b[0m\n\u001b[0;32m--> 354\u001b[0;31m       \u001b[0mhook\u001b[0m\u001b[0;34m(\u001b[0m\u001b[0mbatch\u001b[0m\u001b[0;34m,\u001b[0m \u001b[0mlogs\u001b[0m\u001b[0;34m)\u001b[0m\u001b[0;34m\u001b[0m\u001b[0;34m\u001b[0m\u001b[0m\n\u001b[0m\u001b[1;32m    355\u001b[0m \u001b[0;34m\u001b[0m\u001b[0m\n\u001b[1;32m    356\u001b[0m     \u001b[0;32mif\u001b[0m \u001b[0mself\u001b[0m\u001b[0;34m.\u001b[0m\u001b[0m_check_timing\u001b[0m\u001b[0;34m:\u001b[0m\u001b[0;34m\u001b[0m\u001b[0;34m\u001b[0m\u001b[0m\n",
            "\u001b[0;32m/usr/local/lib/python3.7/dist-packages/keras/callbacks.py\u001b[0m in \u001b[0;36mon_train_batch_end\u001b[0;34m(self, batch, logs)\u001b[0m\n\u001b[1;32m   1030\u001b[0m \u001b[0;34m\u001b[0m\u001b[0m\n\u001b[1;32m   1031\u001b[0m   \u001b[0;32mdef\u001b[0m \u001b[0mon_train_batch_end\u001b[0m\u001b[0;34m(\u001b[0m\u001b[0mself\u001b[0m\u001b[0;34m,\u001b[0m \u001b[0mbatch\u001b[0m\u001b[0;34m,\u001b[0m \u001b[0mlogs\u001b[0m\u001b[0;34m=\u001b[0m\u001b[0;32mNone\u001b[0m\u001b[0;34m)\u001b[0m\u001b[0;34m:\u001b[0m\u001b[0;34m\u001b[0m\u001b[0;34m\u001b[0m\u001b[0m\n\u001b[0;32m-> 1032\u001b[0;31m     \u001b[0mself\u001b[0m\u001b[0;34m.\u001b[0m\u001b[0m_batch_update_progbar\u001b[0m\u001b[0;34m(\u001b[0m\u001b[0mbatch\u001b[0m\u001b[0;34m,\u001b[0m \u001b[0mlogs\u001b[0m\u001b[0;34m)\u001b[0m\u001b[0;34m\u001b[0m\u001b[0;34m\u001b[0m\u001b[0m\n\u001b[0m\u001b[1;32m   1033\u001b[0m \u001b[0;34m\u001b[0m\u001b[0m\n\u001b[1;32m   1034\u001b[0m   \u001b[0;32mdef\u001b[0m \u001b[0mon_test_batch_end\u001b[0m\u001b[0;34m(\u001b[0m\u001b[0mself\u001b[0m\u001b[0;34m,\u001b[0m \u001b[0mbatch\u001b[0m\u001b[0;34m,\u001b[0m \u001b[0mlogs\u001b[0m\u001b[0;34m=\u001b[0m\u001b[0;32mNone\u001b[0m\u001b[0;34m)\u001b[0m\u001b[0;34m:\u001b[0m\u001b[0;34m\u001b[0m\u001b[0;34m\u001b[0m\u001b[0m\n",
            "\u001b[0;32m/usr/local/lib/python3.7/dist-packages/keras/callbacks.py\u001b[0m in \u001b[0;36m_batch_update_progbar\u001b[0;34m(self, batch, logs)\u001b[0m\n\u001b[1;32m   1102\u001b[0m     \u001b[0;32mif\u001b[0m \u001b[0mself\u001b[0m\u001b[0;34m.\u001b[0m\u001b[0mverbose\u001b[0m \u001b[0;34m==\u001b[0m \u001b[0;36m1\u001b[0m\u001b[0;34m:\u001b[0m\u001b[0;34m\u001b[0m\u001b[0;34m\u001b[0m\u001b[0m\n\u001b[1;32m   1103\u001b[0m       \u001b[0;31m# Only block async when verbose = 1.\u001b[0m\u001b[0;34m\u001b[0m\u001b[0;34m\u001b[0m\u001b[0;34m\u001b[0m\u001b[0m\n\u001b[0;32m-> 1104\u001b[0;31m       \u001b[0mlogs\u001b[0m \u001b[0;34m=\u001b[0m \u001b[0mtf_utils\u001b[0m\u001b[0;34m.\u001b[0m\u001b[0msync_to_numpy_or_python_type\u001b[0m\u001b[0;34m(\u001b[0m\u001b[0mlogs\u001b[0m\u001b[0;34m)\u001b[0m\u001b[0;34m\u001b[0m\u001b[0;34m\u001b[0m\u001b[0m\n\u001b[0m\u001b[1;32m   1105\u001b[0m       \u001b[0mself\u001b[0m\u001b[0;34m.\u001b[0m\u001b[0mprogbar\u001b[0m\u001b[0;34m.\u001b[0m\u001b[0mupdate\u001b[0m\u001b[0;34m(\u001b[0m\u001b[0mself\u001b[0m\u001b[0;34m.\u001b[0m\u001b[0mseen\u001b[0m\u001b[0;34m,\u001b[0m \u001b[0mlist\u001b[0m\u001b[0;34m(\u001b[0m\u001b[0mlogs\u001b[0m\u001b[0;34m.\u001b[0m\u001b[0mitems\u001b[0m\u001b[0;34m(\u001b[0m\u001b[0;34m)\u001b[0m\u001b[0;34m)\u001b[0m\u001b[0;34m,\u001b[0m \u001b[0mfinalize\u001b[0m\u001b[0;34m=\u001b[0m\u001b[0;32mFalse\u001b[0m\u001b[0;34m)\u001b[0m\u001b[0;34m\u001b[0m\u001b[0;34m\u001b[0m\u001b[0m\n\u001b[1;32m   1106\u001b[0m \u001b[0;34m\u001b[0m\u001b[0m\n",
            "\u001b[0;32m/usr/local/lib/python3.7/dist-packages/keras/utils/tf_utils.py\u001b[0m in \u001b[0;36msync_to_numpy_or_python_type\u001b[0;34m(tensors)\u001b[0m\n\u001b[1;32m    552\u001b[0m     \u001b[0;32mreturn\u001b[0m \u001b[0mt\u001b[0m  \u001b[0;31m# Don't turn ragged or sparse tensors to NumPy.\u001b[0m\u001b[0;34m\u001b[0m\u001b[0;34m\u001b[0m\u001b[0m\n\u001b[1;32m    553\u001b[0m \u001b[0;34m\u001b[0m\u001b[0m\n\u001b[0;32m--> 554\u001b[0;31m   \u001b[0;32mreturn\u001b[0m \u001b[0mtf\u001b[0m\u001b[0;34m.\u001b[0m\u001b[0mnest\u001b[0m\u001b[0;34m.\u001b[0m\u001b[0mmap_structure\u001b[0m\u001b[0;34m(\u001b[0m\u001b[0m_to_single_numpy_or_python_type\u001b[0m\u001b[0;34m,\u001b[0m \u001b[0mtensors\u001b[0m\u001b[0;34m)\u001b[0m\u001b[0;34m\u001b[0m\u001b[0;34m\u001b[0m\u001b[0m\n\u001b[0m\u001b[1;32m    555\u001b[0m \u001b[0;34m\u001b[0m\u001b[0m\n\u001b[1;32m    556\u001b[0m \u001b[0;34m\u001b[0m\u001b[0m\n",
            "\u001b[0;32m/usr/local/lib/python3.7/dist-packages/tensorflow/python/util/nest.py\u001b[0m in \u001b[0;36mmap_structure\u001b[0;34m(func, *structure, **kwargs)\u001b[0m\n\u001b[1;32m    867\u001b[0m \u001b[0;34m\u001b[0m\u001b[0m\n\u001b[1;32m    868\u001b[0m   return pack_sequence_as(\n\u001b[0;32m--> 869\u001b[0;31m       \u001b[0mstructure\u001b[0m\u001b[0;34m[\u001b[0m\u001b[0;36m0\u001b[0m\u001b[0;34m]\u001b[0m\u001b[0;34m,\u001b[0m \u001b[0;34m[\u001b[0m\u001b[0mfunc\u001b[0m\u001b[0;34m(\u001b[0m\u001b[0;34m*\u001b[0m\u001b[0mx\u001b[0m\u001b[0;34m)\u001b[0m \u001b[0;32mfor\u001b[0m \u001b[0mx\u001b[0m \u001b[0;32min\u001b[0m \u001b[0mentries\u001b[0m\u001b[0;34m]\u001b[0m\u001b[0;34m,\u001b[0m\u001b[0;34m\u001b[0m\u001b[0;34m\u001b[0m\u001b[0m\n\u001b[0m\u001b[1;32m    870\u001b[0m       expand_composites=expand_composites)\n\u001b[1;32m    871\u001b[0m \u001b[0;34m\u001b[0m\u001b[0m\n",
            "\u001b[0;32m/usr/local/lib/python3.7/dist-packages/tensorflow/python/util/nest.py\u001b[0m in \u001b[0;36m<listcomp>\u001b[0;34m(.0)\u001b[0m\n\u001b[1;32m    867\u001b[0m \u001b[0;34m\u001b[0m\u001b[0m\n\u001b[1;32m    868\u001b[0m   return pack_sequence_as(\n\u001b[0;32m--> 869\u001b[0;31m       \u001b[0mstructure\u001b[0m\u001b[0;34m[\u001b[0m\u001b[0;36m0\u001b[0m\u001b[0;34m]\u001b[0m\u001b[0;34m,\u001b[0m \u001b[0;34m[\u001b[0m\u001b[0mfunc\u001b[0m\u001b[0;34m(\u001b[0m\u001b[0;34m*\u001b[0m\u001b[0mx\u001b[0m\u001b[0;34m)\u001b[0m \u001b[0;32mfor\u001b[0m \u001b[0mx\u001b[0m \u001b[0;32min\u001b[0m \u001b[0mentries\u001b[0m\u001b[0;34m]\u001b[0m\u001b[0;34m,\u001b[0m\u001b[0;34m\u001b[0m\u001b[0;34m\u001b[0m\u001b[0m\n\u001b[0m\u001b[1;32m    870\u001b[0m       expand_composites=expand_composites)\n\u001b[1;32m    871\u001b[0m \u001b[0;34m\u001b[0m\u001b[0m\n",
            "\u001b[0;32m/usr/local/lib/python3.7/dist-packages/keras/utils/tf_utils.py\u001b[0m in \u001b[0;36m_to_single_numpy_or_python_type\u001b[0;34m(t)\u001b[0m\n\u001b[1;32m    548\u001b[0m   \u001b[0;32mdef\u001b[0m \u001b[0m_to_single_numpy_or_python_type\u001b[0m\u001b[0;34m(\u001b[0m\u001b[0mt\u001b[0m\u001b[0;34m)\u001b[0m\u001b[0;34m:\u001b[0m\u001b[0;34m\u001b[0m\u001b[0;34m\u001b[0m\u001b[0m\n\u001b[1;32m    549\u001b[0m     \u001b[0;32mif\u001b[0m \u001b[0misinstance\u001b[0m\u001b[0;34m(\u001b[0m\u001b[0mt\u001b[0m\u001b[0;34m,\u001b[0m \u001b[0mtf\u001b[0m\u001b[0;34m.\u001b[0m\u001b[0mTensor\u001b[0m\u001b[0;34m)\u001b[0m\u001b[0;34m:\u001b[0m\u001b[0;34m\u001b[0m\u001b[0;34m\u001b[0m\u001b[0m\n\u001b[0;32m--> 550\u001b[0;31m       \u001b[0mx\u001b[0m \u001b[0;34m=\u001b[0m \u001b[0mt\u001b[0m\u001b[0;34m.\u001b[0m\u001b[0mnumpy\u001b[0m\u001b[0;34m(\u001b[0m\u001b[0;34m)\u001b[0m\u001b[0;34m\u001b[0m\u001b[0;34m\u001b[0m\u001b[0m\n\u001b[0m\u001b[1;32m    551\u001b[0m       \u001b[0;32mreturn\u001b[0m \u001b[0mx\u001b[0m\u001b[0;34m.\u001b[0m\u001b[0mitem\u001b[0m\u001b[0;34m(\u001b[0m\u001b[0;34m)\u001b[0m \u001b[0;32mif\u001b[0m \u001b[0mnp\u001b[0m\u001b[0;34m.\u001b[0m\u001b[0mndim\u001b[0m\u001b[0;34m(\u001b[0m\u001b[0mx\u001b[0m\u001b[0;34m)\u001b[0m \u001b[0;34m==\u001b[0m \u001b[0;36m0\u001b[0m \u001b[0;32melse\u001b[0m \u001b[0mx\u001b[0m\u001b[0;34m\u001b[0m\u001b[0;34m\u001b[0m\u001b[0m\n\u001b[1;32m    552\u001b[0m     \u001b[0;32mreturn\u001b[0m \u001b[0mt\u001b[0m  \u001b[0;31m# Don't turn ragged or sparse tensors to NumPy.\u001b[0m\u001b[0;34m\u001b[0m\u001b[0;34m\u001b[0m\u001b[0m\n",
            "\u001b[0;32m/usr/local/lib/python3.7/dist-packages/tensorflow/python/framework/ops.py\u001b[0m in \u001b[0;36mnumpy\u001b[0;34m(self)\u001b[0m\n\u001b[1;32m   1147\u001b[0m     \"\"\"\n\u001b[1;32m   1148\u001b[0m     \u001b[0;31m# TODO(slebedev): Consider avoiding a copy for non-CPU or remote tensors.\u001b[0m\u001b[0;34m\u001b[0m\u001b[0;34m\u001b[0m\u001b[0;34m\u001b[0m\u001b[0m\n\u001b[0;32m-> 1149\u001b[0;31m     \u001b[0mmaybe_arr\u001b[0m \u001b[0;34m=\u001b[0m \u001b[0mself\u001b[0m\u001b[0;34m.\u001b[0m\u001b[0m_numpy\u001b[0m\u001b[0;34m(\u001b[0m\u001b[0;34m)\u001b[0m  \u001b[0;31m# pylint: disable=protected-access\u001b[0m\u001b[0;34m\u001b[0m\u001b[0;34m\u001b[0m\u001b[0m\n\u001b[0m\u001b[1;32m   1150\u001b[0m     \u001b[0;32mreturn\u001b[0m \u001b[0mmaybe_arr\u001b[0m\u001b[0;34m.\u001b[0m\u001b[0mcopy\u001b[0m\u001b[0;34m(\u001b[0m\u001b[0;34m)\u001b[0m \u001b[0;32mif\u001b[0m \u001b[0misinstance\u001b[0m\u001b[0;34m(\u001b[0m\u001b[0mmaybe_arr\u001b[0m\u001b[0;34m,\u001b[0m \u001b[0mnp\u001b[0m\u001b[0;34m.\u001b[0m\u001b[0mndarray\u001b[0m\u001b[0;34m)\u001b[0m \u001b[0;32melse\u001b[0m \u001b[0mmaybe_arr\u001b[0m\u001b[0;34m\u001b[0m\u001b[0;34m\u001b[0m\u001b[0m\n\u001b[1;32m   1151\u001b[0m \u001b[0;34m\u001b[0m\u001b[0m\n",
            "\u001b[0;32m/usr/local/lib/python3.7/dist-packages/tensorflow/python/framework/ops.py\u001b[0m in \u001b[0;36m_numpy\u001b[0;34m(self)\u001b[0m\n\u001b[1;32m   1113\u001b[0m   \u001b[0;32mdef\u001b[0m \u001b[0m_numpy\u001b[0m\u001b[0;34m(\u001b[0m\u001b[0mself\u001b[0m\u001b[0;34m)\u001b[0m\u001b[0;34m:\u001b[0m\u001b[0;34m\u001b[0m\u001b[0;34m\u001b[0m\u001b[0m\n\u001b[1;32m   1114\u001b[0m     \u001b[0;32mtry\u001b[0m\u001b[0;34m:\u001b[0m\u001b[0;34m\u001b[0m\u001b[0;34m\u001b[0m\u001b[0m\n\u001b[0;32m-> 1115\u001b[0;31m       \u001b[0;32mreturn\u001b[0m \u001b[0mself\u001b[0m\u001b[0;34m.\u001b[0m\u001b[0m_numpy_internal\u001b[0m\u001b[0;34m(\u001b[0m\u001b[0;34m)\u001b[0m\u001b[0;34m\u001b[0m\u001b[0;34m\u001b[0m\u001b[0m\n\u001b[0m\u001b[1;32m   1116\u001b[0m     \u001b[0;32mexcept\u001b[0m \u001b[0mcore\u001b[0m\u001b[0;34m.\u001b[0m\u001b[0m_NotOkStatusException\u001b[0m \u001b[0;32mas\u001b[0m \u001b[0me\u001b[0m\u001b[0;34m:\u001b[0m  \u001b[0;31m# pylint: disable=protected-access\u001b[0m\u001b[0;34m\u001b[0m\u001b[0;34m\u001b[0m\u001b[0m\n\u001b[1;32m   1117\u001b[0m       \u001b[0;32mraise\u001b[0m \u001b[0mcore\u001b[0m\u001b[0;34m.\u001b[0m\u001b[0m_status_to_exception\u001b[0m\u001b[0;34m(\u001b[0m\u001b[0me\u001b[0m\u001b[0;34m)\u001b[0m \u001b[0;32mfrom\u001b[0m \u001b[0;32mNone\u001b[0m  \u001b[0;31m# pylint: disable=protected-access\u001b[0m\u001b[0;34m\u001b[0m\u001b[0;34m\u001b[0m\u001b[0m\n",
            "\u001b[0;31mKeyboardInterrupt\u001b[0m: "
          ]
        }
      ],
      "source": [
        "histories = fit_models(\n",
        "    models_dict = models\n",
        ")"
      ]
    },
    {
      "cell_type": "code",
      "execution_count": null,
      "metadata": {
        "colab": {
          "base_uri": "https://localhost:8080/"
        },
        "id": "L-GukL4IJvsz",
        "outputId": "95375596-f2aa-49e9-c002-f9e4b803f4ed"
      },
      "outputs": [
        {
          "output_type": "execute_result",
          "data": {
            "text/plain": [
              "{'VGG19': <keras.callbacks.History at 0x7ff140100c90>}"
            ]
          },
          "metadata": {},
          "execution_count": 79
        }
      ],
      "source": [
        "histories"
      ]
    },
    {
      "cell_type": "code",
      "execution_count": null,
      "metadata": {
        "id": "XIa-1ARBrcpz",
        "outputId": "79566e14-0e82-4043-b636-2858643a8d66",
        "colab": {
          "base_uri": "https://localhost:8080/"
        }
      },
      "outputs": [
        {
          "output_type": "stream",
          "name": "stdout",
          "text": [
            "681/681 [==============================] - 177s 258ms/step - loss: 0.3172 - acc: 0.8708\n"
          ]
        }
      ],
      "source": [
        "if 'VGG19' in names:\n",
        "    m = collect_metrics(\n",
        "        {'VGG': models['VGG19']['model']}, test_flow, test_steps\n",
        "    )"
      ]
    },
    {
      "cell_type": "code",
      "execution_count": null,
      "metadata": {
        "colab": {
          "base_uri": "https://localhost:8080/"
        },
        "id": "A6NiJZcErVAP",
        "outputId": "b60820f8-e7a3-4ca3-acc3-8158218d584f"
      },
      "outputs": [
        {
          "name": "stdout",
          "output_type": "stream",
          "text": [
            "681/681 [==============================] - 174s 256ms/step - loss: 0.4739 - acc: 0.8311\n"
          ]
        }
      ],
      "source": [
        "if 'VGG16' in names:\n",
        "    m = collect_metrics(\n",
        "        {'VGG': models['VGG16']['model']}, test_flow, test_steps\n",
        "    )"
      ]
    },
    {
      "cell_type": "code",
      "execution_count": null,
      "metadata": {
        "colab": {
          "base_uri": "https://localhost:8080/"
        },
        "id": "-LbFq2gVPaJD",
        "outputId": "136b194f-50be-4c74-9e0c-a6ce63e52771"
      },
      "outputs": [
        {
          "name": "stdout",
          "output_type": "stream",
          "text": [
            "681/681 [==============================] - 161s 236ms/step - loss: 0.3934 - accuracy: 0.8767\n"
          ]
        }
      ],
      "source": [
        "if 'AlexNet' in names:\n",
        "    m = collect_metrics(\n",
        "        {'Alex': models['AlexNet']['model']}, test_flow, test_steps\n",
        "    )"
      ]
    },
    {
      "cell_type": "code",
      "execution_count": null,
      "metadata": {
        "colab": {
          "base_uri": "https://localhost:8080/"
        },
        "id": "yJ7N4rtPoQ7p",
        "outputId": "06d75ec2-94a9-422f-ce98-e81818161126"
      },
      "outputs": [
        {
          "name": "stdout",
          "output_type": "stream",
          "text": [
            "276/276 [==============================] - 49s 180ms/step - loss: 1.4012 - accuracy: 0.3333\n"
          ]
        },
        {
          "name": "stderr",
          "output_type": "stream",
          "text": [
            "/usr/local/lib/python3.7/dist-packages/sklearn/metrics/_classification.py:1318: UndefinedMetricWarning: Precision is ill-defined and being set to 0.0 in labels with no predicted samples. Use `zero_division` parameter to control this behavior.\n",
            "  _warn_prf(average, modifier, msg_start, len(result))\n"
          ]
        }
      ],
      "source": [
        "if 'ResNet' in names:\n",
        "    m = collect_metrics(\n",
        "            {'ResNet': models['ResNet']['model']}, test_flow, test_steps\n",
        "        )"
      ]
    },
    {
      "cell_type": "code",
      "execution_count": null,
      "metadata": {
        "colab": {
          "base_uri": "https://localhost:8080/"
        },
        "id": "ZIcHh1Lwi5TQ",
        "outputId": "29cfc143-513d-4d38-ab56-7a7d2e657bcf"
      },
      "outputs": [
        {
          "name": "stdout",
          "output_type": "stream",
          "text": [
            "69/69 [==============================] - 17s 254ms/step - loss: 1.0986 - accuracy: 0.3333\n"
          ]
        },
        {
          "name": "stderr",
          "output_type": "stream",
          "text": [
            "/usr/local/lib/python3.7/dist-packages/sklearn/metrics/_classification.py:1318: UndefinedMetricWarning: Precision is ill-defined and being set to 0.0 in labels with no predicted samples. Use `zero_division` parameter to control this behavior.\n",
            "  _warn_prf(average, modifier, msg_start, len(result))\n"
          ]
        }
      ],
      "source": [
        "if 'Inception' in names:\n",
        "    m = collect_metrics(\n",
        "            {'Inception': models['Inception']['model']}, test_flow, test_steps\n",
        "        )"
      ]
    },
    {
      "cell_type": "code",
      "execution_count": null,
      "metadata": {
        "colab": {
          "base_uri": "https://localhost:8080/"
        },
        "id": "4z44j222SB8t",
        "outputId": "16399cef-d398-4f53-9a51-2fb03c27aab5"
      },
      "outputs": [
        {
          "name": "stdout",
          "output_type": "stream",
          "text": [
            "681/681 [==============================] - 216s 318ms/step - loss: 0.7719 - acc: 0.8297\n"
          ]
        }
      ],
      "source": [
        "# To check if bugs\n",
        "if 'CNN' in names:\n",
        "    m = collect_metrics(\n",
        "        {'CNN': models['CNN']['model']}, test_flow, test_steps\n",
        "    )"
      ]
    },
    {
      "cell_type": "code",
      "execution_count": null,
      "metadata": {
        "colab": {
          "base_uri": "https://localhost:8080/"
        },
        "id": "g2enDTZdJvsz",
        "outputId": "900cbf06-23e1-4e0a-c1fe-08d522ebe2c2"
      },
      "outputs": [
        {
          "name": "stdout",
          "output_type": "stream",
          "text": [
            "138/138 [==============================] - 3s 21ms/step - loss: 0.6301 - acc: 0.6522\n"
          ]
        }
      ],
      "source": [
        "if 'Dropout' in names:\n",
        "    m = collect_metrics(\n",
        "            {'Dropout': models['Dropout']['model']}, test_flow, test_steps    \n",
        "        )"
      ]
    }
  ],
  "metadata": {
    "colab": {
      "name": "main.ipynb",
      "provenance": [],
      "toc_visible": true
    },
    "kernelspec": {
      "display_name": "Python 3",
      "language": "python",
      "name": "python3"
    },
    "language_info": {
      "codemirror_mode": {
        "name": "ipython",
        "version": 3
      },
      "file_extension": ".py",
      "mimetype": "text/x-python",
      "name": "python",
      "nbconvert_exporter": "python",
      "pygments_lexer": "ipython3",
      "version": "3.7.12"
    }
  },
  "nbformat": 4,
  "nbformat_minor": 0
}