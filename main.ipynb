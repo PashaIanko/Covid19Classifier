{
  "cells": [
    {
      "cell_type": "markdown",
      "source": [
        "# Packages & functions"
      ],
      "metadata": {
        "id": "IfsyMy5yRWKF"
      }
    },
    {
      "cell_type": "code",
      "source": [
        "import os\n",
        "import numpy as np\n",
        "import cv2\n",
        "import tensorflow as tf\n",
        "import matplotlib.pyplot as plt"
      ],
      "metadata": {
        "id": "F1ZGnrMJRY1b"
      },
      "execution_count": 1,
      "outputs": []
    },
    {
      "cell_type": "code",
      "source": [
        "from google.colab import drive\n",
        "drive.mount('/content/drive')"
      ],
      "metadata": {
        "id": "jJq4oSfhRZY6",
        "outputId": "7c09bb96-9e38-4a2e-e989-c4d2b966aa41",
        "colab": {
          "base_uri": "https://localhost:8080/"
        }
      },
      "execution_count": 2,
      "outputs": [
        {
          "output_type": "stream",
          "name": "stdout",
          "text": [
            "Mounted at /content/drive\n"
          ]
        }
      ]
    },
    {
      "cell_type": "code",
      "source": [
        "from tensorflow.keras import models\n",
        "\n",
        "from tensorflow.keras.layers import Conv2D as Conv2D\n",
        "from tensorflow.keras.layers import BatchNormalization as BatchNormalization\n",
        "from tensorflow.keras.layers import ReLU as ReLU\n",
        "from tensorflow.keras.layers import MaxPool2D as MaxPool2D\n",
        "from tensorflow.keras.layers import Flatten as Flatten\n",
        "from tensorflow.keras.layers import Dense as Dense\n",
        "\n",
        "from os.path import isdir\n",
        "import os\n",
        "import numpy as np\n",
        "\n",
        "from sklearn.model_selection import train_test_split\n",
        "\n",
        "# Plotting\n",
        "import seaborn as sns"
      ],
      "metadata": {
        "id": "c-oRA_bPUpOC"
      },
      "execution_count": 3,
      "outputs": []
    },
    {
      "cell_type": "code",
      "source": [
        "class DataProperties:\n",
        "    data_path = '/content/drive/MyDrive/UNIPD/HDA/Project/Data/'\n",
        "    covid_path = data_path + 'covid/'\n",
        "    pneumonia_path = data_path + 'pneumonia/'\n",
        "    healthy_path = data_path + 'normal/'\n",
        "\n",
        "    healthy_class = 0\n",
        "    covid_class = 1\n",
        "    pneumonia_class = 2\n",
        "\n",
        "class TrainParameters:\n",
        "    train_size = 0.8\n",
        "    random_state = 123\n",
        "    batch_size = 32\n",
        "    max_size = 50  # Max size of each class\n",
        "\n",
        "class PreprocParameters:\n",
        "    resize_shape = (300, 300)"
      ],
      "metadata": {
        "id": "5ATZ2_ALR7I0"
      },
      "execution_count": 4,
      "outputs": []
    },
    {
      "cell_type": "markdown",
      "source": [
        "# Data download"
      ],
      "metadata": {
        "id": "sdFefXHCRONl"
      }
    },
    {
      "cell_type": "markdown",
      "source": [
        "## Paths download"
      ],
      "metadata": {
        "id": "ZYflDFndXpq0"
      }
    },
    {
      "cell_type": "code",
      "source": [
        "# Load filenames\n",
        "def load_filenames(data_path, max_files = None):\n",
        "    p = os.listdir(data_path)\n",
        "    if max_files is not None:\n",
        "        p = p[: min(max_files, len(p))]\n",
        "    p = [data_path + file_path for file_path in p]\n",
        "    return p"
      ],
      "metadata": {
        "id": "_92ledl6RRkk"
      },
      "execution_count": 5,
      "outputs": []
    },
    {
      "cell_type": "code",
      "source": [
        "covid_fnames = load_filenames(DataProperties.covid_path, TrainParameters.max_size)\n",
        "pn_fnames = load_filenames(DataProperties.pneumonia_path, TrainParameters.max_size)\n",
        "healthy_fnames = load_filenames(DataProperties.healthy_path, TrainParameters.max_size)"
      ],
      "metadata": {
        "id": "Li1Ee7eKT4M2"
      },
      "execution_count": 6,
      "outputs": []
    },
    {
      "cell_type": "code",
      "source": [
        "covid_labels = np.full(\n",
        "    len(covid_fnames), fill_value = DataProperties.covid_class\n",
        ")\n",
        "\n",
        "pn_labels = np.full(\n",
        "    len(pn_fnames), fill_value = DataProperties.pneumonia_class\n",
        ")\n",
        "\n",
        "healthy_labels = np.full(\n",
        "    len(healthy_fnames), fill_value = DataProperties.healthy_class\n",
        ")"
      ],
      "metadata": {
        "id": "pe9xFnA0U5rt"
      },
      "execution_count": 7,
      "outputs": []
    },
    {
      "cell_type": "code",
      "source": [
        "X = [\n",
        "     *covid_fnames, *pn_fnames, *healthy_fnames\n",
        "]\n",
        "\n",
        "Y = [\n",
        "     *covid_labels, *pn_labels, *healthy_labels\n",
        "]"
      ],
      "metadata": {
        "id": "0o7Q9Lq8Wj58"
      },
      "execution_count": 8,
      "outputs": []
    },
    {
      "cell_type": "markdown",
      "source": [
        "## Split"
      ],
      "metadata": {
        "id": "qcXEfDYnXyKI"
      }
    },
    {
      "cell_type": "code",
      "source": [
        "X_train, X_test, Y_train, Y_test = train_test_split(\n",
        "    X, Y,\n",
        "    train_size = TrainParameters.train_size,\n",
        "    random_state = TrainParameters.random_state,\n",
        "    stratify = Y\n",
        ")"
      ],
      "metadata": {
        "id": "AMsWK_9iYKFq"
      },
      "execution_count": 9,
      "outputs": []
    },
    {
      "cell_type": "markdown",
      "source": [
        "# Data exploration"
      ],
      "metadata": {
        "id": "aMfvCUABX628"
      }
    },
    {
      "cell_type": "code",
      "source": [
        "_ = sns.countplot(Y)"
      ],
      "metadata": {
        "id": "wTUMvy49X8xl",
        "outputId": "a1d006d6-825d-4fc5-f129-70e3ae0bd6ca",
        "colab": {
          "base_uri": "https://localhost:8080/",
          "height": 320
        }
      },
      "execution_count": 10,
      "outputs": [
        {
          "output_type": "stream",
          "name": "stderr",
          "text": [
            "/usr/local/lib/python3.7/dist-packages/seaborn/_decorators.py:43: FutureWarning: Pass the following variable as a keyword arg: x. From version 0.12, the only valid positional argument will be `data`, and passing other arguments without an explicit keyword will result in an error or misinterpretation.\n",
            "  FutureWarning\n"
          ]
        },
        {
          "output_type": "display_data",
          "data": {
            "image/png": "[encoded data removed]",
            "text/plain": [
              "<Figure size 432x288 with 1 Axes>"
            ]
          },
          "metadata": {
            "needs_background": "light"
          }
        }
      ]
    },
    {
      "cell_type": "code",
      "source": [
        "_ = sns.countplot(Y_train)"
      ],
      "metadata": {
        "id": "qn1n967AYgC3",
        "outputId": "1e4d92a3-9b0a-4403-e1ee-990472c2ffa5",
        "colab": {
          "base_uri": "https://localhost:8080/",
          "height": 320
        }
      },
      "execution_count": 11,
      "outputs": [
        {
          "output_type": "stream",
          "name": "stderr",
          "text": [
            "/usr/local/lib/python3.7/dist-packages/seaborn/_decorators.py:43: FutureWarning: Pass the following variable as a keyword arg: x. From version 0.12, the only valid positional argument will be `data`, and passing other arguments without an explicit keyword will result in an error or misinterpretation.\n",
            "  FutureWarning\n"
          ]
        },
        {
          "output_type": "display_data",
          "data": {
            "image/png": "[encoded data removed]",
            "text/plain": [
              "<Figure size 432x288 with 1 Axes>"
            ]
          },
          "metadata": {
            "needs_background": "light"
          }
        }
      ]
    },
    {
      "cell_type": "code",
      "source": [
        "_ = sns.countplot(Y_test)"
      ],
      "metadata": {
        "id": "1SxMqGG4Ykge",
        "outputId": "9c8b248b-3002-4b9f-f70f-3a4622588974",
        "colab": {
          "base_uri": "https://localhost:8080/",
          "height": 320
        }
      },
      "execution_count": 12,
      "outputs": [
        {
          "output_type": "stream",
          "name": "stderr",
          "text": [
            "/usr/local/lib/python3.7/dist-packages/seaborn/_decorators.py:43: FutureWarning: Pass the following variable as a keyword arg: x. From version 0.12, the only valid positional argument will be `data`, and passing other arguments without an explicit keyword will result in an error or misinterpretation.\n",
            "  FutureWarning\n"
          ]
        },
        {
          "output_type": "display_data",
          "data": {
            "image/png": "[encoded data removed]",
            "text/plain": [
              "<Figure size 432x288 with 1 Axes>"
            ]
          },
          "metadata": {
            "needs_background": "light"
          }
        }
      ]
    },
    {
      "cell_type": "code",
      "source": [
        "def load_image(full_path):\n",
        "    print(f'Loading, {full_path}')\n",
        "    img = cv2.imread(full_path, cv2.IMREAD_COLOR)\n",
        "    print(type(img))\n",
        "    return img"
      ],
      "metadata": {
        "id": "E75yrMqRZCeV"
      },
      "execution_count": 13,
      "outputs": []
    },
    {
      "cell_type": "code",
      "source": [
        "print(X[0])\n",
        "im = load_image(X[0])\n",
        "plt.imshow(im.astype('uint8'))"
      ],
      "metadata": {
        "id": "I1GmN-DIZiZx",
        "outputId": "00b0dc06-4fc1-4e62-ccb9-7ab6c3be076c",
        "colab": {
          "base_uri": "https://localhost:8080/",
          "height": 338
        }
      },
      "execution_count": 14,
      "outputs": [
        {
          "output_type": "stream",
          "name": "stdout",
          "text": [
            "/content/drive/MyDrive/UNIPD/HDA/Project/Data/covid/COVID-19 (401).jpg\n",
            "Loading, /content/drive/MyDrive/UNIPD/HDA/Project/Data/covid/COVID-19 (401).jpg\n",
            "<class 'numpy.ndarray'>\n"
          ]
        },
        {
          "output_type": "execute_result",
          "data": {
            "text/plain": [
              "<matplotlib.image.AxesImage at 0x7fc66c3eaf10>"
            ]
          },
          "metadata": {},
          "execution_count": 14
        },
        {
          "output_type": "display_data",
          "data": {
            "image/png": "[encoded data removed]",
            "text/plain": [
              "<Figure size 432x288 with 1 Axes>"
            ]
          },
          "metadata": {
            "needs_background": "light"
          }
        }
      ]
    },
    {
      "cell_type": "code",
      "source": [
        "im = load_image(X_train[0])\n",
        "plt.imshow(im.astype('uint8'))"
      ],
      "metadata": {
        "id": "wFDVXHbHBPg8",
        "outputId": "5dded357-aabb-415e-ad46-9d3857dac8d0",
        "colab": {
          "base_uri": "https://localhost:8080/",
          "height": 321
        }
      },
      "execution_count": 15,
      "outputs": [
        {
          "output_type": "stream",
          "name": "stdout",
          "text": [
            "Loading, /content/drive/MyDrive/UNIPD/HDA/Project/Data/covid/COVID-19 (527).jpg\n",
            "<class 'numpy.ndarray'>\n"
          ]
        },
        {
          "output_type": "execute_result",
          "data": {
            "text/plain": [
              "<matplotlib.image.AxesImage at 0x7fc66c361250>"
            ]
          },
          "metadata": {},
          "execution_count": 15
        },
        {
          "output_type": "display_data",
          "data": {
            "image/png": "[encoded data removed]",
            "text/plain": [
              "<Figure size 432x288 with 1 Axes>"
            ]
          },
          "metadata": {
            "needs_background": "light"
          }
        }
      ]
    },
    {
      "cell_type": "markdown",
      "source": [
        "# Creating dataset"
      ],
      "metadata": {
        "id": "lMTsTfy9dOH1"
      }
    },
    {
      "cell_type": "code",
      "source": [
        "img_height, img_width = PreprocParameters.resize_shape \n",
        "batch_size = 4\n",
        "seed = 123\n",
        "validation_split = 0.2\n",
        "shuffle_train = True\n",
        "shuffle_test = True\n",
        "\n",
        "ds_train = tf.keras.preprocessing.image_dataset_from_directory(\n",
        "    DataProperties.data_path,\n",
        "    labels = 'inferred',\n",
        "    label_mode = 'int',\n",
        "    color_mode = 'rgb',\n",
        "    batch_size = batch_size,\n",
        "    image_size = (img_height, img_width),\n",
        "    shuffle = shuffle_train,\n",
        "    seed = seed,\n",
        "    validation_split = validation_split,\n",
        "    subset = 'training'\n",
        ")\n",
        "\n",
        "ds_validation = tf.keras.preprocessing.image_dataset_from_directory(\n",
        "    DataProperties.data_path,\n",
        "    labels = 'inferred',\n",
        "    label_mode = 'int',\n",
        "    # class_names = ,\n",
        "    color_mode = 'rgb',\n",
        "    batch_size = batch_size,\n",
        "    image_size = (img_height, img_width),\n",
        "    shuffle = shuffle_test,\n",
        "    seed = seed,\n",
        "    validation_split = validation_split,\n",
        "    subset = 'validation'\n",
        ")"
      ],
      "metadata": {
        "id": "czAJYBkDBjhQ",
        "outputId": "792a7f53-8801-4fd2-d565-8e9e02666e0b",
        "colab": {
          "base_uri": "https://localhost:8080/"
        }
      },
      "execution_count": 16,
      "outputs": [
        {
          "output_type": "stream",
          "name": "stdout",
          "text": [
            "Found 4575 files belonging to 3 classes.\n",
            "Using 3660 files for training.\n",
            "Found 4575 files belonging to 3 classes.\n",
            "Using 915 files for validation.\n"
          ]
        }
      ]
    },
    {
      "cell_type": "code",
      "source": [
        "for images, labels in ds_train.take(1):\n",
        "    for i in range(batch_size):\n",
        "        ax = plt.subplot(np.sqrt(batch_size), np.sqrt(batch_size), i + 1)\n",
        "        plt.imshow(images[i].numpy().astype(\"uint8\"))\n",
        "        plt.title(str(labels[i].numpy()))\n",
        "        plt.axis(\"off\")"
      ],
      "metadata": {
        "colab": {
          "base_uri": "https://localhost:8080/",
          "height": 264
        },
        "id": "XGfpWSYvLdvf",
        "outputId": "7da1cfb0-08a1-4d70-8840-309096d265c3"
      },
      "execution_count": 17,
      "outputs": [
        {
          "output_type": "display_data",
          "data": {
            "image/png": "[encoded data removed]",
            "text/plain": [
              "<Figure size 432x288 with 4 Axes>"
            ]
          },
          "metadata": {
            "needs_background": "light"
          }
        }
      ]
    },
    {
      "cell_type": "code",
      "source": [
        "def print_max_pix_val(ds):\n",
        "    for images, labels in ds.take(1):\n",
        "        for i in range(batch_size):\n",
        "            print(np.max(images[i].numpy()))\n",
        "            print(images[i].numpy().shape)\n",
        "\n",
        "print_max_pix_val(ds_train)\n",
        "print_max_pix_val(ds_validation)"
      ],
      "metadata": {
        "colab": {
          "base_uri": "https://localhost:8080/"
        },
        "id": "CkpM0PGrN2pM",
        "outputId": "6ee4bc65-d7d3-46cd-cbfe-c75145e64f59"
      },
      "execution_count": 18,
      "outputs": [
        {
          "output_type": "stream",
          "name": "stdout",
          "text": [
            "252.60275\n",
            "(300, 300, 3)\n",
            "255.0\n",
            "(300, 300, 3)\n",
            "250.94814\n",
            "(300, 300, 3)\n",
            "255.0\n",
            "(300, 300, 3)\n",
            "249.80574\n",
            "(300, 300, 3)\n",
            "252.22665\n",
            "(300, 300, 3)\n",
            "250.67702\n",
            "(300, 300, 3)\n",
            "254.496\n",
            "(300, 300, 3)\n"
          ]
        }
      ]
    },
    {
      "cell_type": "markdown",
      "source": [
        "# Data preprocessing"
      ],
      "metadata": {
        "id": "6iQOxeh3PB6V"
      }
    },
    {
      "cell_type": "markdown",
      "source": [
        "## Normalization"
      ],
      "metadata": {
        "id": "xD_1__EPP0Gn"
      }
    },
    {
      "cell_type": "code",
      "source": [
        "def normalize_image(image, y):\n",
        "    return tf.cast(image, tf.float32) / 255., y"
      ],
      "metadata": {
        "id": "BQD6FacLPGGQ"
      },
      "execution_count": 19,
      "outputs": []
    },
    {
      "cell_type": "code",
      "source": [
        "ds_train = ds_train.map(normalize_image)\n",
        "ds_validation = ds_validation.map(normalize_image)\n",
        "\n",
        "print_max_pix_val(ds_train)\n",
        "print_max_pix_val(ds_validation)"
      ],
      "metadata": {
        "colab": {
          "base_uri": "https://localhost:8080/"
        },
        "id": "OE1nWFarPTa3",
        "outputId": "1f88b773-4a6d-4f05-ca4f-80170dfd0c2d"
      },
      "execution_count": 20,
      "outputs": [
        {
          "output_type": "stream",
          "name": "stdout",
          "text": [
            "0.9997136\n",
            "(300, 300, 3)\n",
            "1.0\n",
            "(300, 300, 3)\n",
            "1.0\n",
            "(300, 300, 3)\n",
            "0.9937647\n",
            "(300, 300, 3)\n",
            "1.0\n",
            "(300, 300, 3)\n",
            "1.0\n",
            "(300, 300, 3)\n",
            "0.9985647\n",
            "(300, 300, 3)\n",
            "1.0\n",
            "(300, 300, 3)\n"
          ]
        }
      ]
    },
    {
      "cell_type": "markdown",
      "source": [
        "# CNN"
      ],
      "metadata": {
        "id": "Ce9eCugYS2cE"
      }
    },
    {
      "cell_type": "code",
      "source": [
        "# model = models.Sequential()\n",
        "# model.add(Conv2D(32, (3,3), activation = 'relu', input_shape = (300, 300, 3)))\n",
        "# model.add(MaxPooling2D((2, 2)))\n",
        "# model.add(Conv2D(64, (3,3), activation = 'relu')\n",
        "# model.add(MaxPooling2D((2, 2)))\n",
        "# model.add(Conv2D(64, (3,3), activation = 'relu')\n",
        "\n",
        "model = models.Sequential()\n",
        "model.add(Conv2D(32, (3, 3), activation='relu', input_shape=(300, 300, 3)))\n",
        "model.add(MaxPool2D((2, 2)))\n",
        "model.add(Conv2D(64, (3, 3), activation='relu'))\n",
        "model.add(MaxPool2D((2, 2)))\n",
        "model.add(Conv2D(64, (3, 3), activation='relu'))\n",
        "model.add(Flatten())\n",
        "model.add(Dense(64, activation = 'relu'))\n",
        "model.add(Dense(3))"
      ],
      "metadata": {
        "id": "6EwzU1ckQMje"
      },
      "execution_count": 21,
      "outputs": []
    },
    {
      "cell_type": "code",
      "source": [
        "model.summary()"
      ],
      "metadata": {
        "id": "5qZ8zh14T2tZ",
        "outputId": "b8ac9e59-12ec-4467-d01f-25c326347e5c",
        "colab": {
          "base_uri": "https://localhost:8080/"
        }
      },
      "execution_count": 22,
      "outputs": [
        {
          "output_type": "stream",
          "name": "stdout",
          "text": [
            "Model: \"sequential\"\n",
            "_________________________________________________________________\n",
            " Layer (type)                Output Shape              Param #   \n",
            "=================================================================\n",
            " conv2d (Conv2D)             (None, 298, 298, 32)      896       \n",
            "                                                                 \n",
            " max_pooling2d (MaxPooling2D  (None, 149, 149, 32)     0         \n",
            " )                                                               \n",
            "                                                                 \n",
            " conv2d_1 (Conv2D)           (None, 147, 147, 64)      18496     \n",
            "                                                                 \n",
            " max_pooling2d_1 (MaxPooling  (None, 73, 73, 64)       0         \n",
            " 2D)                                                             \n",
            "                                                                 \n",
            " conv2d_2 (Conv2D)           (None, 71, 71, 64)        36928     \n",
            "                                                                 \n",
            " flatten (Flatten)           (None, 322624)            0         \n",
            "                                                                 \n",
            " dense (Dense)               (None, 64)                20648000  \n",
            "                                                                 \n",
            " dense_1 (Dense)             (None, 3)                 195       \n",
            "                                                                 \n",
            "=================================================================\n",
            "Total params: 20,704,515\n",
            "Trainable params: 20,704,515\n",
            "Non-trainable params: 0\n",
            "_________________________________________________________________\n"
          ]
        }
      ]
    },
    {
      "cell_type": "code",
      "source": [
        "model.compile(\n",
        "    optimizer = 'adam',\n",
        "    loss = tf.keras.losses.SparseCategoricalCrossentropy(from_logits = True),\n",
        "    metrics = ['accuracy']\n",
        ")"
      ],
      "metadata": {
        "id": "5J8DK1ueUJXE"
      },
      "execution_count": 23,
      "outputs": []
    },
    {
      "cell_type": "code",
      "source": [
        "history = model.fit(\n",
        "    ds_train,  # ds_validation,\n",
        "    epochs = 10,\n",
        "    verbose = 2\n",
        ")"
      ],
      "metadata": {
        "id": "24j9Lk6qUQpC",
        "outputId": "76c7950f-f335-46be-9ee0-a8c611c6fca2",
        "colab": {
          "base_uri": "https://localhost:8080/"
        }
      },
      "execution_count": 25,
      "outputs": [
        {
          "output_type": "stream",
          "name": "stdout",
          "text": [
            "Epoch 1/10\n",
            "229/229 - 109s - loss: 0.6094 - accuracy: 0.7956 - 109s/epoch - 478ms/step\n",
            "Epoch 2/10\n",
            "229/229 - 13s - loss: 0.4155 - accuracy: 0.8623 - 13s/epoch - 58ms/step\n",
            "Epoch 3/10\n",
            "229/229 - 14s - loss: 0.2848 - accuracy: 0.8842 - 14s/epoch - 59ms/step\n",
            "Epoch 4/10\n",
            "229/229 - 13s - loss: 0.1803 - accuracy: 0.9213 - 13s/epoch - 58ms/step\n",
            "Epoch 5/10\n",
            "229/229 - 14s - loss: 0.1459 - accuracy: 0.9519 - 14s/epoch - 59ms/step\n",
            "Epoch 6/10\n",
            "229/229 - 14s - loss: 0.0970 - accuracy: 0.9672 - 14s/epoch - 60ms/step\n",
            "Epoch 7/10\n",
            "229/229 - 14s - loss: 0.1293 - accuracy: 0.9617 - 14s/epoch - 59ms/step\n",
            "Epoch 8/10\n",
            "229/229 - 14s - loss: 0.0327 - accuracy: 0.9923 - 14s/epoch - 59ms/step\n",
            "Epoch 9/10\n",
            "229/229 - 14s - loss: 0.0547 - accuracy: 0.9847 - 14s/epoch - 59ms/step\n",
            "Epoch 10/10\n",
            "229/229 - 14s - loss: 0.0381 - accuracy: 0.9880 - 14s/epoch - 60ms/step\n"
          ]
        }
      ]
    },
    {
      "cell_type": "code",
      "source": [
        "history.history.keys()"
      ],
      "metadata": {
        "id": "g15OHCoDWimv",
        "outputId": "247bf811-c334-4f95-ad87-eabd4fbc2ad4",
        "colab": {
          "base_uri": "https://localhost:8080/"
        }
      },
      "execution_count": 28,
      "outputs": [
        {
          "output_type": "execute_result",
          "data": {
            "text/plain": [
              "dict_keys(['loss', 'accuracy'])"
            ]
          },
          "metadata": {},
          "execution_count": 28
        }
      ]
    },
    {
      "cell_type": "code",
      "source": [
        "plt.plot(history.history['accuracy'], label='accuracy')\n",
        "\n",
        "plt.plot(history.history['loss'], label = 'val_accuracy')\n",
        "plt.xlabel('Epoch')\n",
        "plt.ylabel('Accuracy')\n",
        "plt.ylim([0.5, 1])\n",
        "plt.legend(loc='lower right')"
      ],
      "metadata": {
        "id": "94oSUwqSUV4-",
        "outputId": "b2d1a67b-eb1f-414f-b398-fc5cee386452",
        "colab": {
          "base_uri": "https://localhost:8080/",
          "height": 300
        }
      },
      "execution_count": 29,
      "outputs": [
        {
          "output_type": "execute_result",
          "data": {
            "text/plain": [
              "<matplotlib.legend.Legend at 0x7fc57811a550>"
            ]
          },
          "metadata": {},
          "execution_count": 29
        },
        {
          "output_type": "display_data",
          "data": {
            "image/png": "[encoded data removed]",
            "text/plain": [
              "<Figure size 432x288 with 1 Axes>"
            ]
          },
          "metadata": {
            "needs_background": "light"
          }
        }
      ]
    },
    {
      "cell_type": "code",
      "source": [
        "test_loss, test_acc = model.evaluate(ds_validation, verbose = 2)  # (ds_train, verbose=2)\n",
        "print(test_acc)"
      ],
      "metadata": {
        "id": "BcB0wwxHUmtY"
      },
      "execution_count": null,
      "outputs": []
    },
    {
      "cell_type": "markdown",
      "source": [
        "## Other stuff"
      ],
      "metadata": {
        "id": "uxFIrgLvP2MM"
      }
    },
    {
      "cell_type": "code",
      "source": [
        "def LOAD_IMAGE(full_path):\n",
        "    print(f'Loading, {full_path}')\n",
        "    file = tf.io.read_file(full_path)\n",
        "    extension = full_path[-3:]\n",
        "    if extension == 'jpg':\n",
        "        image_decoded = tf.io.decode_jpeg(file, channels=3)\n",
        "        image = tf.cast(image_decoded, tf.float32)\n",
        "        \n",
        "    if extension == 'png':\n",
        "        image_decoded = tf.io.decode_jpeg(file, channels=3)\n",
        "        image = tf.cast(image_decoded, tf.float32)\n",
        "    else:\n",
        "        image_decoded = tf.io.decode_jpeg(file, channels=3)\n",
        "        image = tf.cast(image_decoded, tf.float32)\n",
        "    return image\n",
        "\n",
        "def resize_image(image, new_shape):\n",
        "    n = cv2.resize(image, new_shape)\n",
        "    return n\n",
        "\n",
        "def normalize_image(image):\n",
        "    return tf.cast(image, tf.float32) / 255.\n",
        "\n",
        "\n",
        "def create_dataset(file_names, shuffle, cache_file):\n",
        "    dataset = tf.data.Dataset.from_tensor_slices(\n",
        "        file_names\n",
        "    )\n",
        "\n",
        "    # load image func\n",
        "    load_im = lambda full_path: (\n",
        "        tf.numpy_function(LOAD_IMAGE, [full_path], tf.float32)\n",
        "    )\n",
        "\n",
        "    # # resize\n",
        "    # resize_im = lambda image: (\n",
        "    #     tf.numpy_function(\n",
        "    #         resize_image, \n",
        "    #         [image, PreprocParameters.resize_shape], \n",
        "    #         tf.float32\n",
        "    #     )\n",
        "    # )\n",
        "\n",
        "    # # normalize\n",
        "    # normalize_im = lambda image: (\n",
        "    #     tf.numpy_function(\n",
        "    #         normalize_image,\n",
        "    #         [image],\n",
        "    #         tf.float32\n",
        "    #     )\n",
        "    # )\n",
        "\n",
        "    dataset = dataset.map(load_im, num_parallel_calls = os.cpu_count())\n",
        "    # dataset = dataset.map(resize_im, num_parallel_calls = os.cpu_count())\n",
        "    # dataset = dataset.map(normalize_im, num_parallel_calls = os.cpu_count())\n",
        "\n",
        "    # Cache dataset\n",
        "    if cache_file:\n",
        "        dataset = dataset.cache(cache_file)\n",
        "\n",
        "    # Shuffle\n",
        "    #if shuffle:\n",
        "    #    dataset = dataset.shuffle(len(file_names))\n",
        "\n",
        "    # Repeat the dataset indefinitely\n",
        "    # dataset = dataset.repeat()\n",
        "\n",
        "    # Batch\n",
        "    # dataset = dataset.batch(\n",
        "     #   batch_size = TrainParameters.batch_size\n",
        "    #)\n",
        "\n",
        "    # Prefetch\n",
        "    #dataset = dataset.prefetch(buffer_size = 1)\n",
        "\n",
        "    return dataset"
      ],
      "metadata": {
        "id": "h4wRlcpsdWY_"
      },
      "execution_count": null,
      "outputs": []
    },
    {
      "cell_type": "code",
      "source": [
        "train_dataset = create_dataset(\n",
        "    X_train,\n",
        "    shuffle = True,\n",
        "    cache_file = None # 'train_cache'\n",
        ")\n",
        "\n",
        "test_dataset = create_dataset(\n",
        "    X_test,\n",
        "    shuffle = True,\n",
        "    cache_file = None # 'test_cache'\n",
        ")"
      ],
      "metadata": {
        "id": "ZvIa-o7KiBHi"
      },
      "execution_count": null,
      "outputs": []
    },
    {
      "cell_type": "markdown",
      "source": [
        "# CNN model"
      ],
      "metadata": {
        "id": "wMyqUKipUnqN"
      }
    },
    {
      "cell_type": "code",
      "source": [
        "train_dataset.take(2)"
      ],
      "metadata": {
        "id": "pnGjOZD-2bqG",
        "outputId": "2c22478a-c0a4-4293-9dcc-68bdac54f19b",
        "colab": {
          "base_uri": "https://localhost:8080/"
        }
      },
      "execution_count": null,
      "outputs": [
        {
          "output_type": "execute_result",
          "data": {
            "text/plain": [
              "<TakeDataset shapes: <unknown>, types: tf.float32>"
            ]
          },
          "metadata": {},
          "execution_count": 67
        }
      ]
    },
    {
      "cell_type": "code",
      "source": [
        "for im in train_dataset.take(5):\n",
        "    plt.imshow(im)"
      ],
      "metadata": {
        "colab": {
          "base_uri": "https://localhost:8080/",
          "height": 488
        },
        "id": "MtwjcfZmtCUZ",
        "outputId": "4c7b0f22-7f6b-4d7d-beac-9c0e8a4833fe"
      },
      "execution_count": null,
      "outputs": [
        {
          "output_type": "stream",
          "name": "stderr",
          "text": [
            "Clipping input data to the valid range for imshow with RGB data ([0..1] for floats or [0..255] for integers).\n",
            "Clipping input data to the valid range for imshow with RGB data ([0..1] for floats or [0..255] for integers).\n",
            "Clipping input data to the valid range for imshow with RGB data ([0..1] for floats or [0..255] for integers).\n",
            "Clipping input data to the valid range for imshow with RGB data ([0..1] for floats or [0..255] for integers).\n"
          ]
        },
        {
          "output_type": "stream",
          "name": "stdout",
          "text": [
            "Loading, b'/content/drive/MyDrive/UNIPD/HDA/Project/Data/covid/COVID-19 (527).jpg'\n",
            "Loading, b'/content/drive/MyDrive/UNIPD/HDA/Project/Data/normal/00000419_000.png'\n",
            "Loading, b'/content/drive/MyDrive/UNIPD/HDA/Project/Data/covid/COVID-19 (408).jpg'\n",
            "Loading, b'/content/drive/MyDrive/UNIPD/HDA/Project/Data/normal/00000366_001.png'\n",
            "Loading, b'/content/drive/MyDrive/UNIPD/HDA/Project/Data/normal/00000370_007.png'\n",
            "Loading, b'/content/drive/MyDrive/UNIPD/HDA/Project/Data/pneumonia/person1313_bacteria_3320.jpeg'\n",
            "Loading, b'/content/drive/MyDrive/UNIPD/HDA/Project/Data/normal/00000427_001.png'\n"
          ]
        },
        {
          "output_type": "stream",
          "name": "stderr",
          "text": [
            "Clipping input data to the valid range for imshow with RGB data ([0..1] for floats or [0..255] for integers).\n"
          ]
        },
        {
          "output_type": "display_data",
          "data": {
            "image/png": "[encoded data removed]",
            "text/plain": [
              "<Figure size 432x288 with 1 Axes>"
            ]
          },
          "metadata": {
            "needs_background": "light"
          }
        }
      ]
    }
  ],
  "metadata": {
    "kernelspec": {
      "display_name": "Python 3",
      "language": "python",
      "name": "python3"
    },
    "language_info": {
      "codemirror_mode": {
        "name": "ipython",
        "version": 3
      },
      "file_extension": ".py",
      "mimetype": "text/x-python",
      "name": "python",
      "nbconvert_exporter": "python",
      "pygments_lexer": "ipython3",
      "version": "3.9.7"
    },
    "colab": {
      "name": "main.ipynb",
      "provenance": []
    },
    "accelerator": "GPU"
  },
  "nbformat": 4,
  "nbformat_minor": 0
}